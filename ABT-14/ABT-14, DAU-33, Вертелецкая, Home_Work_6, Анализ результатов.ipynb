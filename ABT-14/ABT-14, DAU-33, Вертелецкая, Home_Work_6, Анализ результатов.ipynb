{
 "cells": [
  {
   "cell_type": "markdown",
   "id": "9f22c58e",
   "metadata": {},
   "source": [
    "# Домашнее задание Анализ результатов\n",
    "\n",
    "\n",
    "\n",
    "1. Отфильтруйте датасет по своей гипотезе. Используйте метрику, которая описана в блоке “Ожидаем”\n",
    "2. Постройте периодический p-value по выбранной метрике (сплит уже произведен)\n",
    "    * Разбейте общее количество наблюдений на 7 участков (используйте столбец даты)\n",
    "    * Для каждого участка используйте встроенную функцию ТТЕСТ() в excel, чтобы сравнить тестовую и котрольную группы\n",
    "    * 7 полученных значений p-value визуализируйте на графике\n",
    "3. На основе графика сделайте вывод о значимости результатов.\n"
   ]
  },
  {
   "cell_type": "markdown",
   "id": "6ad8555f",
   "metadata": {},
   "source": [
    "**фичa для анализа:**\n",
    "\n",
    "Если юзер Android нажимает “отменить”, предлагать промокод в случае НЕ отмены\n",
    "\n",
    "Ожидаем: ниже отмены на Android устройствах"
   ]
  },
  {
   "cell_type": "code",
   "execution_count": 1,
   "id": "80ae989d",
   "metadata": {},
   "outputs": [],
   "source": [
    "#подключаем библиотеки\n",
    "import pandas as pd\n",
    "import numpy as np\n",
    "import matplotlib.pyplot as plt\n",
    "import random\n",
    "import scipy.stats as stats\n",
    "from scipy.stats import ttest_ind"
   ]
  },
  {
   "cell_type": "code",
   "execution_count": null,
   "id": "1bc79e7b",
   "metadata": {},
   "outputs": [],
   "source": [
    "#загружаем файл\n",
    "df = pd.read_csv('post_abtest_data.csv', sep=',')"
   ]
  },
  {
   "cell_type": "code",
   "execution_count": null,
   "id": "04590cde",
   "metadata": {},
   "outputs": [],
   "source": [
    "df.head(20)"
   ]
  },
  {
   "cell_type": "code",
   "execution_count": null,
   "id": "fd195fd9",
   "metadata": {},
   "outputs": [],
   "source": [
    "df.info()"
   ]
  },
  {
   "cell_type": "markdown",
   "id": "d858b766",
   "metadata": {},
   "source": [
    "проверим значения в столбцах user_cancelled и city_center_order "
   ]
  },
  {
   "cell_type": "code",
   "execution_count": null,
   "id": "a95d5810",
   "metadata": {},
   "outputs": [],
   "source": [
    "df['user_cancelled'].unique()"
   ]
  },
  {
   "cell_type": "code",
   "execution_count": null,
   "id": "2562a37b",
   "metadata": {},
   "outputs": [],
   "source": [
    "df['city_center_order'].unique()"
   ]
  },
  {
   "cell_type": "markdown",
   "id": "06a58afb",
   "metadata": {},
   "source": [
    "т.е. в столбцах user_cancelled и city_center_order значение NaN соответствует данным, по которым не было совершено заказа."
   ]
  },
  {
   "cell_type": "code",
   "execution_count": null,
   "id": "91931b8c",
   "metadata": {},
   "outputs": [],
   "source": [
    "#фильтр для пользователей андроид, которые делали заказ\n",
    "df_android = df[(df['os'] == 'Android') & (df['order_made'] == 1)]\n",
    "df_android"
   ]
  },
  {
   "cell_type": "code",
   "execution_count": null,
   "id": "824bfa9d",
   "metadata": {},
   "outputs": [],
   "source": [
    "#группируем по ID, группе теста и дате с агрегацией на количество отмен\n",
    "df_android = df_android.groupby(['user_id','groups','date']).agg({'user_cancelled':'sum'}).reset_index()\n",
    "df_android"
   ]
  },
  {
   "cell_type": "code",
   "execution_count": null,
   "id": "c8973e18",
   "metadata": {},
   "outputs": [],
   "source": [
    "# какие даты есть в df_android\n",
    "df_android.date.unique() "
   ]
  },
  {
   "cell_type": "code",
   "execution_count": null,
   "id": "8f585819",
   "metadata": {},
   "outputs": [],
   "source": [
    "#смотрим длину групп 1 и 2\n",
    "len(df_android[df_android['groups']=='Test']), len(df_android[df_android['groups']=='Control'])"
   ]
  },
  {
   "cell_type": "code",
   "execution_count": null,
   "id": "0b06a570",
   "metadata": {},
   "outputs": [],
   "source": [
    "# делим датасет на 7 частей. Для выборки взяла по 2500 (т.к. 18522/7=2646) для равенства контрольно-тестовых групп.\n",
    "day_1_control = df_android[(df_android.date == '2020-05-25') & (df_android.groups == 'Control')]['user_cancelled'].dropna().sample(n=2500)\n",
    "day_1_test = df_android[(df_android.date == '2020-05-25') & (df_android.groups == 'Test')]['user_cancelled'].dropna().sample(n=2500)"
   ]
  },
  {
   "cell_type": "code",
   "execution_count": null,
   "id": "fa1d52b9",
   "metadata": {},
   "outputs": [],
   "source": [
    "day_2_control = df_android[(df_android.date == '2020-05-26') & (df_android.groups == 'Control')]['user_cancelled'].dropna().sample(n=2500)\n",
    "day_2_test = df_android[(df_android.date == '2020-05-26') & (df_android.groups == 'Test')]['user_cancelled'].dropna().sample(n=2500)"
   ]
  },
  {
   "cell_type": "code",
   "execution_count": null,
   "id": "b0bdf6e7",
   "metadata": {},
   "outputs": [],
   "source": [
    "day_3_control = df_android[(df_android.date == '2020-05-27') & (df_android.groups == 'Control')]['user_cancelled'].dropna().sample(n=2500)\n",
    "day_3_test = df_android[(df_android.date == '2020-05-27') & (df_android.groups == 'Test')]['user_cancelled'].dropna().sample(n=2500)"
   ]
  },
  {
   "cell_type": "code",
   "execution_count": null,
   "id": "cb727ed9",
   "metadata": {},
   "outputs": [],
   "source": [
    "day_4_control = df_android[(df_android.date == '2020-05-28') & (df_android.groups == 'Control')]['user_cancelled'].dropna().sample(n=2500)\n",
    "day_4_test = df_android[(df_android.date == '2020-05-28') & (df_android.groups == 'Test')]['user_cancelled'].dropna().sample(n=2500)"
   ]
  },
  {
   "cell_type": "code",
   "execution_count": null,
   "id": "c2ccaf3f",
   "metadata": {},
   "outputs": [],
   "source": [
    "day_5_control = df_android[(df_android.date == '2020-05-29') & (df_android.groups == 'Control')]['user_cancelled'].dropna().sample(n=2500)\n",
    "day_5_test = df_android[(df_android.date == '2020-05-29') & (df_android.groups == 'Test')]['user_cancelled'].dropna().sample(n=2500)"
   ]
  },
  {
   "cell_type": "code",
   "execution_count": null,
   "id": "4aa6f729",
   "metadata": {},
   "outputs": [],
   "source": [
    "day_6_control = df_android[(df_android.date == '2020-05-30') & (df_android.groups == 'Control')]['user_cancelled'].dropna().sample(n=2500)\n",
    "day_6_test = df_android[(df_android.date == '2020-05-30') & (df_android.groups == 'Test')]['user_cancelled'].dropna().sample(n=2500)"
   ]
  },
  {
   "cell_type": "code",
   "execution_count": null,
   "id": "a95394ff",
   "metadata": {},
   "outputs": [],
   "source": [
    "day_7_control = df_android[(df_android.date == '2020-05-31') & (df_android.groups == 'Control')]['user_cancelled'].dropna().sample(n=2500)\n",
    "day_7_test = df_android[(df_android.date == '2020-05-31') & (df_android.groups == 'Test')]['user_cancelled'].dropna().sample(n=2500)"
   ]
  },
  {
   "cell_type": "code",
   "execution_count": null,
   "id": "f4d35551",
   "metadata": {},
   "outputs": [],
   "source": [
    "#проверяем длину\n",
    "len(day_1_control), len(day_1_test)"
   ]
  },
  {
   "cell_type": "code",
   "execution_count": null,
   "id": "4fb470d7",
   "metadata": {},
   "outputs": [],
   "source": [
    "# заводим списки для удобства перебирания в цикле\n",
    "test = [day_1_test,day_2_test,day_3_test,day_4_test,day_5_test,day_6_test,day_7_test] "
   ]
  },
  {
   "cell_type": "code",
   "execution_count": null,
   "id": "aea3149b",
   "metadata": {},
   "outputs": [],
   "source": [
    "control = [day_1_control,day_2_control,day_3_control,day_4_control,day_5_control,day_6_control,day_7_control] "
   ]
  },
  {
   "cell_type": "code",
   "execution_count": null,
   "id": "34c2d1dd",
   "metadata": {},
   "outputs": [],
   "source": [
    "# рассчитываем p-value\n",
    "Pvalue = []\n",
    "for i in range(7):\n",
    "    T, p = stats.ttest_ind(control[i], test[i])\n",
    "    Pvalue.append(p)"
   ]
  },
  {
   "cell_type": "code",
   "execution_count": null,
   "id": "810bb47c",
   "metadata": {},
   "outputs": [],
   "source": [
    "# p-value списком по дням\n",
    "Pvalue "
   ]
  },
  {
   "cell_type": "code",
   "execution_count": null,
   "id": "409e9fe0",
   "metadata": {},
   "outputs": [],
   "source": [
    "# строим график по p-value по дням, где красная линия это alpha, а синяя - периодический p-value\n",
    "alpha=0.05\n",
    "\n",
    "fig = plt.figure(figsize=(10,4))\n",
    "ax = fig.add_subplot(111)\n",
    "ax.plot(sorted(df_android['date'].unique()), Pvalue)\n",
    "ax.plot(sorted(df_android['date'].unique()), [alpha]*7, color='red')"
   ]
  },
  {
   "cell_type": "markdown",
   "id": "814fa4e0",
   "metadata": {},
   "source": [
    "**ВЫВОД:** p-value стабильно ниже alpha, следовательно, предложение промокода пользователям Android при нажатии кнопки отмены заказа приводит к сокращению отмен. Фича работает."
   ]
  }
 ],
 "metadata": {
  "kernelspec": {
   "display_name": "Python 3 (ipykernel)",
   "language": "python",
   "name": "python3"
  },
  "language_info": {
   "codemirror_mode": {
    "name": "ipython",
    "version": 3
   },
   "file_extension": ".py",
   "mimetype": "text/x-python",
   "name": "python",
   "nbconvert_exporter": "python",
   "pygments_lexer": "ipython3",
   "version": "3.10.6"
  }
 },
 "nbformat": 4,
 "nbformat_minor": 5
}
