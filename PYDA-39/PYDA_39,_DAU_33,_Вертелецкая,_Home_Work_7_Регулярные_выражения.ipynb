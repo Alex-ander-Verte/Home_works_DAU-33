{
  "nbformat": 4,
  "nbformat_minor": 0,
  "metadata": {
    "colab": {
      "provenance": []
    },
    "kernelspec": {
      "name": "python3",
      "display_name": "Python 3"
    },
    "language_info": {
      "name": "python"
    }
  },
  "cells": [
    {
      "cell_type": "markdown",
      "source": [
        "# Домашнее задание к лекции Регулярные выражения\n",
        "\n",
        "Внимание! При реализации всех заданий необходимо использовать именно функционал регулярных выражений для обработки текста."
      ],
      "metadata": {
        "id": "XSgAK38LDq3A"
      }
    },
    {
      "cell_type": "code",
      "source": [
        "import re\n",
        "import pprint"
      ],
      "metadata": {
        "id": "gxGfeT2-NY9u"
      },
      "execution_count": 1,
      "outputs": []
    },
    {
      "cell_type": "markdown",
      "source": [
        "\n",
        "### Задание 1\n",
        "\n",
        "Напишите функцию, которая принимает на вход строку и проверяет является ли она валидным транспортным номером (1 буква, 3 цифры, 2 буквы, 2-3 цифры). Обратите внимание, что не все буквы кириллического алфавита используются в транспортных номерах.\n",
        "\n",
        "Если номер валиден, то функция должна возвращать отдельно номер и регион.\n",
        "\n",
        "Примеры работы программы:\n",
        "\n",
        "1.    car_id = 'A222BC96'\n",
        "\n",
        "Результат: ``` Номер A222BС валиден. Регион: 96 ```\n",
        "\n",
        "2.    car_id = 'АБ22ВВ193'\n",
        "\n",
        "Результат: ``` Номер не валиден```\n"
      ],
      "metadata": {
        "id": "kIERE22lD4NT"
      }
    },
    {
      "cell_type": "code",
      "execution_count": 2,
      "metadata": {
        "id": "GmzLALRgDRu2"
      },
      "outputs": [],
      "source": [
        "def valid_TC(num_TC):\n",
        "  if (re.findall(r'[ABEKMHOPCTYX]{1}\\d{3}[ABEKMHOPCTYX]{2}\\d{2,3}', num_TC) != []) and len(num_TC) == 8:\n",
        "    print(f'Номер {num_TC[:-2]} валиден. Регион: {num_TC[-2:]}')\n",
        "  elif (re.findall(r'[ABEKMHOPCTYX]{1}\\d{3}[ABEKMHOPCTYX]{2}\\d{2,3}', num_TC) != []) and len(num_TC) == 9:\n",
        "    print(f'Номер {num_TC[:-3]} валиден. Регион: {num_TC[-3:]}')\n",
        "  else:\n",
        "    print('Номер не валиден')"
      ]
    },
    {
      "cell_type": "code",
      "source": [
        "valid_TC('A222BC96')"
      ],
      "metadata": {
        "colab": {
          "base_uri": "https://localhost:8080/"
        },
        "id": "2AEzg8AwRTsQ",
        "outputId": "73ea1291-9426-4f6f-94c9-e2715a8c13d2"
      },
      "execution_count": 3,
      "outputs": [
        {
          "output_type": "stream",
          "name": "stdout",
          "text": [
            "Номер A222BC валиден. Регион: 96\n"
          ]
        }
      ]
    },
    {
      "cell_type": "code",
      "source": [
        "valid_TC('A222BC123')"
      ],
      "metadata": {
        "colab": {
          "base_uri": "https://localhost:8080/"
        },
        "id": "dAq08bfc7ZHe",
        "outputId": "65e8c124-bef3-4b16-8877-190b380e0446"
      },
      "execution_count": 4,
      "outputs": [
        {
          "output_type": "stream",
          "name": "stdout",
          "text": [
            "Номер A222BC валиден. Регион: 123\n"
          ]
        }
      ]
    },
    {
      "cell_type": "code",
      "source": [
        "valid_TC('АБ22ВВ193')"
      ],
      "metadata": {
        "colab": {
          "base_uri": "https://localhost:8080/"
        },
        "id": "rgr_C1XB6ydw",
        "outputId": "3a7f10ff-d4f5-4a29-cd4e-152c483f04c0"
      },
      "execution_count": 5,
      "outputs": [
        {
          "output_type": "stream",
          "name": "stdout",
          "text": [
            "Номер не валиден\n"
          ]
        }
      ]
    },
    {
      "cell_type": "markdown",
      "source": [
        "\n",
        "### Задание 2\n",
        "\n",
        "Напишите функцию, которая будет удалять все последовательные повторы слов из заданной строки при помощи регулярных выражений.\n",
        "\n",
        "Пример работы программы:\n",
        "\n",
        "> some_string = 'Напишите функцию функцию, которая будет будет будет будет удалять все все все все последовательные повторы слов из из из из заданной строки строки при помощи регулярных выражений.'\n",
        "\n",
        "Результат:\n",
        "```Напишите функцию, которая будет удалять все последовательные повторы слов из заданной строки при помощи регулярных выражений.```\n"
      ],
      "metadata": {
        "id": "IJp3zt_kEKIa"
      }
    },
    {
      "cell_type": "code",
      "source": [
        "def valid_repit_text(some_string):\n",
        "  return re.sub(r'\\b(\\w+)(?:\\W+\\1\\b)+', r'\\1', some_string, flags=re.IGNORECASE)"
      ],
      "metadata": {
        "id": "KjABLUWdOtKk"
      },
      "execution_count": 6,
      "outputs": []
    },
    {
      "cell_type": "code",
      "source": [
        "some_string = 'Напишите функцию функцию, которая будет будет будет будет удалять все все все все последовательные повторы слов из из из из заданной строки строки при помощи регулярных выражений.'"
      ],
      "metadata": {
        "id": "gO5EvooO8xMh"
      },
      "execution_count": 7,
      "outputs": []
    },
    {
      "cell_type": "code",
      "source": [
        "valid_repit_text(some_string)"
      ],
      "metadata": {
        "colab": {
          "base_uri": "https://localhost:8080/",
          "height": 35
        },
        "id": "hvtm8IdXKGL0",
        "outputId": "088ae133-b2b4-4d74-8487-a0755798b9c4"
      },
      "execution_count": 8,
      "outputs": [
        {
          "output_type": "execute_result",
          "data": {
            "text/plain": [
              "'Напишите функцию, которая будет удалять все последовательные повторы слов из заданной строки при помощи регулярных выражений.'"
            ],
            "application/vnd.google.colaboratory.intrinsic+json": {
              "type": "string"
            }
          },
          "metadata": {},
          "execution_count": 8
        }
      ]
    },
    {
      "cell_type": "markdown",
      "source": [
        "\n",
        "### Задание 3\n",
        "\n",
        "Напишите функцию, которая будет возвращать акроним по переданной в нее строке со словами.\n",
        "\n",
        "Примеры работы программы:\n",
        "\n",
        "    some_words = 'Информационные технологии'\n",
        "\n",
        "Результат: ```ИТ```\n",
        "\n",
        "    some_words = 'Near Field Communication'\n",
        "\n",
        "Результат: ```NFC```\n"
      ],
      "metadata": {
        "id": "-r15UsatEUdr"
      }
    },
    {
      "cell_type": "code",
      "source": [
        "def acronim(some_words):\n",
        "  regex =r'\\b(\\S)'\n",
        "  acronim_list = re.findall(regex, some_words.upper())\n",
        "  return ''.join(acronim_list)"
      ],
      "metadata": {
        "id": "7YTYVJBAEc4R"
      },
      "execution_count": 9,
      "outputs": []
    },
    {
      "cell_type": "code",
      "source": [
        "acronim('Информационные технологии')"
      ],
      "metadata": {
        "colab": {
          "base_uri": "https://localhost:8080/",
          "height": 35
        },
        "id": "7mbKRD5SPQ0Y",
        "outputId": "ad7b0367-fde1-4f0d-e862-e8934b53762e"
      },
      "execution_count": 10,
      "outputs": [
        {
          "output_type": "execute_result",
          "data": {
            "text/plain": [
              "'ИТ'"
            ],
            "application/vnd.google.colaboratory.intrinsic+json": {
              "type": "string"
            }
          },
          "metadata": {},
          "execution_count": 10
        }
      ]
    },
    {
      "cell_type": "code",
      "source": [
        "acronim('Near Field Communication')"
      ],
      "metadata": {
        "colab": {
          "base_uri": "https://localhost:8080/",
          "height": 35
        },
        "id": "5CXj3O_eS1nH",
        "outputId": "f02778d7-811f-489a-eb9e-4e8db492be13"
      },
      "execution_count": 11,
      "outputs": [
        {
          "output_type": "execute_result",
          "data": {
            "text/plain": [
              "'NFC'"
            ],
            "application/vnd.google.colaboratory.intrinsic+json": {
              "type": "string"
            }
          },
          "metadata": {},
          "execution_count": 11
        }
      ]
    },
    {
      "cell_type": "markdown",
      "source": [
        "\n",
        "### Задание 4\n",
        "\n",
        "Напишите функцию, которая будет принимать на вход список email-адресов и выводить их распределение по доменным зонам.\n",
        "\n",
        "Пример работы программы:\n",
        "\n",
        "> emails = ['test@gmail.com', 'xyz@test.in', 'test@ya.ru', 'xyz@mail.ru', 'xyz@ya.ru', 'xyz@gmail.com']\n",
        "\n",
        "Результат:\n",
        "```\n",
        "gmail.com: 2\n",
        "test.in: 1 \n",
        "ya.ru: 2 \n",
        "mail.ru: 1\n",
        "```\n"
      ],
      "metadata": {
        "id": "1qu15sMOEeib"
      }
    },
    {
      "cell_type": "code",
      "source": [
        "def domain_distr(emails):\n",
        "  regex_domain = r'(?<=@)\\S*'\n",
        "  domain_dict = {}\n",
        "  for email in emails:\n",
        "    i = 1\n",
        "    if ''.join(re.findall(regex_domain, email)) not in domain_dict.keys():\n",
        "      domain_dict.setdefault(''.join(re.findall(regex_domain, email)), i)\n",
        "    else:\n",
        "      domain_dict[''.join(re.findall(regex_domain, email))] = (i + 1)\n",
        "  return domain_dict"
      ],
      "metadata": {
        "id": "kObiP91CElv1"
      },
      "execution_count": 12,
      "outputs": []
    },
    {
      "cell_type": "code",
      "source": [
        "emails = ['test@gmail.com', 'xyz@test.in', 'test@ya.ru', 'xyz@mail.ru', 'xyz@ya.ru', 'xyz@gmail.com']"
      ],
      "metadata": {
        "id": "ItjTKk11T7GQ"
      },
      "execution_count": 13,
      "outputs": []
    },
    {
      "cell_type": "code",
      "source": [
        "domain_distr(emails)"
      ],
      "metadata": {
        "colab": {
          "base_uri": "https://localhost:8080/"
        },
        "id": "IauUJcC2T8Kr",
        "outputId": "8d3a1efd-d1f1-472e-cb30-132f852f0edf"
      },
      "execution_count": 14,
      "outputs": [
        {
          "output_type": "execute_result",
          "data": {
            "text/plain": [
              "{'gmail.com': 2, 'test.in': 1, 'ya.ru': 2, 'mail.ru': 1}"
            ]
          },
          "metadata": {},
          "execution_count": 14
        }
      ]
    },
    {
      "cell_type": "markdown",
      "source": [
        "\n",
        "### Задание 5 (необязательное)\n",
        "\n",
        "Напишите функцию, которая будет подсчитывать сколько слов начинается на гласные, а сколько на согласные буквы в тексте (текст может быть написан как с использованием букв кириллицы, так и латиницы).\n",
        "\n",
        "Пример работы программы:\n",
        "\n",
        "> some_text = 'Эталонной реализацией Python является интерпретатор CPython, поддерживающий большинство активно используемых платформ. Он распространяется под свободной лицензией Python Software Foundation License, позволяющей использовать его без ограничений в любых приложениях, включая проприетарные.'\n",
        "\n",
        "Результат:\n",
        "```\n",
        "Слов на гласные буквы: 9\n",
        "Слов на согласные буквы: 21 \n",
        "```\n"
      ],
      "metadata": {
        "id": "8pPN75ZeEmYb"
      }
    },
    {
      "cell_type": "code",
      "source": [
        "some_text = 'Эталонной реализацией Python является интерпретатор CPython, поддерживающий большинство активно используемых платформ. Он распространяется под свободной лицензией Python Software Foundation License, позволяющей использовать его без ограничений в любых приложениях, включая проприетарные.'"
      ],
      "metadata": {
        "id": "zidUbT_-Er-N"
      },
      "execution_count": 15,
      "outputs": []
    },
    {
      "cell_type": "code",
      "source": [
        "def liter_a_or_b(some_text):\n",
        "  count_a = len(re.findall(r'\\b[aeiouyаеёиоуыэюя]', some_text, flags=re.IGNORECASE))\n",
        "  count_b = len(re.findall(r'\\b(?=[^aeiouyаеёиоуыэюя])[a-zа-я]', some_text, flags=re.IGNORECASE))\n",
        "  print(f'Слов на гласные буквы: {count_a}\\nСлов на согласные буквы: {count_b}')"
      ],
      "metadata": {
        "id": "cdi4IlK9FP1z"
      },
      "execution_count": 16,
      "outputs": []
    },
    {
      "cell_type": "code",
      "source": [
        "liter_a_or_b(some_text)"
      ],
      "metadata": {
        "colab": {
          "base_uri": "https://localhost:8080/"
        },
        "id": "gBOUYmIDL9UA",
        "outputId": "68b2c77c-72e4-4d0e-f766-7304ec4a5a68"
      },
      "execution_count": 17,
      "outputs": [
        {
          "output_type": "stream",
          "name": "stdout",
          "text": [
            "Слов на гласные буквы: 9\n",
            "Слов на согласные буквы: 21\n"
          ]
        }
      ]
    },
    {
      "cell_type": "markdown",
      "source": [
        "\n",
        "### Задание 6 (необязательное)\n",
        "\n",
        "Напишите функцию, которая будет проверять номер сотового телефона на валидность (только для российского формата), если он валиден, то переводить его в формат:\n",
        "+7-xxx-xxx-xx-xx\n",
        "Постарайтесь предусмотреть как можно больше адекватных форматов изначального ввода номера. \n",
        "\n",
        "Примеры работы программы:\n",
        "\n",
        "1.    phone = '+7 955 555-55-55'\n",
        "\n",
        "Результат: ```+7-955-555-55-55```\n",
        "\n",
        "2.    phone = '8(955)555-55-55'\n",
        "\n",
        "Результат: ```+7-955-555-55-55```\n",
        "\n",
        "3.    phone = '+7 955 555 55 55'\n",
        "\n",
        "Результат: ```+7-955-555-55-55```\n",
        "\n",
        "4.    phone = '7(955) 555-55-55'\n",
        "\n",
        "Результат: ```+7-955-555-55-55```\n",
        "\n",
        "5.    phone = '423-555-55-5555'\n",
        "\n",
        "Результат: ```Номер не валиден```\n",
        "\n",
        "6.    phone = '123-456-789'\n",
        "\n",
        "Результат: ```Номер не валиден```\n"
      ],
      "metadata": {
        "id": "gCavCnLGEsWD"
      }
    },
    {
      "cell_type": "code",
      "source": [
        "def valid_tel(phone):\n",
        "  regex_phone = r'(\\+7) (\\d{3}) (\\d{3})-(\\d{2})-(\\d{2})|(8)(\\(\\d{3}\\))(\\d{3})-(\\d{2})-(\\d{2})|(\\+7) (\\d{3}) (\\d{3}) (\\d{2}) (\\d{2})|(7)(\\(\\d{3}\\)) (\\d{3})-(\\d{2})-(\\d{2})'\n",
        "  regex_val_num_tel =  r'+7-\\2\\7\\12\\17-\\3\\8\\13\\18-\\4\\9\\14\\19-\\5\\10\\15\\20'\n",
        "  if re.findall(regex_phone, phone) == []:\n",
        "    print('Номер не валиден')\n",
        "  else:\n",
        "    val_num_tel = re.sub(regex_phone, regex_val_num_tel, phone)\n",
        "    return val_num_tel"
      ],
      "metadata": {
        "id": "4bvn1btrE_UB"
      },
      "execution_count": 18,
      "outputs": []
    },
    {
      "cell_type": "code",
      "source": [
        "valid_tel('+7 955 555-55-55')"
      ],
      "metadata": {
        "colab": {
          "base_uri": "https://localhost:8080/",
          "height": 35
        },
        "id": "OeP81PTBVuuq",
        "outputId": "585afc97-a63d-42dd-ce50-63aa32717d71"
      },
      "execution_count": 19,
      "outputs": [
        {
          "output_type": "execute_result",
          "data": {
            "text/plain": [
              "'+7-955-555-55-55'"
            ],
            "application/vnd.google.colaboratory.intrinsic+json": {
              "type": "string"
            }
          },
          "metadata": {},
          "execution_count": 19
        }
      ]
    },
    {
      "cell_type": "code",
      "source": [
        "valid_tel('8(955)555-55-55')"
      ],
      "metadata": {
        "colab": {
          "base_uri": "https://localhost:8080/",
          "height": 35
        },
        "id": "amjxC1ByXLPL",
        "outputId": "fdc71584-c050-4928-ff55-cd2fd8b100c5"
      },
      "execution_count": 20,
      "outputs": [
        {
          "output_type": "execute_result",
          "data": {
            "text/plain": [
              "'+7-(955)-555-55-55'"
            ],
            "application/vnd.google.colaboratory.intrinsic+json": {
              "type": "string"
            }
          },
          "metadata": {},
          "execution_count": 20
        }
      ]
    },
    {
      "cell_type": "code",
      "source": [
        "valid_tel('+7 955 555 55 55')"
      ],
      "metadata": {
        "colab": {
          "base_uri": "https://localhost:8080/",
          "height": 35
        },
        "id": "rSho0i5-XNqG",
        "outputId": "67b758b9-2754-4b53-92b3-4bbe9436f542"
      },
      "execution_count": 21,
      "outputs": [
        {
          "output_type": "execute_result",
          "data": {
            "text/plain": [
              "'+7-955-555-55-55'"
            ],
            "application/vnd.google.colaboratory.intrinsic+json": {
              "type": "string"
            }
          },
          "metadata": {},
          "execution_count": 21
        }
      ]
    },
    {
      "cell_type": "code",
      "source": [
        "valid_tel('7(955) 555-55-55')"
      ],
      "metadata": {
        "colab": {
          "base_uri": "https://localhost:8080/",
          "height": 35
        },
        "id": "kXgA0N1sXNgx",
        "outputId": "d4ffff88-8bce-41ad-cb41-b30e137a7cd7"
      },
      "execution_count": 22,
      "outputs": [
        {
          "output_type": "execute_result",
          "data": {
            "text/plain": [
              "'+7-(955)-555-55-55'"
            ],
            "application/vnd.google.colaboratory.intrinsic+json": {
              "type": "string"
            }
          },
          "metadata": {},
          "execution_count": 22
        }
      ]
    },
    {
      "cell_type": "code",
      "source": [
        "valid_tel('423-555-55-5555')"
      ],
      "metadata": {
        "colab": {
          "base_uri": "https://localhost:8080/"
        },
        "id": "iIa6-3jqXNWk",
        "outputId": "5d9c73ab-7055-4332-e035-f287794d9414"
      },
      "execution_count": 23,
      "outputs": [
        {
          "output_type": "stream",
          "name": "stdout",
          "text": [
            "Номер не валиден\n"
          ]
        }
      ]
    },
    {
      "cell_type": "code",
      "source": [
        "valid_tel('123-456-789')"
      ],
      "metadata": {
        "colab": {
          "base_uri": "https://localhost:8080/"
        },
        "id": "aQOttFqAXNC-",
        "outputId": "995ae11c-d0d0-423b-f9bf-e496b0febab1"
      },
      "execution_count": 24,
      "outputs": [
        {
          "output_type": "stream",
          "name": "stdout",
          "text": [
            "Номер не валиден\n"
          ]
        }
      ]
    }
  ]
}