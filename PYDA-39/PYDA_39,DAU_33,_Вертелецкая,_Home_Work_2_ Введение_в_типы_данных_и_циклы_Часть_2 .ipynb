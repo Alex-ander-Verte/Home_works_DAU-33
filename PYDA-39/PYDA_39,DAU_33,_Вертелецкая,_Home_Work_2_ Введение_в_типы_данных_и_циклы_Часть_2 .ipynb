{
  "nbformat": 4,
  "nbformat_minor": 0,
  "metadata": {
    "colab": {
      "provenance": []
    },
    "kernelspec": {
      "name": "python3",
      "display_name": "Python 3"
    },
    "language_info": {
      "name": "python"
    }
  },
  "cells": [
    {
      "cell_type": "markdown",
      "source": [
        "# Домашнее задание к лекции \"Введение в типы данных и циклы. Часть 2\""
      ],
      "metadata": {
        "id": "gWy3kwA3a3iP"
      }
    },
    {
      "cell_type": "markdown",
      "source": [
        "\n",
        "###Задание 1\n",
        "\n",
        "Дана переменная, в которой хранится словарь, содержащий гео-метки для каждого пользователя (пример структуры данных приведен ниже). Вам необходимо написать программу, которая выведет на экран множество уникальных гео-меток всех пользователей.\n",
        "\n",
        "Пример работы программы:\n",
        "```\n",
        "ids = {'user1': [213, 213, 213, 15, 213], \n",
        "       'user2': [54, 54, 119, 119, 119], \n",
        "       'user3': [213, 98, 98, 35]}\n",
        "```\n",
        "\n",
        "\n",
        "\n",
        "Результат: \n",
        "> {98, 35, 15, 213, 54, 119}\n"
      ],
      "metadata": {
        "id": "wlasahhka7C_"
      }
    },
    {
      "cell_type": "code",
      "execution_count": 3,
      "metadata": {
        "id": "yAY9X5RUa2Km"
      },
      "outputs": [],
      "source": [
        "ids = {'user1': [213, 213, 213, 15, 213], \n",
        "       'user2': [54, 54, 119, 119, 119], \n",
        "       'user3': [213, 98, 98, 35]}"
      ]
    },
    {
      "cell_type": "code",
      "source": [
        "geo_set = set()\n",
        "\n",
        "for geo in ids.values():\n",
        "    for geo_val in geo:\n",
        "        geo_set.add(geo_val)\n",
        "            \n",
        "geo_set"
      ],
      "metadata": {
        "colab": {
          "base_uri": "https://localhost:8080/"
        },
        "id": "L2SlGg2hftvx",
        "outputId": "802b3a07-a385-45d4-fa26-86715a307c79"
      },
      "execution_count": 4,
      "outputs": [
        {
          "output_type": "execute_result",
          "data": {
            "text/plain": [
              "{15, 35, 54, 98, 119, 213}"
            ]
          },
          "metadata": {},
          "execution_count": 4
        }
      ]
    },
    {
      "cell_type": "markdown",
      "source": [
        "\n",
        "### Задание 2\n",
        "\n",
        "Дана переменная, в которой хранится список поисковых запросов пользователя (пример структуры данных приведен ниже). Вам необходимо написать программу, которая выведет на экран распределение количества слов в запросах в требуемом виде.\n",
        "\n",
        "Пример работы программы:\n",
        "```\n",
        "queries = [\n",
        "    'смотреть сериалы онлайн',\n",
        "    'новости спорта',\n",
        "    'афиша кино',\n",
        "    'курс доллара',\n",
        "    'сериалы этим летом',\n",
        "    'курс по питону',\n",
        "    'сериалы про спорт',\n",
        "]\n",
        "```\n",
        "Результат:\n",
        "\n",
        "> Поисковых запросов, содержащих 2 слов(а): 42.86%\n",
        "\n",
        "> Поисковых запросов, содержащих 3 слов(а): 57.14%\n",
        "\n"
      ],
      "metadata": {
        "id": "J0nC43jLbKdc"
      }
    },
    {
      "cell_type": "code",
      "source": [
        "queries = [\n",
        "    'смотреть сериалы онлайн',\n",
        "    'новости спорта',\n",
        "    'афиша кино',\n",
        "    'курс доллара',\n",
        "    'сериалы этим летом',\n",
        "    'курс по питону',\n",
        "    'сериалы про спорт',\n",
        "]"
      ],
      "metadata": {
        "id": "eWaPAgmKbU4_"
      },
      "execution_count": 5,
      "outputs": []
    },
    {
      "cell_type": "code",
      "source": [
        "#строки внутри списка queries преобразуем в списки, чтобы потом можно было подсчитать длину списков\n",
        "queries_list = []\n",
        "i = 0\n",
        "for query in queries:\n",
        "    queries_list.append(queries[i].split(' '))\n",
        "    i += 1\n",
        "\n",
        "print(queries_list)"
      ],
      "metadata": {
        "colab": {
          "base_uri": "https://localhost:8080/"
        },
        "id": "e2ztjJ_xfxOT",
        "outputId": "674ce7e2-1ada-4ab3-ad92-0c9e3ab29b39"
      },
      "execution_count": 6,
      "outputs": [
        {
          "output_type": "stream",
          "name": "stdout",
          "text": [
            "[['смотреть', 'сериалы', 'онлайн'], ['новости', 'спорта'], ['афиша', 'кино'], ['курс', 'доллара'], ['сериалы', 'этим', 'летом'], ['курс', 'по', 'питону'], ['сериалы', 'про', 'спорт']]\n"
          ]
        }
      ]
    },
    {
      "cell_type": "code",
      "source": [
        "count_word = int(input('')) #запрашиваем сколько слов должно быть в поисковом запросе\n",
        "\n",
        "count_query = 0 #счётчик \n",
        "\n",
        "for query_ in queries_list: #если длина вложенного списка равна нашему запросу, то увеличиваем счётчик на 1\n",
        "    if len(query_) == count_word:\n",
        "        count_query +=1\n",
        "\n",
        "per = round((count_query * 100 / 7), 2) #выводим процент от отщего количества запросов, округляя до 2х знаков после запятой\n",
        "\n",
        "print(f'Поисковых запросов, содержащих {count_word} слов(а): {per}%')"
      ],
      "metadata": {
        "colab": {
          "base_uri": "https://localhost:8080/"
        },
        "id": "NMQQJni5fz6p",
        "outputId": "2dcf7157-dca8-4d7b-f727-7abb9f757853"
      },
      "execution_count": 7,
      "outputs": [
        {
          "output_type": "stream",
          "name": "stdout",
          "text": [
            "2\n",
            "Поисковых запросов, содержащих 2 слов(а): 42.86%\n"
          ]
        }
      ]
    },
    {
      "cell_type": "markdown",
      "source": [
        "\n",
        "### Задание 3\n",
        "\n",
        "Дана переменная, в которой хранится информация о затратах и доходе рекламных кампаний по различным источникам. Необходимо дополнить исходную структуру показателем [ROI](https://ru.wikipedia.org/wiki/%D0%9E%D0%BA%D1%83%D0%BF%D0%B0%D0%B5%D0%BC%D0%BE%D1%81%D1%82%D1%8C_%D0%B8%D0%BD%D0%B2%D0%B5%D1%81%D1%82%D0%B8%D1%86%D0%B8%D0%B9), который рассчитаем по формуле: (revenue / cost - 1) * 100\n",
        "\n",
        "Пример работы программы:\n",
        "```\n",
        "results = {\n",
        "    'vk': {'revenue': 103, 'cost': 98},\n",
        "    'yandex': {'revenue': 179, 'cost': 153},\n",
        "    'facebook': {'revenue': 103, 'cost': 110},\n",
        "    'adwords': {'revenue': 35, 'cost': 34},\n",
        "    'twitter': {'revenue': 11, 'cost': 24},\n",
        "}\n",
        "```\n",
        "Результат:\n",
        "\n",
        "> {'adwords': {'revenue': 35, 'cost': 34, 'ROI': 2.94},\\\n",
        " 'facebook': {'revenue': 103, 'cost': 110, 'ROI': -6.36},\\\n",
        " 'twitter': {'revenue': 11, 'cost': 24, 'ROI': -54.17},\\\n",
        " 'vk': {'revenue': 103, 'cost': 98, 'ROI': 5.1},\\\n",
        " 'yandex': {'revenue': 179, 'cost': 153, 'ROI': 16.99}}\n",
        "\n"
      ],
      "metadata": {
        "id": "alp7knm_bVQV"
      }
    },
    {
      "cell_type": "code",
      "source": [
        "results = {\n",
        "    'vk': {'revenue': 103, 'cost': 98},\n",
        "    'yandex': {'revenue': 179, 'cost': 153},\n",
        "    'facebook': {'revenue': 103, 'cost': 110},\n",
        "    'adwords': {'revenue': 35, 'cost': 34},\n",
        "    'twitter': {'revenue': 11, 'cost': 24},\n",
        "}"
      ],
      "metadata": {
        "id": "G2TtSiarbm8r"
      },
      "execution_count": 8,
      "outputs": []
    },
    {
      "cell_type": "code",
      "source": [
        "for platform in results:\n",
        "    results[platform]['ROI'] = round(((results[platform]['revenue'] / results[platform]['cost'] - 1) * 100), 2)\n",
        "    \n",
        "results"
      ],
      "metadata": {
        "colab": {
          "base_uri": "https://localhost:8080/"
        },
        "id": "UhCkuNUBf7B-",
        "outputId": "8d521b90-6eec-4020-8e65-51308d1fcdbe"
      },
      "execution_count": 9,
      "outputs": [
        {
          "output_type": "execute_result",
          "data": {
            "text/plain": [
              "{'vk': {'revenue': 103, 'cost': 98, 'ROI': 5.1},\n",
              " 'yandex': {'revenue': 179, 'cost': 153, 'ROI': 16.99},\n",
              " 'facebook': {'revenue': 103, 'cost': 110, 'ROI': -6.36},\n",
              " 'adwords': {'revenue': 35, 'cost': 34, 'ROI': 2.94},\n",
              " 'twitter': {'revenue': 11, 'cost': 24, 'ROI': -54.17}}"
            ]
          },
          "metadata": {},
          "execution_count": 9
        }
      ]
    },
    {
      "cell_type": "markdown",
      "source": [
        "\n",
        "### Задание 4\n",
        "\n",
        "Дана переменная, в которой хранится статистика рекламных каналов по объемам продаж (пример структуры данных приведен ниже). Напишите программу, которая возвращает название канала с максимальным объемом продаж.\n",
        "\n",
        "Пример работы программы:\n",
        "```\n",
        "stats = {'facebook': 55, 'yandex': 115, 'vk': 120, 'google': 99, 'email': 42, 'ok': 98}\n",
        "```\n",
        "Результат: \n",
        "> Максимальный объем продаж на рекламном канале: vk\n"
      ],
      "metadata": {
        "id": "KIh15MwkbnTd"
      }
    },
    {
      "cell_type": "code",
      "source": [
        "stats = {'facebook': 55, 'yandex': 115, 'vk': 120, 'google': 99, 'email': 42, 'ok': 98}"
      ],
      "metadata": {
        "id": "Lr9aQbvwbtUi"
      },
      "execution_count": 10,
      "outputs": []
    },
    {
      "cell_type": "code",
      "source": [
        "#находим максимальное значение\n",
        "Platform_value = max(stats.values())\n",
        "\n",
        "#инвертируем словарь, чтобы найти ключ по значению\n",
        "inv_d = {value: key for key, value in stats.items()}\n",
        "\n",
        "print(f'Максимальный объем продаж на рекламном канале: {inv_d[Platform_value]}')"
      ],
      "metadata": {
        "colab": {
          "base_uri": "https://localhost:8080/"
        },
        "id": "7vQDaC4ggCIV",
        "outputId": "31879d87-1b29-4ebd-82ef-b1cba1f0824d"
      },
      "execution_count": 11,
      "outputs": [
        {
          "output_type": "stream",
          "name": "stdout",
          "text": [
            "Максимальный объем продаж на рекламном канале: vk\n"
          ]
        }
      ]
    },
    {
      "cell_type": "markdown",
      "source": [
        "\n",
        "### Задание 5 (необязательно)\n",
        "\n",
        "Дан список произвольной длины. Необходимо написать код, который на основе исходного списка составит словарь такого уровня вложенности, какова длина исхондого списка.\n",
        "\n",
        "Примеры работы программы:\n",
        "```\n",
        "    my_list = ['2018-01-01', 'yandex', 'cpc', 100]\n",
        "```\n",
        "Результат: \n",
        "> {'2018-01-01': {'yandex': {'cpc': 100}}}\n",
        "\n",
        "```\n",
        "    my_list = ['a', 'b', 'c', 'd', 'e', 'f']\n",
        "```\n",
        "Результат: \n",
        "> {'a': {'b': {'c': {'d': {'e': 'f'}}}}}\n"
      ],
      "metadata": {
        "id": "p8xFTzZdbtxT"
      }
    },
    {
      "cell_type": "code",
      "source": [
        "my_list = ['a', 'b', 'c', 'd', 'e', 'f']"
      ],
      "metadata": {
        "id": "ZH9LGhcMb43S"
      },
      "execution_count": 12,
      "outputs": []
    },
    {
      "cell_type": "code",
      "source": [
        "#создаём словарь, в котором ключ - предпоследний элемент заданного списка, а значение - последний \n",
        "my_dict = {my_list[-2]: my_list[-1]}\n",
        "\n",
        "#в цикле перебираем список за исключением элементов, использованных выше, с шагом -1 (т.е. в обратном порядке)\n",
        "for i in my_list[:-2][::-1]:\n",
        "    my_dict = {i: my_dict}\n",
        "print(my_dict)"
      ],
      "metadata": {
        "colab": {
          "base_uri": "https://localhost:8080/"
        },
        "id": "EiBdpJkfgImM",
        "outputId": "0f160510-5a29-4157-943e-74076ce177e0"
      },
      "execution_count": 13,
      "outputs": [
        {
          "output_type": "stream",
          "name": "stdout",
          "text": [
            "{'a': {'b': {'c': {'d': {'e': 'f'}}}}}\n"
          ]
        }
      ]
    },
    {
      "cell_type": "markdown",
      "source": [
        "\n",
        "### Задание 6 (необязательно)\n",
        "\n",
        "Дана книга рецептов с информацией о том, сколько ингредиентов нужно для приготовления блюда в расчете на одну порцию (пример данных представлен ниже).\n",
        "Напишите программу, которая будет запрашивать у пользователя количество порций для приготовления этих блюд и отображать информацию о суммарном количестве требуемых ингредиентов в указанном виде.\\\n",
        "**Внимание!** Одинаковые ингридиенты с разными размерностями нужно считать раздельно!\n",
        "Пример работы программы:\n",
        "```\n",
        "cook_book = {\n",
        "  'салат': [\n",
        "     {'ingridient_name': 'сыр', 'quantity': 50, 'measure': 'гр'},\n",
        "     {'ingridient_name': 'томаты', 'quantity': 2, 'measure': 'шт'},\n",
        "     {'ingridient_name': 'огурцы', 'quantity': 20, 'measure': 'гр'},\n",
        "     {'ingridient_name': 'маслины', 'quantity': 10, 'measure': 'гр'},\n",
        "     {'ingridient_name': 'оливковое масло', 'quantity': 20, 'measure': 'мл'},\n",
        "     {'ingridient_name': 'салат', 'quantity': 10, 'measure': 'гр'},\n",
        "     {'ingridient_name': 'перец', 'quantity': 20, 'measure': 'гр'}\n",
        "    ],\n",
        "  'пицца': [\n",
        "     {'ingridient_name': 'сыр', 'quantity': 20, 'measure': 'гр'},\n",
        "     {'ingridient_name': 'колбаса', 'quantity': 30, 'measure': 'гр'},\n",
        "     {'ingridient_name': 'бекон', 'quantity': 30, 'measure': 'гр'},\n",
        "     {'ingridient_name': 'оливки', 'quantity': 10, 'measure': 'гр'},\n",
        "     {'ingridient_name': 'томаты', 'quantity': 20, 'measure': 'гр'},\n",
        "     {'ingridient_name': 'тесто', 'quantity': 100, 'measure': 'гр'},   \n",
        "    ],\n",
        "  'лимонад': [\n",
        "     {'ingridient_name': 'лимон', 'quantity': 1, 'measure': 'шт'},\n",
        "     {'ingridient_name': 'вода', 'quantity': 200, 'measure': 'мл'},\n",
        "     {'ingridient_name': 'сахар', 'quantity': 10, 'measure': 'гр'},\n",
        "     {'ingridient_name': 'лайм', 'quantity': 20, 'measure': 'гр'},    \n",
        "    ]\n",
        "}\n",
        "```\n",
        "```\n",
        "Введите количество порций:  \n",
        "3\n",
        "```\n",
        "Результат:\n",
        "\n",
        "> Сыр: 210 гр  \n",
        "Томаты: 6 шт  \n",
        "Огурцы: 60 гр  \n",
        "Маслины: 30 гр  \n",
        "Оливковое масло: 60 мл  \n",
        "Салат: 30 гр  \n",
        "Перец: 60 гр  \n",
        "Колбаса: 90 гр  \n",
        "Бекон: 90 гр  \n",
        "Оливки: 30 гр  \n",
        "Томаты: 60 гр  \n",
        "Тесто: 300 гр  \n",
        "Лимон: 3 шт  \n",
        "Вода: 600 мл  \n",
        "Сахар: 30 гр  \n",
        "Лайм: 60 гр  \n",
        "\n"
      ],
      "metadata": {
        "id": "lYwUU6nwb5NK"
      }
    },
    {
      "cell_type": "code",
      "source": [
        "cook_book = {\n",
        "  'салат': [\n",
        "     {'ingridient_name': 'сыр', 'quantity': 50, 'measure': 'гр'},\n",
        "     {'ingridient_name': 'томаты', 'quantity': 2, 'measure': 'шт'},\n",
        "     {'ingridient_name': 'огурцы', 'quantity': 20, 'measure': 'гр'},\n",
        "     {'ingridient_name': 'маслины', 'quantity': 10, 'measure': 'гр'},\n",
        "     {'ingridient_name': 'оливковое масло', 'quantity': 20, 'measure': 'мл'},\n",
        "     {'ingridient_name': 'салат', 'quantity': 10, 'measure': 'гр'},\n",
        "     {'ingridient_name': 'перец', 'quantity': 20, 'measure': 'гр'}\n",
        "    ],\n",
        "  'пицца': [\n",
        "     {'ingridient_name': 'сыр', 'quantity': 20, 'measure': 'гр'},\n",
        "     {'ingridient_name': 'колбаса', 'quantity': 30, 'measure': 'гр'},\n",
        "     {'ingridient_name': 'бекон', 'quantity': 30, 'measure': 'гр'},\n",
        "     {'ingridient_name': 'оливки', 'quantity': 10, 'measure': 'гр'},\n",
        "     {'ingridient_name': 'томаты', 'quantity': 20, 'measure': 'гр'},\n",
        "     {'ingridient_name': 'тесто', 'quantity': 100, 'measure': 'гр'},   \n",
        "    ],\n",
        "  'лимонад': [\n",
        "     {'ingridient_name': 'лимон', 'quantity': 1, 'measure': 'шт'},\n",
        "     {'ingridient_name': 'вода', 'quantity': 200, 'measure': 'мл'},\n",
        "     {'ingridient_name': 'сахар', 'quantity': 10, 'measure': 'гр'},\n",
        "     {'ingridient_name': 'лайм', 'quantity': 20, 'measure': 'гр'},    \n",
        "    ]\n",
        "}"
      ],
      "metadata": {
        "id": "OvC70lffcPMR"
      },
      "execution_count": 14,
      "outputs": []
    },
    {
      "cell_type": "code",
      "source": [
        "portion = int(input('Введите количество порций: '))\n",
        "\n",
        "#создаём пустой словарь для книги рецептов с учётом количества порций\n",
        "cook_book_per = {}\n",
        "\n",
        "#перебираем значения (блюда) в книге рецептов\n",
        "for food in cook_book.values():\n",
        "    for ingr in food:\n",
        "        #если ингридиент есть в новом словаре - увеличиваем его количество, если нет - добавляем в словарь\n",
        "        if (ingr['ingridient_name'], ingr['measure']) in cook_book_per:\n",
        "            cook_book_per[(ingr['ingridient_name'], ingr['measure'])] = (cook_book_per[(ingr['ingridient_name'], ingr['measure'])] + ingr['quantity']*portion)\n",
        "        else:\n",
        "            cook_book_per[(ingr['ingridient_name'], ingr['measure'])] = ingr['quantity']*portion\n",
        "\n",
        "#выводим название ингридиента, количество/граммы, единицу измерения\n",
        "for k, v in cook_book_per.items():\n",
        "    print(k[0], v, k[1])\n",
        "    \n",
        "    \n",
        "    "
      ],
      "metadata": {
        "colab": {
          "base_uri": "https://localhost:8080/"
        },
        "id": "4B1wCIC3gPqd",
        "outputId": "e729ee32-d76a-45f2-b29b-2c515ebfa994"
      },
      "execution_count": 15,
      "outputs": [
        {
          "output_type": "stream",
          "name": "stdout",
          "text": [
            "Введите количество порций: 3\n",
            "сыр 210 гр\n",
            "томаты 6 шт\n",
            "огурцы 60 гр\n",
            "маслины 30 гр\n",
            "оливковое масло 60 мл\n",
            "салат 30 гр\n",
            "перец 60 гр\n",
            "колбаса 90 гр\n",
            "бекон 90 гр\n",
            "оливки 30 гр\n",
            "томаты 60 гр\n",
            "тесто 300 гр\n",
            "лимон 3 шт\n",
            "вода 600 мл\n",
            "сахар 30 гр\n",
            "лайм 60 гр\n"
          ]
        }
      ]
    }
  ]
}