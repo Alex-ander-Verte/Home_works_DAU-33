{
 "cells": [
  {
   "cell_type": "markdown",
   "id": "6e25ec1d",
   "metadata": {},
   "source": [
    "# Домашнее задание к лекции «Понятие класса»"
   ]
  },
  {
   "cell_type": "markdown",
   "id": "8ad6f834",
   "metadata": {},
   "source": [
    "### Задание 1\n",
    "\n",
    "Напишите функцию, которая возвращает название валюты (поле ‘Name’) с максимальным значением курса с помощью сервиса https://www.cbr-xml-daily.ru/daily_json.js"
   ]
  },
  {
   "cell_type": "code",
   "execution_count": 1,
   "id": "e34a0c03",
   "metadata": {},
   "outputs": [],
   "source": [
    "import requests"
   ]
  },
  {
   "cell_type": "code",
   "execution_count": 2,
   "id": "f5ba79a1",
   "metadata": {},
   "outputs": [],
   "source": [
    "def Max_value_currency(): \n",
    "    r = requests.get('https://www.cbr-xml-daily.ru/daily_json.js').json()['Valute'] #запрос к сервису\n",
    "\n",
    "    val_values = {} #создаём пустой словарь для заполнения названиями и значениями валюты\n",
    "\n",
    "    for valute in r.items():\n",
    "        val_values[valute[1]['Name']] = valute[1]['Value'] #заполняем словарь\n",
    "\n",
    "    return max(val_values, key=val_values.get), max(val_values.values()) #возвращаем название и максимальное значение"
   ]
  },
  {
   "cell_type": "code",
   "execution_count": 3,
   "id": "68f4040e",
   "metadata": {},
   "outputs": [
    {
     "data": {
      "text/plain": [
       "('Китайских юаней', 84.7201)"
      ]
     },
     "execution_count": 3,
     "metadata": {},
     "output_type": "execute_result"
    }
   ],
   "source": [
    "Max_value_currency()"
   ]
  },
  {
   "cell_type": "markdown",
   "id": "4e7b2579",
   "metadata": {},
   "source": [
    "### Задание 2\n",
    "\n",
    "Добавьте в класс Rate параметр diff (со значениями True или False), который в случае значения True в методах курсов валют (eur, usd итд) будет возвращать не курс валюты, а изменение по сравнению в прошлым значением. Считайте, self.diff будет принимать значение True только при возврате значения курса. При отображении всей информации о валюте он не используется."
   ]
  },
  {
   "cell_type": "code",
   "execution_count": 4,
   "id": "08515b8b",
   "metadata": {},
   "outputs": [],
   "source": [
    "from libs.exchange import Rate"
   ]
  },
  {
   "cell_type": "code",
   "execution_count": 5,
   "id": "0f1573e3",
   "metadata": {},
   "outputs": [],
   "source": [
    "class RateWithDiff(Rate): #наследуем класс Rate\n",
    "    def __init__(self):\n",
    "        super().__init__(format='value')\n",
    "    \n",
    "    def make_format(self, currency, diff = False):\n",
    "        \"\"\"\n",
    "        Возвращает информацию о валюте currency в двух вариантах:\n",
    "        - полная информация о валюте при self.format = 'full':\n",
    "        Rate('full').make_format('EUR')\n",
    "        {\n",
    "            'CharCode': 'EUR',\n",
    "            'ID': 'R01239',\n",
    "            'Name': 'Евро',\n",
    "            'Nominal': 1,\n",
    "            'NumCode': '978',\n",
    "            'Previous': 79.6765,\n",
    "            'Value': 79.4966\n",
    "        }\n",
    "        \n",
    "        При парамтре diff = False (задан по умолчанию):\n",
    "        Rate('value').make_format('EUR')\n",
    "        79.4966\n",
    "        \n",
    "        При парамтре diff = True возвращает разницу в курсе валют по сравнению с прошлым значением:\n",
    "        Rate('value').make_format('EUR',diff = True)\n",
    "        -0.1228\n",
    "        \"\"\"\n",
    "        response = self.exchange_rates()\n",
    "        \n",
    "        if currency in response:\n",
    "            if self.format == 'full':\n",
    "                return response[currency]\n",
    "            \n",
    "            if self.format == 'value':\n",
    "                if diff == False:\n",
    "                    return response[currency]['Value']\n",
    "                else:\n",
    "                    return round((response[currency]['Value'] - response[currency]['Previous']), 4)\n",
    "        \n",
    "        return 'Error'\n",
    "    \n",
    "    def eur(self):\n",
    "        \"\"\"Возвращает разницу в курсе евро в формате self.format\"\"\"\n",
    "        return self.make_format('EUR', diff = True)\n",
    "    \n",
    "    def usd(self):\n",
    "        \"\"\"Возвращает разницу в курсе доллара в формате self.format\"\"\"\n",
    "        return self.make_format('USD', diff = True)\n",
    "\n",
    "    def AZN(self):\n",
    "        \"\"\"Возвращает разницу в курсе азербайджанского маната в формате self.format\"\"\"\n",
    "        return self.make_format('AZN', diff = True)"
   ]
  },
  {
   "cell_type": "code",
   "execution_count": 6,
   "id": "f090140c",
   "metadata": {},
   "outputs": [],
   "source": [
    "rwd = RateWithDiff()"
   ]
  },
  {
   "cell_type": "code",
   "execution_count": 7,
   "id": "9651af17",
   "metadata": {},
   "outputs": [
    {
     "data": {
      "text/plain": [
       "-0.0153"
      ]
     },
     "execution_count": 7,
     "metadata": {},
     "output_type": "execute_result"
    }
   ],
   "source": [
    "RateWithDiff().make_format('USD', diff=True)"
   ]
  },
  {
   "cell_type": "code",
   "execution_count": 8,
   "id": "6cad399f",
   "metadata": {},
   "outputs": [
    {
     "data": {
      "text/plain": [
       "-0.1228"
      ]
     },
     "execution_count": 8,
     "metadata": {},
     "output_type": "execute_result"
    }
   ],
   "source": [
    "rwd.eur()"
   ]
  },
  {
   "cell_type": "markdown",
   "id": "413810f8",
   "metadata": {},
   "source": [
    "### Задание 3\n",
    "\n",
    "Напишите класс Designer, который учитывает количество международных премий. Подсказки в коде занятия в разделе “Домашнее задание задача 3”.\n",
    "\n",
    "**Комментарий по классу Designer такой:**\n",
    "\n",
    "Напишите класс Designer, который учитывает количество международных премий для дизайнеров (из презентации: “Повышение на 1 грейд за каждые 7 баллов. Получение международной премии – это +2 балла”). Считайте, что при выходе на работу сотрудник уже имеет две премии и их количество не меняется со стажем (конечно если хотите это можно вручную менять).\n",
    "\n",
    "Класс Designer пишется по аналогии с классом Developer из материалов занятия."
   ]
  },
  {
   "cell_type": "code",
   "execution_count": 9,
   "id": "1487ee8f",
   "metadata": {},
   "outputs": [],
   "source": [
    "class Employee:\n",
    "    def __init__(self, name, seniority):\n",
    "        self.name = name\n",
    "        self.seniority = seniority\n",
    "        \n",
    "        self.grade = 1\n",
    "    \n",
    "    def grade_up(self):\n",
    "        \"\"\"Повышает уровень сотрудника\"\"\"\n",
    "        self.grade += 1\n",
    "    \n",
    "    def publish_grade(self):\n",
    "        \"\"\"Публикация результатов аккредитации сотрудников\"\"\"\n",
    "        print(self.name, self.grade)\n",
    "    \n",
    "    def check_if_it_is_time_for_upgrade(self):\n",
    "        pass"
   ]
  },
  {
   "cell_type": "code",
   "execution_count": 10,
   "id": "efc43140",
   "metadata": {},
   "outputs": [],
   "source": [
    "class Designer(Employee):\n",
    "    def __init__(self, name, seniority, awards = 2):\n",
    "        super().__init__(name, seniority + awards)\n",
    "    \n",
    "    def check_if_it_is_time_for_upgrade(self):\n",
    "        # для каждой аккредитации увеличиваем счетчик на 1\n",
    "        # пока считаем, что все дизайнеры проходят аккредитацию\n",
    "        self.seniority += 1\n",
    "        \n",
    "        # условие повышения сотрудника из презентации\n",
    "        if self.seniority % 7 == 0:\n",
    "            self.grade_up()\n",
    "        \n",
    "        # публикация результатов\n",
    "        return self.publish_grade()"
   ]
  },
  {
   "cell_type": "code",
   "execution_count": 11,
   "id": "17637099",
   "metadata": {},
   "outputs": [],
   "source": [
    "# проверяем как работает система повышения сотрудников на примере отдела дизайна\n",
    "\n",
    "# дизайнер Александр только что пришел в компанию\n",
    "alex = Designer('Александр', 0)"
   ]
  },
  {
   "cell_type": "code",
   "execution_count": 12,
   "id": "976156c0",
   "metadata": {},
   "outputs": [
    {
     "name": "stdout",
     "output_type": "stream",
     "text": [
      "Александр 1\n"
     ]
    }
   ],
   "source": [
    "alex.publish_grade()"
   ]
  },
  {
   "cell_type": "code",
   "execution_count": 13,
   "id": "d2bafcf5",
   "metadata": {},
   "outputs": [
    {
     "name": "stdout",
     "output_type": "stream",
     "text": [
      "Александр 1\n",
      "Александр 1\n",
      "Александр 1\n",
      "Александр 1\n",
      "Александр 2\n",
      "Александр 2\n",
      "Александр 2\n",
      "Александр 2\n",
      "Александр 2\n",
      "Александр 2\n",
      "Александр 2\n",
      "Александр 3\n",
      "Александр 3\n",
      "Александр 3\n",
      "Александр 3\n",
      "Александр 3\n",
      "Александр 3\n",
      "Александр 3\n",
      "Александр 4\n",
      "Александр 4\n",
      "Александр 4\n",
      "Александр 4\n",
      "Александр 4\n",
      "Александр 4\n",
      "Александр 4\n",
      "Александр 5\n"
     ]
    }
   ],
   "source": [
    "for i in range(26):\n",
    "    alex.check_if_it_is_time_for_upgrade()"
   ]
  }
 ],
 "metadata": {
  "kernelspec": {
   "display_name": "Python 3 (ipykernel)",
   "language": "python",
   "name": "python3"
  },
  "language_info": {
   "codemirror_mode": {
    "name": "ipython",
    "version": 3
   },
   "file_extension": ".py",
   "mimetype": "text/x-python",
   "name": "python",
   "nbconvert_exporter": "python",
   "pygments_lexer": "ipython3",
   "version": "3.10.6"
  }
 },
 "nbformat": 4,
 "nbformat_minor": 5
}
