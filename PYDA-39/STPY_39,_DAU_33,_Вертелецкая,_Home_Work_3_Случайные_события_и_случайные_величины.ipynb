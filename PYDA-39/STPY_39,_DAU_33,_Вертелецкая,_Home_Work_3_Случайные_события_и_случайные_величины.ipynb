{
 "cells": [
  {
   "cell_type": "markdown",
   "id": "284795af",
   "metadata": {},
   "source": [
    "# Домашнее задание к лекции «Случайные события. Случайные величины»\n",
    "\n",
    "Смоделировать игру против лотерейного автомата типа “777”. Игрок платит 1 руб., после чего выпадает случайное целое число, равномерно распределенное от 0 до 999. При некоторых значениях числа игрок получает выигрыш.\n",
    "\n",
    "777: 200 руб.\n",
    "\n",
    "999: 100 руб.\n",
    "\n",
    "555: 50 руб.\n",
    "\n",
    "333: 15 руб.\n",
    "\n",
    "111: 10 руб.\n",
    "\n",
    "\\*77: 5 руб.\n",
    "\n",
    "\\**7: 3 руб.\n",
    "\n",
    "\\*00: 2 руб.\n",
    "\n",
    "\\**0: 1 руб.\n",
    "\n",
    "Вопросы:\n",
    "\n",
    "* Выгодна ли игра игроку?\n",
    "* Сколько в среднем приобретает или теряет игрок за одну игру?\n",
    "\n",
    "**Дополнительное задание повышенной сложности**\n",
    "\n",
    "Теоретически рассчитать средний выигрыш (проигрыш) и сравнить с результатами моделирования\n",
    "\n",
    "  \\* – любая цифра\n"
   ]
  },
  {
   "cell_type": "code",
   "execution_count": 1,
   "id": "823955ed",
   "metadata": {},
   "outputs": [],
   "source": [
    "import numpy as np"
   ]
  },
  {
   "cell_type": "code",
   "execution_count": 8,
   "id": "295faba5",
   "metadata": {},
   "outputs": [
    {
     "name": "stdout",
     "output_type": "stream",
     "text": [
      "Ваш выигрыш составил: 8020749\n",
      "Ваш проигрыш составил: 10000000\n",
      "Вероятный доход/убыток за 1 игру: -0.1979251\n"
     ]
    }
   ],
   "source": [
    "trials = 10000000    # Количество попыток\n",
    "win = 0 #Выигрыш\n",
    "loss = 0 #Проигрыш и плата за игру 1 р.\n",
    "\n",
    "for i in range(trials):\n",
    "    random_score = np.random.randint(1, 1000)    # Случайное количество очков от 1 до 999\n",
    "    if random_score == 777:\n",
    "        win += 200\n",
    "        loss += 1       \n",
    "    elif random_score == 999:\n",
    "        win += 100\n",
    "        loss += 1\n",
    "    elif random_score == 555:\n",
    "        win += 50\n",
    "        loss += 1\n",
    "    elif random_score == 333:\n",
    "        win += 15\n",
    "        loss += 1\n",
    "    elif random_score == 111:\n",
    "        win += 10\n",
    "        loss += 1\n",
    "    elif random_score % 100 == 77: \n",
    "        win += 5\n",
    "        loss += 1\n",
    "    elif random_score % 10 == 7: \n",
    "        win += 3\n",
    "        loss += 1\n",
    "    elif random_score % 100 == 0:\n",
    "        win += 2\n",
    "        loss += 1\n",
    "    elif random_score % 10 == 0: \n",
    "        win += 1\n",
    "        loss += 1\n",
    "    else:\n",
    "        win += 0\n",
    "        loss += 1\n",
    "    \n",
    "print(f'Ваш выигрыш составил: {win}')\n",
    "print(f'Ваш проигрыш составил: {loss}')\n",
    "print(f'Вероятный доход/убыток за 1 игру: {(win-loss)/trials}')\n"
   ]
  },
  {
   "cell_type": "markdown",
   "id": "0e7ed09b",
   "metadata": {},
   "source": [
    "Игра невыгодна для игрока, поскольку затраты выше, чем прибыль. В среднем игрок теряет по 20 коп. "
   ]
  },
  {
   "cell_type": "markdown",
   "id": "e39dca89",
   "metadata": {},
   "source": [
    "## Пробы"
   ]
  },
  {
   "cell_type": "code",
   "execution_count": 15,
   "id": "985a9ef4",
   "metadata": {},
   "outputs": [
    {
     "name": "stdout",
     "output_type": "stream",
     "text": [
      "Ваш выигрыш составил: 18\n",
      "Ваш проигрыш составил: 5\n",
      "Вероятный доход/убыток за 1 игру: 2.6\n"
     ]
    }
   ],
   "source": [
    "np.random.seed([107, 210, 123, 654, 101])\n",
    "trials = 5 #10000000    # Количество попыток\n",
    "win = 0 #Выигрыш\n",
    "loss = 0 #Проигрыш и плата за игру 1 р.\n",
    "win_sum = 0 #Всего выиграли\n",
    "loss_sum = 0 #Всего проиграли\n",
    "\n",
    "\n",
    "for i in range(trials):\n",
    "    random_score = np.random.randint(1, 1000)    # Случайное количество очков от 1 до 999\n",
    "    if random_score == 777:\n",
    "        win = 200\n",
    "        loss = 1\n",
    "    elif random_score == 999:\n",
    "        win = 100\n",
    "        loss = 1\n",
    "    elif random_score == 555:\n",
    "        win = 50\n",
    "        loss = 1\n",
    "    elif random_score == 333:\n",
    "        win = 15\n",
    "        loss = 1\n",
    "    elif random_score == 111:\n",
    "        win = 10\n",
    "        loss = 1\n",
    "    elif random_score%100 == 77:\n",
    "        win = 5\n",
    "        loss = 1\n",
    "    elif random_score%10 == 7:\n",
    "        win = 3\n",
    "        loss = 1\n",
    "    elif random_score%100 ==0:\n",
    "        win = 2\n",
    "        loss = 1\n",
    "    elif random_score%10 ==0:\n",
    "        win = 1\n",
    "        loss = 1\n",
    "    else:\n",
    "        win = 0\n",
    "        loss = 1\n",
    "    win_sum += win\n",
    "    loss_sum += loss\n",
    "    \n",
    "print(f'Ваш выигрыш составил: {win_sum}')\n",
    "print(f'Ваш проигрыш составил: {loss_sum}')\n",
    "print(f'Вероятный доход/убыток за 1 игру: {(win_sum-loss_sum)/trials}')\n"
   ]
  },
  {
   "cell_type": "code",
   "execution_count": 23,
   "id": "9637c0f2",
   "metadata": {},
   "outputs": [
    {
     "data": {
      "text/plain": [
       "10"
      ]
     },
     "execution_count": 23,
     "metadata": {},
     "output_type": "execute_result"
    }
   ],
   "source": [
    "210%100"
   ]
  },
  {
   "cell_type": "code",
   "execution_count": 6,
   "id": "5ed63c8f",
   "metadata": {},
   "outputs": [
    {
     "name": "stdout",
     "output_type": "stream",
     "text": [
      "831 0 1\n",
      "333 15 2\n",
      "147 18 3\n",
      "198 18 4\n",
      "818 18 5\n",
      "Ваш выигрыш составил: 18\n",
      "Ваш проигрыш составил: 5\n",
      "Вероятный доход/убыток за 1 игру: 2.6\n"
     ]
    }
   ],
   "source": [
    "np.random.seed([107, 210, 123, 654, 101])\n",
    "trials = 5 #10000000    # Количество попыток\n",
    "win = 0 #Выигрыш\n",
    "loss = 0 #Проигрыш и плата за игру 1 р.\n",
    "\n",
    "for i in range(trials):\n",
    "    random_score = np.random.randint(1, 1000)    # Случайное количество очков от 1 до 999\n",
    "    if random_score == 777:\n",
    "        win += 200\n",
    "        loss += 1\n",
    "        print(random_score, win, loss)\n",
    "    elif random_score == 999:\n",
    "        win += 100\n",
    "        loss += 1\n",
    "        print(random_score, win, loss)\n",
    "    elif random_score == 555:\n",
    "        win += 50\n",
    "        loss += 1\n",
    "        print(random_score, win, loss)\n",
    "    elif random_score == 333:\n",
    "        win += 15\n",
    "        loss += 1\n",
    "        print(random_score, win, loss)\n",
    "    elif random_score == 111:\n",
    "        win += 10\n",
    "        loss += 1\n",
    "        print(random_score, win, loss)\n",
    "    elif random_score % 100 == 77: #and random_score != 777:\n",
    "        win += 5\n",
    "        loss += 1\n",
    "        print(random_score, win, loss)\n",
    "    elif random_score % 10 == 7: #and random_score != 777 and random_score%100 != 77:\n",
    "        win += 3\n",
    "        loss += 1\n",
    "        print(random_score, win, loss)\n",
    "    elif random_score % 100 == 0:\n",
    "        win += 2\n",
    "        loss += 1\n",
    "        print(random_score, win, loss)\n",
    "    elif random_score % 10 == 0: #and random_score%100 != 0:\n",
    "        win += 1\n",
    "        loss += 1\n",
    "        print(random_score, win, loss)\n",
    "    else:\n",
    "        win += 0\n",
    "        loss += 1\n",
    "        print(random_score, win, loss)\n",
    "    \n",
    "print(f'Ваш выигрыш составил: {win}')\n",
    "print(f'Ваш проигрыш составил: {loss}')\n",
    "print(f'Вероятный доход/убыток за 1 игру: {(win-loss)/trials}')\n"
   ]
  },
  {
   "cell_type": "code",
   "execution_count": null,
   "id": "ecc9ffed",
   "metadata": {},
   "outputs": [],
   "source": []
  },
  {
   "cell_type": "code",
   "execution_count": 2,
   "id": "478948a4",
   "metadata": {},
   "outputs": [
    {
     "name": "stdout",
     "output_type": "stream",
     "text": [
      "0 1\n",
      "15 2\n",
      "18 3\n",
      "18 4\n",
      "18 5\n",
      "Ваш выигрыш составил: 18\n",
      "Ваш проигрыш составил: 5\n",
      "Вероятный доход/убыток за 1 игру: 2.6\n"
     ]
    }
   ],
   "source": [
    "np.random.seed([107, 210, 123, 654, 101])\n",
    "trials = 5 #10000000    # Количество попыток\n",
    "win = 0 #Выигрыш\n",
    "loss = 0 #Проигрыш и плата за игру 1 р.\n",
    "\n",
    "for i in range(trials):\n",
    "    random_score = np.random.randint(1, 1000)    # Случайное количество очков от 1 до 999\n",
    "    if random_score == 777:\n",
    "        win += 200\n",
    "        loss += 1\n",
    "        print(win, loss)\n",
    "    elif random_score == 999:\n",
    "        win += 100\n",
    "        loss += 1\n",
    "        print(win, loss)\n",
    "    elif random_score == 555:\n",
    "        win += 50\n",
    "        loss += 1\n",
    "        print(win, loss)\n",
    "    elif random_score == 333:\n",
    "        win += 15\n",
    "        loss += 1\n",
    "        print(win, loss)\n",
    "    elif random_score == 111:\n",
    "        win += 10\n",
    "        loss += 1\n",
    "        print(win, loss)\n",
    "    elif random_score % 100 == 77: #and random_score != 777:\n",
    "        win += 5\n",
    "        loss += 1\n",
    "        print(win, loss)\n",
    "    elif random_score % 10 == 7: #and random_score != 777 and random_score%100 != 77:\n",
    "        win += 3\n",
    "        loss += 1\n",
    "        print(win, loss)\n",
    "    elif random_score % 100 ==0:\n",
    "        win += 2\n",
    "        loss += 1\n",
    "        print(win, loss)\n",
    "    elif random_score % 10 ==0: #and random_score%100 != 0:\n",
    "        win += 1\n",
    "        loss += 1\n",
    "        print(win, loss)\n",
    "    else:\n",
    "        win += 0\n",
    "        loss += 1\n",
    "        print(win, loss)\n",
    "    \n",
    "print(f'Ваш выигрыш составил: {win}')\n",
    "print(f'Ваш проигрыш составил: {loss}')\n",
    "print(f'Вероятный доход/убыток за 1 игру: {(win-loss)/trials}')\n"
   ]
  },
  {
   "cell_type": "code",
   "execution_count": null,
   "id": "18269d51",
   "metadata": {},
   "outputs": [],
   "source": []
  },
  {
   "cell_type": "code",
   "execution_count": 3,
   "id": "e41b3642",
   "metadata": {},
   "outputs": [
    {
     "name": "stdout",
     "output_type": "stream",
     "text": [
      "-1\n",
      "Вероятный доход/убыток за 1 игру: -0.1\n"
     ]
    }
   ],
   "source": [
    "np.random.seed([107, 210, 123, 654, 101, 999, 210, 123, 654, 111])\n",
    "trials = 10 #10000000    # Количество попыток\n",
    "win = 0 #Выигрыш\n",
    "profit_sum = 0 #Доход/убыток за все попытки\n",
    "\n",
    "for i in range(trials):\n",
    "    random_score = np.random.randint(1, 1000)    # Случайное количество очков от 1 до 999\n",
    "    if random_score == 777:\n",
    "        win = 200\n",
    "    elif random_score == 999:\n",
    "        win = 100\n",
    "    elif random_score == 555:\n",
    "        win = 50\n",
    "    elif random_score == 333:\n",
    "        win = 15\n",
    "    elif random_score == 111:\n",
    "        win = 10\n",
    "    elif random_score%100 == 77:\n",
    "        win = 5\n",
    "    elif random_score%10 == 7:\n",
    "        win = 3\n",
    "    elif random_score%100 ==0:\n",
    "        win = 2\n",
    "    elif random_score%10 ==0:\n",
    "        win = 1\n",
    "    else:\n",
    "        win = 0\n",
    "    profit = win - 1 # вычитаем стоимость 1 игры = 1 р.\n",
    "    #profit_sum += profit\n",
    "    \n",
    "print(profit)    \n",
    "print(f'Вероятный доход/убыток за 1 игру: {profit/trials}')\n",
    "#print(profit, profit_sum)    \n",
    "#print(f'Вероятный доход/убыток за 1 игру: {profit_sum/trials}')"
   ]
  },
  {
   "cell_type": "code",
   "execution_count": 72,
   "id": "bb461651",
   "metadata": {},
   "outputs": [
    {
     "name": "stdout",
     "output_type": "stream",
     "text": [
      "0 10 0.0 0.3333333333333333\n"
     ]
    }
   ],
   "source": [
    "p_monte_carlo = successes / trials    # Вероятность из моделирования\n",
    "p = 2 / 6                             # Теоретическая вероятность\n",
    "\n",
    "print(successes, trials, p_monte_carlo, p)"
   ]
  },
  {
   "cell_type": "code",
   "execution_count": null,
   "id": "f9bee529",
   "metadata": {},
   "outputs": [],
   "source": []
  },
  {
   "cell_type": "code",
   "execution_count": 7,
   "id": "9067b92a",
   "metadata": {},
   "outputs": [
    {
     "name": "stdout",
     "output_type": "stream",
     "text": [
      "830 1\n",
      "332 0\n",
      "146 0\n",
      "197 3\n",
      "817 3\n",
      "2 2\n",
      "Средний выигрыш/проигрыш за 1 игру:  0.4\n"
     ]
    }
   ],
   "source": [
    "np.random.seed([107, 210, 123, 654, 101])\n",
    "prize = 0    # Выигрыш\n",
    "trials = 5    # Количество попыток\n",
    "win_sum = 0 # суммарный выигрыш по итогам всех попыток\n",
    "\n",
    "for i in range(trials):\n",
    "    random_score = np.random.randint(0, 1000)    # Случайное число от 0 до 999\n",
    "    if random_score == 777:\n",
    "        prize = 200\n",
    "        print(random_score, prize)\n",
    "    elif random_score == 999:\n",
    "        prize = 100\n",
    "        print(random_score, prize)\n",
    "    elif random_score == 555:\n",
    "        prize = 50\n",
    "        print(random_score, prize)\n",
    "    elif random_score == 333:\n",
    "        prize = 15\n",
    "        print(random_score, prize)\n",
    "    elif random_score == 111:\n",
    "        prize = 10\n",
    "        print(random_score, prize)\n",
    "    elif random_score%100 == 77:\n",
    "        prize = 5\n",
    "        print(random_score, prize)\n",
    "    elif random_score%10 == 7:\n",
    "        prize = 3\n",
    "        print(random_score, prize)\n",
    "    elif random_score%100 ==0:\n",
    "        prize = 2\n",
    "        print(random_score, prize)\n",
    "    elif random_score%10 ==0:\n",
    "        prize = 1\n",
    "        print(random_score, prize)\n",
    "    else:\n",
    "        prize = 0\n",
    "        print(random_score, prize)\n",
    "    win = prize - 1\n",
    "    win_sum += win\n",
    "\n",
    "print(win, win_sum)\n",
    "print('Средний выигрыш/проигрыш за 1 игру: ', win_sum/trials)       "
   ]
  },
  {
   "cell_type": "code",
   "execution_count": 4,
   "id": "0f7ed9f8",
   "metadata": {},
   "outputs": [
    {
     "name": "stdout",
     "output_type": "stream",
     "text": [
      "-1 -3\n",
      "Средний выигрыш/проигрыш за 1 игру:  -0.3\n"
     ]
    }
   ],
   "source": [
    "np.random.seed([107, 210, 123, 654, 101, 999, 210, 123, 654, 111])\n",
    "prize = 0    # Выигрыш\n",
    "trials = 10    # Количество попыток\n",
    "win_sum = 0 # суммарный выигрыш по итогам всех попыток\n",
    "\n",
    "for i in range(trials):\n",
    "    random_score = np.random.randint(0, 1000)    # Случайное число от 0 до 999\n",
    "    if random_score == 777:\n",
    "        prize = 200\n",
    "    elif random_score == 999:\n",
    "        prize = 100\n",
    "    elif random_score == 555:\n",
    "        prize = 50\n",
    "    elif random_score == 333:\n",
    "        prize = 15\n",
    "    elif random_score == 111:\n",
    "        prize = 10\n",
    "    elif random_score%100 == 77:\n",
    "        prize = 5\n",
    "    elif random_score%10 == 7:\n",
    "        prize = 3\n",
    "    elif random_score%100 ==0:\n",
    "        prize = 2\n",
    "    elif random_score%10 ==0:\n",
    "        prize = 1\n",
    "    else:\n",
    "        prize = 0\n",
    "    win = prize - 1\n",
    "    win_sum += win\n",
    "\n",
    "print(win, win_sum)\n",
    "print('Средний выигрыш/проигрыш за 1 игру: ', win_sum/trials)       "
   ]
  },
  {
   "cell_type": "code",
   "execution_count": null,
   "id": "56d0d02d",
   "metadata": {},
   "outputs": [],
   "source": []
  },
  {
   "cell_type": "code",
   "execution_count": 69,
   "id": "8637c53f",
   "metadata": {},
   "outputs": [
    {
     "name": "stdout",
     "output_type": "stream",
     "text": [
      "выигрышь на 1 тыс попытok  7 руб. \n",
      " Сумма инвестиций: 10 руб.\n",
      "Выгодна ли игра игроку? Ответ: в среднем на инвестированный 1.000.000 руб игрок получает  -300,000.0 рублей прибыли \n"
     ]
    }
   ],
   "source": [
    "np.random.seed([107, 210, 123, 654, 101, 999, 210, 123, 654, 111])\n",
    "trials = 10    # Количество попыток\n",
    "successes = 0    # Количество успехов\n",
    "pay_ruble = 0\n",
    "\n",
    "for i in range(trials):\n",
    "    random_score = np.random.randint(0, 1000)    # Случайное количество очков от 1 до 1000\n",
    "    if random_score == 777:\n",
    "        successes += 200\n",
    "    elif random_score == 999:\n",
    "        successes += 100\n",
    "    elif random_score == 555:\n",
    "        successes += 50\n",
    "    elif random_score == 333:\n",
    "        successes += 15\n",
    "    elif random_score == 111:\n",
    "        successes += 10\n",
    "    elif random_score % 100 == 77:\n",
    "        successes += 5\n",
    "    elif random_score % 10 == 7:\n",
    "        successes += 3\n",
    "    elif random_score % 100 == 00:\n",
    "        successes += 2\n",
    "    elif random_score % 10 == 0:\n",
    "        successes += 1\n",
    "    pay_ruble += 1\n",
    "        \n",
    "p_monte_carlo = successes / trials    # Вероятность из моделирования\n",
    "p = 2 / 6                             # Теоретическая вероятность\n",
    "vigoda_igroka = round(((successes/pay_ruble) - 1)*1000000, 2)\n",
    "\n",
    "print('выигрышь на 1 тыс попытok  {} руб. \\n Сумма инвестиций: {} руб.'.format(f'{successes:,}', f'{pay_ruble:,}') )\n",
    "print('Выгодна ли игра игроку? Ответ: в среднем на инвестированный 1.000.000 руб игрок получает ', f'{vigoda_igroka:,}', \"рублей прибыли \")"
   ]
  },
  {
   "cell_type": "code",
   "execution_count": null,
   "id": "eb07976d",
   "metadata": {},
   "outputs": [],
   "source": []
  },
  {
   "cell_type": "code",
   "execution_count": 70,
   "id": "338da70c",
   "metadata": {},
   "outputs": [
    {
     "name": "stdout",
     "output_type": "stream",
     "text": [
      "3\n",
      "6\n",
      "7\n",
      "Потратили 10\n",
      "Выиграли 7\n",
      "Игра не выгодна игроку. Проигрыш за 1 игру составил -0.3 руб.\n"
     ]
    }
   ],
   "source": [
    "np.random.seed([107, 210, 123, 654, 101, 999, 210, 123, 654, 111])\n",
    "\n",
    "#Задаем количество попыток \n",
    "number_of_attempts = 10\n",
    "# Задаем счетчики - количество потраченных и выигранных денег\n",
    "pay_money = 0\n",
    "win_money = 0\n",
    "\n",
    "#Проходимся циклом по количеству попыток, где генерится случайное целое число от 0 до 999\n",
    "for i in range(number_of_attempts):\n",
    "    lotery_number = np.random.randint(0,1000)\n",
    "    #За каждую попытку платим 1 руб.\n",
    "    pay_money += 1\n",
    "    #При выпадении определенных чисел, записываем сумму в выигрыш\n",
    "    if lotery_number == 777:\n",
    "        win_money += 200\n",
    "        print(win_money)\n",
    "    elif lotery_number == 999:\n",
    "        win_money += 100\n",
    "        print(win_money)\n",
    "    elif lotery_number == 555:\n",
    "        win_money += 50\n",
    "        print(win_money)\n",
    "    elif lotery_number == 333:\n",
    "        win_money += 15\n",
    "        print(win_money)\n",
    "    elif lotery_number == 111:\n",
    "        win_money += 10\n",
    "        print(win_money)\n",
    "    elif lotery_number%100 == 77 and lotery_number != 777:\n",
    "        win_money += 5\n",
    "        print(win_money)\n",
    "    elif lotery_number%10 == 7 and lotery_number != 777 and lotery_number%100 != 77:\n",
    "        win_money += 3\n",
    "        print(win_money)\n",
    "    elif lotery_number%100 == 0:\n",
    "        win_money += 2\n",
    "        print(win_money)\n",
    "    elif lotery_number%10 == 0 and lotery_number%100 != 0:\n",
    "        win_money += 1\n",
    "        print(win_money)\n",
    "print(f'Потратили', pay_money)\n",
    "print(f'Выиграли', win_money)\n",
    "\n",
    "\n",
    "if (win_money - pay_money) > 0:\n",
    "    print('Игра выгодна игроку. Выигрыш за 1 игру составил', (win_money - pay_money)/number_of_attempts)\n",
    "else:\n",
    "    print('Игра не выгодна игроку. Проигрыш за 1 игру составил', (win_money - pay_money)/number_of_attempts, 'руб.')\n",
    "\n"
   ]
  },
  {
   "cell_type": "code",
   "execution_count": 12,
   "id": "003dafb9",
   "metadata": {},
   "outputs": [
    {
     "name": "stdout",
     "output_type": "stream",
     "text": [
      "1\n",
      "4\n",
      "7\n",
      "Потратили 5\n",
      "Выиграли 7\n",
      "Игра выгодна игроку. Выигрыш за 1 игру составил 0.4\n"
     ]
    }
   ],
   "source": [
    "np.random.seed([107, 210, 123, 654, 101])\n",
    "\n",
    "#Задаем количество попыток \n",
    "number_of_attempts = 5\n",
    "# Задаем счетчики - количество потраченных и выигранных денег\n",
    "pay_money = 0\n",
    "win_money = 0\n",
    "\n",
    "#Проходимся циклом по количеству попыток, где генерится случайное целое число от 0 до 999\n",
    "for i in range(number_of_attempts):\n",
    "    lotery_number = np.random.randint(0,1000)\n",
    "    #За каждую попытку платим 1 руб.\n",
    "    pay_money += 1\n",
    "    #При выпадении определенных чисел, записываем сумму в выигрыш\n",
    "    if lotery_number == 777:\n",
    "        win_money += 200\n",
    "        print(win_money)\n",
    "    elif lotery_number == 999:\n",
    "        win_money += 100\n",
    "        print(win_money)\n",
    "    elif lotery_number == 555:\n",
    "        win_money += 50\n",
    "        print(win_money)\n",
    "    elif lotery_number == 333:\n",
    "        win_money += 15\n",
    "        print(win_money)\n",
    "    elif lotery_number == 111:\n",
    "        win_money += 10\n",
    "        print(win_money)\n",
    "    elif lotery_number%100 == 77 and lotery_number != 777:\n",
    "        win_money += 5\n",
    "        print(win_money)\n",
    "    elif lotery_number%10 == 7 and lotery_number != 777 and lotery_number%100 != 77:\n",
    "        win_money += 3\n",
    "        print(win_money)\n",
    "    elif lotery_number%100 == 0:\n",
    "        win_money += 2\n",
    "        print(win_money)\n",
    "    elif lotery_number%10 == 0 and lotery_number%100 != 0:\n",
    "        win_money += 1\n",
    "        print(win_money)\n",
    "print(f'Потратили', pay_money)\n",
    "print(f'Выиграли', win_money)\n",
    "\n",
    "\n",
    "if (win_money - pay_money) > 0:\n",
    "    print('Игра выгодна игроку. Выигрыш за 1 игру составил', (win_money - pay_money)/number_of_attempts)\n",
    "else:\n",
    "    print('Игра не выгодна игроку. Проигрыш за 1 игру составил', (win_money - pay_money)/number_of_attempts, 'руб.')\n",
    "\n"
   ]
  }
 ],
 "metadata": {
  "kernelspec": {
   "display_name": "Python 3 (ipykernel)",
   "language": "python",
   "name": "python3"
  },
  "language_info": {
   "codemirror_mode": {
    "name": "ipython",
    "version": 3
   },
   "file_extension": ".py",
   "mimetype": "text/x-python",
   "name": "python",
   "nbconvert_exporter": "python",
   "pygments_lexer": "ipython3",
   "version": "3.10.6"
  }
 },
 "nbformat": 4,
 "nbformat_minor": 5
}
