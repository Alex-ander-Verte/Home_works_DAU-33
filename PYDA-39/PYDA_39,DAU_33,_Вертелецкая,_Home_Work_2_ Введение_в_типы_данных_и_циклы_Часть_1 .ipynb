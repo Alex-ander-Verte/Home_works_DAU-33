{
  "nbformat": 4,
  "nbformat_minor": 0,
  "metadata": {
    "colab": {
      "provenance": []
    },
    "kernelspec": {
      "name": "python3",
      "display_name": "Python 3"
    },
    "language_info": {
      "name": "python"
    }
  },
  "cells": [
    {
      "cell_type": "markdown",
      "source": [
        "## Домашнее задание к лекции \"Введение в типы данных и циклы. Часть 1\""
      ],
      "metadata": {
        "id": "CexZ8EULT_T9"
      }
    },
    {
      "cell_type": "markdown",
      "source": [
        "### Задание 1\n",
        "\n",
        "Дана переменная, в которой хранится слово из латинских букв. Напишите код, который выводит на экран:\n",
        "- среднюю букву, если число букв в слове нечетное;\n",
        "- две средних буквы, если число букв четное.\n",
        "\n",
        "Примеры работы программы:\n",
        "1. > word = 'test'\n",
        "    \n",
        "Результат:  ```es```\n",
        "\n",
        "2.  > word = 'testing'\n",
        "    \n",
        "Результат:  ```t```"
      ],
      "metadata": {
        "id": "GXxE5PSYUHZF"
      }
    },
    {
      "cell_type": "code",
      "execution_count": 1,
      "metadata": {
        "id": "GA86euhmTx5m",
        "colab": {
          "base_uri": "https://localhost:8080/"
        },
        "outputId": "0f596181-6bb0-47e2-d77e-29f94898b1ba"
      },
      "outputs": [
        {
          "output_type": "stream",
          "name": "stdout",
          "text": [
            "Введите слово: test\n",
            "es\n"
          ]
        }
      ],
      "source": [
        "word = input('Введите слово: ')\n",
        "\n",
        "if len(word) % 2 == 0:\n",
        "  t_1 = int(len(word)/2 - 1)\n",
        "  t_2 = int(t_1 + 2)\n",
        "  print(word[t_1: t_2])\n",
        "else:\n",
        "  t = int(len(word)/2)\n",
        "  print(word[t])"
      ]
    },
    {
      "cell_type": "markdown",
      "source": [
        "### Задание 2\n",
        "\n",
        "Напишите программу, которая последовательно запрашивает у пользователя числа (по одному за раз) и после первого нуля выводит сумму всех ранее введенных чисел.\n",
        "\n",
        "Примеры работы программы:  \n",
        "> Введите число:  \"1\",\n",
        "\n",
        "> Введите число:  \"4\",\n",
        "\n",
        "> Введите число:  \"6\",\n",
        "\n",
        "> Введите число:  \"0\",\n",
        "\n",
        "Результат:  ```11``` \n",
        "\n",
        "> Введите число:  \"0\"\n",
        "\n",
        "Результат:  ```0```"
      ],
      "metadata": {
        "id": "f1u6iR6-UPZ4"
      }
    },
    {
      "cell_type": "code",
      "source": [
        "x = int(input('Введите число: '))\n",
        "sum = 0\n",
        "\n",
        "while x != 0:\n",
        "  sum += x\n",
        "  x = int(input('Введите число: '))\n",
        "  \n",
        "print('Результат: ', sum)"
      ],
      "metadata": {
        "colab": {
          "base_uri": "https://localhost:8080/"
        },
        "id": "WcyjK8v33ZvJ",
        "outputId": "099192e5-c429-48c4-8fd6-69f1d686d254"
      },
      "execution_count": 2,
      "outputs": [
        {
          "output_type": "stream",
          "name": "stdout",
          "text": [
            "Введите число: 1\n",
            "Введите число: 4\n",
            "Введите число: 6\n",
            "Введите число: 0\n",
            "Результат:  11\n"
          ]
        }
      ]
    },
    {
      "cell_type": "markdown",
      "source": [
        "\n",
        "###Задание 3\n",
        "\n",
        "Мы делаем MVP dating-сервиса, и у нас есть список парней и девушек.\n",
        "Выдвигаем гипотезу: лучшие рекомендации мы получим, если просто отсортируем имена по алфавиту и познакомим людей с одинаковыми индексами после сортировки! Но мы не будем никого знакомить, если кто-то может остаться без пары:\n",
        "\n",
        "Примеры работы программы:\n",
        "\n",
        "> boys = ['Peter', 'Alex', 'John', 'Arthur', 'Richard']\n",
        "\n",
        "> girls = ['Kate', 'Liza', 'Kira', 'Emma', 'Trisha']\n",
        "\n",
        "Результат:\n",
        "\n",
        "```Идеальные пары:  ```\n",
        " * Alex и Emma  \n",
        " * Arthur и Kate  \n",
        " * John и Kira  \n",
        " * Peter и Liza  \n",
        " * Richard и Trisha\n",
        "\n",
        "\n",
        "\n",
        "> boys = ['Peter', 'Alex', 'John', 'Arthur', 'Richard', 'Michael']\n",
        "\n",
        "> girls = ['Kate', 'Liza', 'Kira', 'Emma', 'Trisha']\n",
        "\n",
        "Результат: ```Внимание, кто-то может остаться без пары!```\n"
      ],
      "metadata": {
        "id": "461MUiO53jCf"
      }
    },
    {
      "cell_type": "code",
      "source": [
        "boys = ['Peter', 'Alex', 'John', 'Arthur', 'Richard']\n",
        "girls = ['Kate', 'Liza', 'Kira', 'Emma', 'Trisha']\n",
        "\n",
        "if len(boys) == len(girls):\n",
        "  boys = sorted(boys, reverse= True)\n",
        "  ind = int(len(boys))\n",
        "  girls = sorted(girls, reverse= True)\n",
        "  while ind <= len(boys) and ind > 0:\n",
        "    ind -= 1\n",
        "    print(f'Идеальные пары: {boys[ind]} и {girls[ind]}')\n",
        "else:\n",
        "  print('Внимание, кто-то может остаться без пары!')"
      ],
      "metadata": {
        "id": "g22WRwmu4KqT",
        "colab": {
          "base_uri": "https://localhost:8080/"
        },
        "outputId": "b41465a9-f876-4e64-cf0b-51f0fc1959d9"
      },
      "execution_count": 3,
      "outputs": [
        {
          "output_type": "stream",
          "name": "stdout",
          "text": [
            "Идеальные пары: Alex и Emma\n",
            "Идеальные пары: Arthur и Kate\n",
            "Идеальные пары: John и Kira\n",
            "Идеальные пары: Peter и Liza\n",
            "Идеальные пары: Richard и Trisha\n"
          ]
        }
      ]
    },
    {
      "cell_type": "markdown",
      "source": [
        "\n",
        "### Задание 4\n",
        "\n",
        "У нас есть список, содержащий информацию о среднедневной температуре в Фаренгейтах за произвольный период по странам (структура данных в примере). Необходимо написать код, который рассчитает среднюю температуру за период в Цельсиях(!) для каждой страны.\n",
        "\n",
        "Пример работы программы:\n",
        "\n",
        "\n",
        "\n",
        "```\n",
        "countries_temperature = [\n",
        "    ['Thailand', [75.2, 77, 78.8, 73.4, 68, 75.2, 77]],\n",
        "    ['Germany', [57.2, 55.4, 59, 59, 53.6]],\n",
        "    ['Russia', [35.6, 37.4, 39.2, 41, 42.8, 39.2, 35.6]],\n",
        "    ['Poland', [50, 50, 53.6, 57.2, 55.4, 55.4]]\n",
        "]\n",
        "```\n",
        "\n",
        "\n",
        "\n",
        "Результат:\n",
        "```\n",
        "Средняя температура в странах:\n",
        "Thailand  -  23.9 С\n",
        "Germany  -  13.8 С\n",
        "Russia  -  3.7 С\n",
        "Poland  -  12.0 С\n",
        "```\n"
      ],
      "metadata": {
        "id": "UZ_Y6FAj4L4k"
      }
    },
    {
      "cell_type": "code",
      "source": [
        "#устанавливаем библиотеку math для подсчёта суммы градусов\n",
        "import math\n",
        "\n",
        "countries_temperature = [\n",
        "    ['Thailand', [75.2, 77, 78.8, 73.4, 68, 75.2, 77]],\n",
        "    ['Germany', [57.2, 55.4, 59, 59, 53.6]],\n",
        "    ['Russia', [35.6, 37.4, 39.2, 41, 42.8, 39.2, 35.6]],\n",
        "    ['Poland', [50, 50, 53.6, 57.2, 55.4, 55.4]]\n",
        "]\n",
        "\n",
        "ind = -1\n",
        "print('Средняя температура в странах: ')\n",
        "while ind < int(len(countries_temperature)-1):\n",
        "  ind += 1\n",
        "  country = countries_temperature[ind][0]\n",
        "  farengate = countries_temperature[ind][1]\n",
        "  celsius = round(((math.fsum(farengate)/len(farengate)- 32)*5/9), 1)\n",
        "  print(f'{country} - {celsius} C')\n",
        "  "
      ],
      "metadata": {
        "colab": {
          "base_uri": "https://localhost:8080/"
        },
        "id": "26-jpmL-JEFi",
        "outputId": "dcbac52c-049a-4f8d-a7cf-b342f1df7ce4"
      },
      "execution_count": 4,
      "outputs": [
        {
          "output_type": "stream",
          "name": "stdout",
          "text": [
            "Средняя температура в странах: \n",
            "Thailand - 23.9 C\n",
            "Germany - 13.8 C\n",
            "Russia - 3.7 C\n",
            "Poland - 12.0 C\n"
          ]
        }
      ]
    },
    {
      "cell_type": "markdown",
      "source": [
        "\n",
        "###Задание 5 (необязательное)\n",
        "\n",
        "Дан поток логов по количеству просмотренных страниц для каждого пользователя. Вам необходимо написать алгоритм, который считает среднее значение просмотров на пользователя. Т. е. надо посчитать отношение суммы всех просмотров к количеству уникальных пользователей.\n",
        "\n",
        "Примеры работы программы:\n",
        "```\n",
        "stream = [\n",
        "    '2018-01-01,user1,3',\n",
        "    '2018-01-07,user1,4',\n",
        "    '2018-03-29,user1,1',\n",
        "    '2018-04-04,user1,13',\n",
        "    '2018-01-05,user2,7',\n",
        "    '2018-06-14,user3,4',\n",
        "    '2018-07-02,user3,10',\n",
        "    '2018-03-21,user4,19',\n",
        "    '2018-03-22,user4,4',\n",
        "    '2018-04-22,user4,8',\n",
        "    '2018-05-03,user4,9',\n",
        "    '2018-05-11,user4,11',\n",
        "]\n",
        "```\n",
        "Результат:\n",
        "> Среднее количество просмотров на уникального пользователя: 23.25\n",
        "\n",
        "```\n",
        "stream = [\n",
        "    '2018-01-01,user100,150',\n",
        "    '2018-01-07,user99,205',\n",
        "    '2018-03-29,user1001,81'\n",
        "]\n",
        "```\n",
        "Результат:\n",
        "> Среднее количество просмотров на уникального пользователя: 145.33\n"
      ],
      "metadata": {
        "id": "G6rHhzHO6jfk"
      }
    },
    {
      "cell_type": "code",
      "source": [
        "stream = [\n",
        "    '2018-01-01,user1,3',\n",
        "    '2018-01-07,user1,4',\n",
        "    '2018-03-29,user1,1',\n",
        "    '2018-04-04,user1,13',\n",
        "    '2018-01-05,user2,7',\n",
        "    '2018-06-14,user3,4',\n",
        "    '2018-07-02,user3,10',\n",
        "    '2018-03-21,user4,19',\n",
        "    '2018-03-22,user4,4',\n",
        "    '2018-04-22,user4,8',\n",
        "    '2018-05-03,user4,9',\n",
        "    '2018-05-11,user4,11',\n",
        "]"
      ],
      "metadata": {
        "id": "IWmGB5n76xbX"
      },
      "execution_count": 5,
      "outputs": []
    },
    {
      "cell_type": "code",
      "source": [
        "#Из одного списка stream создаём список с вложенными списками, где каждый список включает один набор данных\n",
        "stream_list_end = []\n",
        "\n",
        "for element in stream:\n",
        "  stream_list = element.split(',')\n",
        "  stream_list_end.append(stream_list)\n",
        "print(stream_list_end)"
      ],
      "metadata": {
        "colab": {
          "base_uri": "https://localhost:8080/"
        },
        "id": "A6IAV_ZZNcXG",
        "outputId": "4fd361ee-78cd-4707-b1f7-50fac701c761"
      },
      "execution_count": 6,
      "outputs": [
        {
          "output_type": "stream",
          "name": "stdout",
          "text": [
            "[['2018-01-01', 'user1', '3'], ['2018-01-07', 'user1', '4'], ['2018-03-29', 'user1', '1'], ['2018-04-04', 'user1', '13'], ['2018-01-05', 'user2', '7'], ['2018-06-14', 'user3', '4'], ['2018-07-02', 'user3', '10'], ['2018-03-21', 'user4', '19'], ['2018-03-22', 'user4', '4'], ['2018-04-22', 'user4', '8'], ['2018-05-03', 'user4', '9'], ['2018-05-11', 'user4', '11']]\n"
          ]
        }
      ]
    },
    {
      "cell_type": "code",
      "source": [
        "#Создаём список со всеми идентификаторами пользователей\n",
        "ind = len(stream_list_end)\n",
        "user_id_list = []\n",
        "while ind <= len(stream_list_end) and ind > 0:\n",
        "  ind -= 1\n",
        "  user_id = stream_list_end[ind][1]\n",
        "  user_id_list.append(user_id)\n",
        "#Удаляем дубликаты идентификаторов пользователей\n",
        "user_uniq_list = []\n",
        "for user in user_id_list:\n",
        "  if user not in user_uniq_list:\n",
        "    user_uniq_list.append(user)\n",
        "print(user_uniq_list)\n",
        "#Считаем количество уникальных пользователей\n",
        "count_uniq_user = len(user_uniq_list)\n",
        "count_uniq_user"
      ],
      "metadata": {
        "colab": {
          "base_uri": "https://localhost:8080/"
        },
        "id": "vtkSh9vzu6Wi",
        "outputId": "67a3a693-c732-4003-db03-7d4641f17527"
      },
      "execution_count": 7,
      "outputs": [
        {
          "output_type": "stream",
          "name": "stdout",
          "text": [
            "['user4', 'user3', 'user2', 'user1']\n"
          ]
        },
        {
          "output_type": "execute_result",
          "data": {
            "text/plain": [
              "4"
            ]
          },
          "metadata": {},
          "execution_count": 7
        }
      ]
    },
    {
      "cell_type": "code",
      "source": [
        "#Создаём список со всеми просмотрами\n",
        "ind_w = len(stream_list_end)\n",
        "watch_list = []\n",
        "while ind_w <= len(stream_list_end) and ind_w > 0:\n",
        "  ind_w -= 1\n",
        "  watch = stream_list_end[ind_w][2]\n",
        "  watch_list.append(watch)\n",
        "print(watch_list)\n",
        "#Переводим данные в цельночисловой тип\n",
        "watch_list_int = [int(i) for i in watch_list]\n",
        "#Подсчитываем общее количество всех просмотров\n",
        "all_watch = math.fsum(watch_list_int)\n",
        "all_watch"
      ],
      "metadata": {
        "colab": {
          "base_uri": "https://localhost:8080/"
        },
        "id": "pHMTwSBYy7K7",
        "outputId": "9864e39a-3c31-4315-9197-ef879806984d"
      },
      "execution_count": 8,
      "outputs": [
        {
          "output_type": "stream",
          "name": "stdout",
          "text": [
            "['11', '9', '8', '4', '19', '10', '4', '7', '13', '1', '4', '3']\n"
          ]
        },
        {
          "output_type": "execute_result",
          "data": {
            "text/plain": [
              "93.0"
            ]
          },
          "metadata": {},
          "execution_count": 8
        }
      ]
    },
    {
      "cell_type": "code",
      "source": [
        "#Выводим результат\n",
        "print(f'Среднее количество просмотров на уникального пользователя: {all_watch/count_uniq_user}')"
      ],
      "metadata": {
        "colab": {
          "base_uri": "https://localhost:8080/"
        },
        "id": "uMmmMME225wa",
        "outputId": "bc9fbfec-92d8-4d55-8cba-e378fdc8ecef"
      },
      "execution_count": 9,
      "outputs": [
        {
          "output_type": "stream",
          "name": "stdout",
          "text": [
            "Среднее количество просмотров на уникального пользователя: 23.25\n"
          ]
        }
      ]
    },
    {
      "cell_type": "markdown",
      "source": [
        "\n",
        "###Задание 6 (необязательное)\n",
        "\n",
        "Необходимо у пользователя запрашивать набор чисел разделенных пробелом. В результате в отсортированном порядке должны выводиться числа, которые повторяются в вводе более одного раза.\n",
        "\n",
        "Примеры работы программы:\n",
        "```\n",
        "Введите числа:\n",
        "4 8 0 3 4 2 0 3\n",
        "```\n",
        "Результат:\n",
        "> 0 3 4\n",
        "\n",
        "```\n",
        "Введите числа:\n",
        "1 1 2 2 3 3\n",
        "```\n",
        "Результат:\n",
        "> 1 2 3\n",
        "\n",
        "```\n",
        "Введите числа:\n",
        "10 15 15 103 200 200 200 1 1 1 1 1 2 2 2\n",
        "```\n",
        "Результат:\n",
        "> 1 2 15 200\n"
      ],
      "metadata": {
        "id": "Gzz_BQdG6xyV"
      }
    },
    {
      "cell_type": "code",
      "source": [
        "#Запрашиваем набор чисел через пробел\n",
        "numbers = input('Введите числа: ')\n",
        "\n",
        "#Преобразуем строку в список, переводим в цельночисловой тип и сортируем по возрастанию\n",
        "numbers_list = numbers.split(' ')\n",
        "numbers_list = [int(i) for i in numbers_list]\n",
        "numbers_list = sorted(numbers_list)\n",
        "numbers_list"
      ],
      "metadata": {
        "id": "V6JsYFLd7DON",
        "colab": {
          "base_uri": "https://localhost:8080/"
        },
        "outputId": "46fe32f0-36c3-4993-cd32-76790e8aa175"
      },
      "execution_count": 10,
      "outputs": [
        {
          "name": "stdout",
          "output_type": "stream",
          "text": [
            "Введите числа: 10 15 15 103 200 200 200 1 1 1 1 1 2 2 2\n"
          ]
        },
        {
          "output_type": "execute_result",
          "data": {
            "text/plain": [
              "[1, 1, 1, 1, 1, 2, 2, 2, 10, 15, 15, 103, 200, 200, 200]"
            ]
          },
          "metadata": {},
          "execution_count": 10
        }
      ]
    },
    {
      "cell_type": "code",
      "source": [
        "#Оставляем только те элементы, количество вхождений в список которых, более 1 раза\n",
        "li = []\n",
        "for number in numbers_list:\n",
        "  if numbers_list.count(number) > 1:\n",
        "    li.append(number)\n",
        "li"
      ],
      "metadata": {
        "colab": {
          "base_uri": "https://localhost:8080/"
        },
        "id": "H7ps-mIk_EJA",
        "outputId": "2833e985-604b-4fa4-a39a-767997158b2f"
      },
      "execution_count": 11,
      "outputs": [
        {
          "output_type": "execute_result",
          "data": {
            "text/plain": [
              "[1, 1, 1, 1, 1, 2, 2, 2, 15, 15, 200, 200, 200]"
            ]
          },
          "metadata": {},
          "execution_count": 11
        }
      ]
    },
    {
      "cell_type": "code",
      "source": [
        "#Удаляем дубликаты\n",
        "uniq_li = []\n",
        "for i in li:\n",
        "  if i not in uniq_li:\n",
        "    uniq_li.append(i)\n",
        "uniq_li"
      ],
      "metadata": {
        "colab": {
          "base_uri": "https://localhost:8080/"
        },
        "id": "Dpv7kVAFB3Tv",
        "outputId": "012efce4-f633-4529-8176-04662019efd4"
      },
      "execution_count": 12,
      "outputs": [
        {
          "output_type": "execute_result",
          "data": {
            "text/plain": [
              "[1, 2, 15, 200]"
            ]
          },
          "metadata": {},
          "execution_count": 12
        }
      ]
    }
  ]
}