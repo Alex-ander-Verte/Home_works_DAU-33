{
 "cells": [
  {
   "cell_type": "markdown",
   "id": "f3326f46",
   "metadata": {},
   "source": [
    "\n",
    "# Домашнее задание к лекции \"Статистика. Практика\"\n",
    "\n",
    "### Задание 1\n",
    "\n",
    "Вернемся к [набору данных о видеоиграх](https://github.com/obulygin/pyda_homeworks/blob/master/stat_case_study/vgsales.csv).\n",
    "\n",
    "Ответьте на следующие вопросы:\n",
    "\n",
    "1) Как критики относятся к спортивным играм?\n",
    "2) Критикам нравятся больше игры на PC или на PS4?\n",
    "3) Критикам больше нравятся стрелялки или стратегии?\n",
    "\n",
    "Для каждого вопроса:\n",
    "\n",
    "* сформулируйте нулевую и альтернативную гипотезы;\n",
    "* выберите пороговый уровень статистической значимости;\n",
    "* опишите полученные результаты статистического теста.\n",
    "\n",
    "### Задание 2\n",
    "\n",
    "Реализуйте базовую модель логистической регрессии для классификации текстовых сообщений (используемые данные [здесь](https://github.com/obulygin/pyda_homeworks/blob/master/stat_case_study/spam.csv)) по признаку спама. Для этого:\n",
    "\n",
    "1) Привидите весь текст к нижнему регистру;\n",
    "2) Удалите мусорные символы;\n",
    "3) Удалите стоп-слова;\n",
    "4) Привидите все слова к нормальной форме;\n",
    "5) Преобразуйте все сообщения в вектора TF-IDF. Вам поможет следующий код:\n",
    "\n",
    "```\n",
    "from sklearn.feature_extraction.text import TfidfVectorizer\n",
    "\n",
    "tfidf = TfidfVectorizer()\n",
    "tfidf_matrix = tfidf.fit_transform(df.Message)\n",
    "names = tfidf.get_feature_names_out()\n",
    "tfidf_matrix = pd.DataFrame(tfidf_matrix.toarray(), columns=names)\n",
    "```\n",
    "\n",
    "Можете поэкспериментировать с параметрами [TfidfVectorizer](https://scikit-learn.org/stable/modules/generated/sklearn.feature_extraction.text.TfidfVectorizer.html);\n",
    "6) Разделите данные на тестовые и тренировочные в соотношении 30/70, укажите `random_state=42`. Используйте [train_test_split](https://scikit-learn.org/stable/modules/generated/sklearn.model_selection.train_test_split.html);\n",
    "7) Постройте модель [логистической регрессии](https://scikit-learn.org/stable/modules/generated/sklearn.linear_model.LogisticRegression.html), укажите `random_state=42`, оцените ее точность на тестовых данных;\n",
    "8) Опишите результаты при помощи [confusion_matrix](https://scikit-learn.org/stable/modules/generated/sklearn.metrics.confusion_matrix.html?highlight=confusion_matrix#sklearn.metrics.confusion_matrix);\n",
    "9) Постройте датафрейм, который будет содержать все исходные тексты сообщений, классифицированные неправильно (с указанием фактического и предсказанного).\n",
    "\n",
    "#### ПРИМЕЧАНИЕ\n",
    "\n",
    "Домашнее задание сдается ссылкой [Google Colab](https://colab.research.google.com/). Не сможем проверить или помочь, если вы пришлете:\n",
    "\n",
    "* файлы;\n",
    "* архивы;\n",
    "* скриншоты кода.\n",
    "\n",
    "Все обсуждения и консультации по выполнению домашнего задания ведутся только на соответствующем канале в slack.\n",
    "Как правильно задавать вопросы аспирантам, преподавателям и коллегам?\n",
    "\n",
    "Прежде чем задать вопрос необходимо попробовать найти ответ самому в интернете. Навык самостоятельного поиска информации – один из важнейших, и каждый практикующий специалист любого уровня это делает каждый день.\n",
    "\n",
    "Любой вопрос должен быть сформулирован по алгоритму:\n",
    "\n",
    "* Что я делаю?\n",
    "* Какого результата я ожидаю?\n",
    "* Как фактический результат отличается от ожидаемого?\n",
    "* Что я уже попробовал сделать, чтобы исправить проблему?\n",
    "\n",
    "По возможности, прикрепляйте к вопросу скриншоты, либо ссылки на код. Оставляйте только проблемный и воспроизводимый участок кода, все решение выкладывать не допускается.\n"
   ]
  },
  {
   "cell_type": "code",
   "execution_count": 1,
   "id": "759d2daf",
   "metadata": {},
   "outputs": [],
   "source": [
    "#Подключаем библиотеки\n",
    "import pandas as pd\n",
    "import numpy as np\n",
    "import matplotlib.pyplot as plt\n",
    "from sklearn.feature_extraction.text import TfidfVectorizer\n",
    "from scipy import stats\n",
    "import seaborn as sns"
   ]
  },
  {
   "cell_type": "markdown",
   "id": "c440bb49",
   "metadata": {},
   "source": [
    "#### Задание 1"
   ]
  },
  {
   "cell_type": "code",
   "execution_count": 2,
   "id": "dfdcde4a",
   "metadata": {},
   "outputs": [
    {
     "data": {
      "text/html": [
       "<div>\n",
       "<style scoped>\n",
       "    .dataframe tbody tr th:only-of-type {\n",
       "        vertical-align: middle;\n",
       "    }\n",
       "\n",
       "    .dataframe tbody tr th {\n",
       "        vertical-align: top;\n",
       "    }\n",
       "\n",
       "    .dataframe thead th {\n",
       "        text-align: right;\n",
       "    }\n",
       "</style>\n",
       "<table border=\"1\" class=\"dataframe\">\n",
       "  <thead>\n",
       "    <tr style=\"text-align: right;\">\n",
       "      <th></th>\n",
       "      <th>Name</th>\n",
       "      <th>Platform</th>\n",
       "      <th>Year_of_Release</th>\n",
       "      <th>Genre</th>\n",
       "      <th>Publisher</th>\n",
       "      <th>NA_Sales</th>\n",
       "      <th>EU_Sales</th>\n",
       "      <th>JP_Sales</th>\n",
       "      <th>Other_Sales</th>\n",
       "      <th>Global_Sales</th>\n",
       "      <th>Critic_Score</th>\n",
       "      <th>Critic_Count</th>\n",
       "      <th>User_Score</th>\n",
       "      <th>User_Count</th>\n",
       "      <th>Developer</th>\n",
       "      <th>Rating</th>\n",
       "    </tr>\n",
       "  </thead>\n",
       "  <tbody>\n",
       "    <tr>\n",
       "      <th>0</th>\n",
       "      <td>Wii Sports</td>\n",
       "      <td>Wii</td>\n",
       "      <td>2006.0</td>\n",
       "      <td>Sports</td>\n",
       "      <td>Nintendo</td>\n",
       "      <td>41.36</td>\n",
       "      <td>28.96</td>\n",
       "      <td>3.77</td>\n",
       "      <td>8.45</td>\n",
       "      <td>82.53</td>\n",
       "      <td>76.0</td>\n",
       "      <td>51.0</td>\n",
       "      <td>8</td>\n",
       "      <td>322.0</td>\n",
       "      <td>Nintendo</td>\n",
       "      <td>E</td>\n",
       "    </tr>\n",
       "    <tr>\n",
       "      <th>1</th>\n",
       "      <td>Super Mario Bros.</td>\n",
       "      <td>NES</td>\n",
       "      <td>1985.0</td>\n",
       "      <td>Platform</td>\n",
       "      <td>Nintendo</td>\n",
       "      <td>29.08</td>\n",
       "      <td>3.58</td>\n",
       "      <td>6.81</td>\n",
       "      <td>0.77</td>\n",
       "      <td>40.24</td>\n",
       "      <td>NaN</td>\n",
       "      <td>NaN</td>\n",
       "      <td>NaN</td>\n",
       "      <td>NaN</td>\n",
       "      <td>NaN</td>\n",
       "      <td>NaN</td>\n",
       "    </tr>\n",
       "    <tr>\n",
       "      <th>2</th>\n",
       "      <td>Mario Kart Wii</td>\n",
       "      <td>Wii</td>\n",
       "      <td>2008.0</td>\n",
       "      <td>Racing</td>\n",
       "      <td>Nintendo</td>\n",
       "      <td>15.68</td>\n",
       "      <td>12.76</td>\n",
       "      <td>3.79</td>\n",
       "      <td>3.29</td>\n",
       "      <td>35.52</td>\n",
       "      <td>82.0</td>\n",
       "      <td>73.0</td>\n",
       "      <td>8.3</td>\n",
       "      <td>709.0</td>\n",
       "      <td>Nintendo</td>\n",
       "      <td>E</td>\n",
       "    </tr>\n",
       "    <tr>\n",
       "      <th>3</th>\n",
       "      <td>Wii Sports Resort</td>\n",
       "      <td>Wii</td>\n",
       "      <td>2009.0</td>\n",
       "      <td>Sports</td>\n",
       "      <td>Nintendo</td>\n",
       "      <td>15.61</td>\n",
       "      <td>10.93</td>\n",
       "      <td>3.28</td>\n",
       "      <td>2.95</td>\n",
       "      <td>32.77</td>\n",
       "      <td>80.0</td>\n",
       "      <td>73.0</td>\n",
       "      <td>8</td>\n",
       "      <td>192.0</td>\n",
       "      <td>Nintendo</td>\n",
       "      <td>E</td>\n",
       "    </tr>\n",
       "    <tr>\n",
       "      <th>4</th>\n",
       "      <td>Pokemon Red/Pokemon Blue</td>\n",
       "      <td>GB</td>\n",
       "      <td>1996.0</td>\n",
       "      <td>Role-Playing</td>\n",
       "      <td>Nintendo</td>\n",
       "      <td>11.27</td>\n",
       "      <td>8.89</td>\n",
       "      <td>10.22</td>\n",
       "      <td>1.00</td>\n",
       "      <td>31.37</td>\n",
       "      <td>NaN</td>\n",
       "      <td>NaN</td>\n",
       "      <td>NaN</td>\n",
       "      <td>NaN</td>\n",
       "      <td>NaN</td>\n",
       "      <td>NaN</td>\n",
       "    </tr>\n",
       "  </tbody>\n",
       "</table>\n",
       "</div>"
      ],
      "text/plain": [
       "                       Name Platform  Year_of_Release         Genre Publisher  \\\n",
       "0                Wii Sports      Wii           2006.0        Sports  Nintendo   \n",
       "1         Super Mario Bros.      NES           1985.0      Platform  Nintendo   \n",
       "2            Mario Kart Wii      Wii           2008.0        Racing  Nintendo   \n",
       "3         Wii Sports Resort      Wii           2009.0        Sports  Nintendo   \n",
       "4  Pokemon Red/Pokemon Blue       GB           1996.0  Role-Playing  Nintendo   \n",
       "\n",
       "   NA_Sales  EU_Sales  JP_Sales  Other_Sales  Global_Sales  Critic_Score  \\\n",
       "0     41.36     28.96      3.77         8.45         82.53          76.0   \n",
       "1     29.08      3.58      6.81         0.77         40.24           NaN   \n",
       "2     15.68     12.76      3.79         3.29         35.52          82.0   \n",
       "3     15.61     10.93      3.28         2.95         32.77          80.0   \n",
       "4     11.27      8.89     10.22         1.00         31.37           NaN   \n",
       "\n",
       "   Critic_Count User_Score  User_Count Developer Rating  \n",
       "0          51.0          8       322.0  Nintendo      E  \n",
       "1           NaN        NaN         NaN       NaN    NaN  \n",
       "2          73.0        8.3       709.0  Nintendo      E  \n",
       "3          73.0          8       192.0  Nintendo      E  \n",
       "4           NaN        NaN         NaN       NaN    NaN  "
      ]
     },
     "execution_count": 2,
     "metadata": {},
     "output_type": "execute_result"
    }
   ],
   "source": [
    "df_games = pd.read_csv('vgsales.csv')\n",
    "df_games.head()"
   ]
  },
  {
   "cell_type": "code",
   "execution_count": 3,
   "id": "9e9689ab",
   "metadata": {},
   "outputs": [
    {
     "name": "stdout",
     "output_type": "stream",
     "text": [
      "<class 'pandas.core.frame.DataFrame'>\n",
      "RangeIndex: 16719 entries, 0 to 16718\n",
      "Data columns (total 16 columns):\n",
      " #   Column           Non-Null Count  Dtype  \n",
      "---  ------           --------------  -----  \n",
      " 0   Name             16717 non-null  object \n",
      " 1   Platform         16719 non-null  object \n",
      " 2   Year_of_Release  16450 non-null  float64\n",
      " 3   Genre            16717 non-null  object \n",
      " 4   Publisher        16665 non-null  object \n",
      " 5   NA_Sales         16719 non-null  float64\n",
      " 6   EU_Sales         16719 non-null  float64\n",
      " 7   JP_Sales         16719 non-null  float64\n",
      " 8   Other_Sales      16719 non-null  float64\n",
      " 9   Global_Sales     16719 non-null  float64\n",
      " 10  Critic_Score     8137 non-null   float64\n",
      " 11  Critic_Count     8137 non-null   float64\n",
      " 12  User_Score       10015 non-null  object \n",
      " 13  User_Count       7590 non-null   float64\n",
      " 14  Developer        10096 non-null  object \n",
      " 15  Rating           9950 non-null   object \n",
      "dtypes: float64(9), object(7)\n",
      "memory usage: 2.0+ MB\n"
     ]
    }
   ],
   "source": [
    "df_games.info()"
   ]
  },
  {
   "cell_type": "code",
   "execution_count": 4,
   "id": "0e2f186c",
   "metadata": {},
   "outputs": [
    {
     "data": {
      "text/html": [
       "<div>\n",
       "<style scoped>\n",
       "    .dataframe tbody tr th:only-of-type {\n",
       "        vertical-align: middle;\n",
       "    }\n",
       "\n",
       "    .dataframe tbody tr th {\n",
       "        vertical-align: top;\n",
       "    }\n",
       "\n",
       "    .dataframe thead th {\n",
       "        text-align: right;\n",
       "    }\n",
       "</style>\n",
       "<table border=\"1\" class=\"dataframe\">\n",
       "  <thead>\n",
       "    <tr style=\"text-align: right;\">\n",
       "      <th></th>\n",
       "      <th>Year_of_Release</th>\n",
       "      <th>NA_Sales</th>\n",
       "      <th>EU_Sales</th>\n",
       "      <th>JP_Sales</th>\n",
       "      <th>Other_Sales</th>\n",
       "      <th>Global_Sales</th>\n",
       "      <th>Critic_Score</th>\n",
       "      <th>Critic_Count</th>\n",
       "      <th>User_Count</th>\n",
       "    </tr>\n",
       "  </thead>\n",
       "  <tbody>\n",
       "    <tr>\n",
       "      <th>count</th>\n",
       "      <td>16450.000000</td>\n",
       "      <td>16719.000000</td>\n",
       "      <td>16719.000000</td>\n",
       "      <td>16719.000000</td>\n",
       "      <td>16719.000000</td>\n",
       "      <td>16719.000000</td>\n",
       "      <td>8137.000000</td>\n",
       "      <td>8137.000000</td>\n",
       "      <td>7590.000000</td>\n",
       "    </tr>\n",
       "    <tr>\n",
       "      <th>mean</th>\n",
       "      <td>2006.487356</td>\n",
       "      <td>0.263330</td>\n",
       "      <td>0.145025</td>\n",
       "      <td>0.077602</td>\n",
       "      <td>0.047332</td>\n",
       "      <td>0.533543</td>\n",
       "      <td>68.967679</td>\n",
       "      <td>26.360821</td>\n",
       "      <td>162.229908</td>\n",
       "    </tr>\n",
       "    <tr>\n",
       "      <th>std</th>\n",
       "      <td>5.878995</td>\n",
       "      <td>0.813514</td>\n",
       "      <td>0.503283</td>\n",
       "      <td>0.308818</td>\n",
       "      <td>0.186710</td>\n",
       "      <td>1.547935</td>\n",
       "      <td>13.938165</td>\n",
       "      <td>18.980495</td>\n",
       "      <td>561.282326</td>\n",
       "    </tr>\n",
       "    <tr>\n",
       "      <th>min</th>\n",
       "      <td>1980.000000</td>\n",
       "      <td>0.000000</td>\n",
       "      <td>0.000000</td>\n",
       "      <td>0.000000</td>\n",
       "      <td>0.000000</td>\n",
       "      <td>0.010000</td>\n",
       "      <td>13.000000</td>\n",
       "      <td>3.000000</td>\n",
       "      <td>4.000000</td>\n",
       "    </tr>\n",
       "    <tr>\n",
       "      <th>25%</th>\n",
       "      <td>2003.000000</td>\n",
       "      <td>0.000000</td>\n",
       "      <td>0.000000</td>\n",
       "      <td>0.000000</td>\n",
       "      <td>0.000000</td>\n",
       "      <td>0.060000</td>\n",
       "      <td>60.000000</td>\n",
       "      <td>12.000000</td>\n",
       "      <td>10.000000</td>\n",
       "    </tr>\n",
       "    <tr>\n",
       "      <th>50%</th>\n",
       "      <td>2007.000000</td>\n",
       "      <td>0.080000</td>\n",
       "      <td>0.020000</td>\n",
       "      <td>0.000000</td>\n",
       "      <td>0.010000</td>\n",
       "      <td>0.170000</td>\n",
       "      <td>71.000000</td>\n",
       "      <td>21.000000</td>\n",
       "      <td>24.000000</td>\n",
       "    </tr>\n",
       "    <tr>\n",
       "      <th>75%</th>\n",
       "      <td>2010.000000</td>\n",
       "      <td>0.240000</td>\n",
       "      <td>0.110000</td>\n",
       "      <td>0.040000</td>\n",
       "      <td>0.030000</td>\n",
       "      <td>0.470000</td>\n",
       "      <td>79.000000</td>\n",
       "      <td>36.000000</td>\n",
       "      <td>81.000000</td>\n",
       "    </tr>\n",
       "    <tr>\n",
       "      <th>max</th>\n",
       "      <td>2020.000000</td>\n",
       "      <td>41.360000</td>\n",
       "      <td>28.960000</td>\n",
       "      <td>10.220000</td>\n",
       "      <td>10.570000</td>\n",
       "      <td>82.530000</td>\n",
       "      <td>98.000000</td>\n",
       "      <td>113.000000</td>\n",
       "      <td>10665.000000</td>\n",
       "    </tr>\n",
       "  </tbody>\n",
       "</table>\n",
       "</div>"
      ],
      "text/plain": [
       "       Year_of_Release      NA_Sales      EU_Sales      JP_Sales  \\\n",
       "count     16450.000000  16719.000000  16719.000000  16719.000000   \n",
       "mean       2006.487356      0.263330      0.145025      0.077602   \n",
       "std           5.878995      0.813514      0.503283      0.308818   \n",
       "min        1980.000000      0.000000      0.000000      0.000000   \n",
       "25%        2003.000000      0.000000      0.000000      0.000000   \n",
       "50%        2007.000000      0.080000      0.020000      0.000000   \n",
       "75%        2010.000000      0.240000      0.110000      0.040000   \n",
       "max        2020.000000     41.360000     28.960000     10.220000   \n",
       "\n",
       "        Other_Sales  Global_Sales  Critic_Score  Critic_Count    User_Count  \n",
       "count  16719.000000  16719.000000   8137.000000   8137.000000   7590.000000  \n",
       "mean       0.047332      0.533543     68.967679     26.360821    162.229908  \n",
       "std        0.186710      1.547935     13.938165     18.980495    561.282326  \n",
       "min        0.000000      0.010000     13.000000      3.000000      4.000000  \n",
       "25%        0.000000      0.060000     60.000000     12.000000     10.000000  \n",
       "50%        0.010000      0.170000     71.000000     21.000000     24.000000  \n",
       "75%        0.030000      0.470000     79.000000     36.000000     81.000000  \n",
       "max       10.570000     82.530000     98.000000    113.000000  10665.000000  "
      ]
     },
     "execution_count": 4,
     "metadata": {},
     "output_type": "execute_result"
    }
   ],
   "source": [
    "df_games.describe()"
   ]
  },
  {
   "cell_type": "markdown",
   "id": "865a04d7",
   "metadata": {},
   "source": [
    "**Как критики относятся к спортивным играм?**\n",
    "\n",
    "H0: В среднем критики оценивают спорт игры также как и остальные.\n",
    "\n",
    "H1: В среднем критики оценивают спорт игры иначе, чем остальные."
   ]
  },
  {
   "cell_type": "code",
   "execution_count": 5,
   "id": "927390db",
   "metadata": {},
   "outputs": [],
   "source": [
    "#Создаём df со спорт.играми и остальными\n",
    "df_games_sport = df_games[['Name', 'Genre', 'Critic_Score']].loc[df_games['Genre'] == 'Sports']\n",
    "df_games_no_sport = df_games[['Name', 'Genre', 'Critic_Score']].loc[df_games['Genre'] != 'Sports']"
   ]
  },
  {
   "cell_type": "code",
   "execution_count": 6,
   "id": "810e7ed6",
   "metadata": {},
   "outputs": [
    {
     "data": {
      "text/html": [
       "<div>\n",
       "<style scoped>\n",
       "    .dataframe tbody tr th:only-of-type {\n",
       "        vertical-align: middle;\n",
       "    }\n",
       "\n",
       "    .dataframe tbody tr th {\n",
       "        vertical-align: top;\n",
       "    }\n",
       "\n",
       "    .dataframe thead th {\n",
       "        text-align: right;\n",
       "    }\n",
       "</style>\n",
       "<table border=\"1\" class=\"dataframe\">\n",
       "  <thead>\n",
       "    <tr style=\"text-align: right;\">\n",
       "      <th></th>\n",
       "      <th>Critic_Score</th>\n",
       "    </tr>\n",
       "  </thead>\n",
       "  <tbody>\n",
       "    <tr>\n",
       "      <th>count</th>\n",
       "      <td>1194.000000</td>\n",
       "    </tr>\n",
       "    <tr>\n",
       "      <th>mean</th>\n",
       "      <td>71.968174</td>\n",
       "    </tr>\n",
       "    <tr>\n",
       "      <th>std</th>\n",
       "      <td>13.878433</td>\n",
       "    </tr>\n",
       "    <tr>\n",
       "      <th>min</th>\n",
       "      <td>19.000000</td>\n",
       "    </tr>\n",
       "    <tr>\n",
       "      <th>25%</th>\n",
       "      <td>64.000000</td>\n",
       "    </tr>\n",
       "    <tr>\n",
       "      <th>50%</th>\n",
       "      <td>75.000000</td>\n",
       "    </tr>\n",
       "    <tr>\n",
       "      <th>75%</th>\n",
       "      <td>82.000000</td>\n",
       "    </tr>\n",
       "    <tr>\n",
       "      <th>max</th>\n",
       "      <td>98.000000</td>\n",
       "    </tr>\n",
       "  </tbody>\n",
       "</table>\n",
       "</div>"
      ],
      "text/plain": [
       "       Critic_Score\n",
       "count   1194.000000\n",
       "mean      71.968174\n",
       "std       13.878433\n",
       "min       19.000000\n",
       "25%       64.000000\n",
       "50%       75.000000\n",
       "75%       82.000000\n",
       "max       98.000000"
      ]
     },
     "execution_count": 6,
     "metadata": {},
     "output_type": "execute_result"
    }
   ],
   "source": [
    "df_games_sport.describe()"
   ]
  },
  {
   "cell_type": "code",
   "execution_count": 7,
   "id": "51edc8a9",
   "metadata": {},
   "outputs": [
    {
     "name": "stdout",
     "output_type": "stream",
     "text": [
      "<class 'pandas.core.frame.DataFrame'>\n",
      "Int64Index: 2348 entries, 0 to 16715\n",
      "Data columns (total 3 columns):\n",
      " #   Column        Non-Null Count  Dtype  \n",
      "---  ------        --------------  -----  \n",
      " 0   Name          2348 non-null   object \n",
      " 1   Genre         2348 non-null   object \n",
      " 2   Critic_Score  1194 non-null   float64\n",
      "dtypes: float64(1), object(2)\n",
      "memory usage: 73.4+ KB\n"
     ]
    }
   ],
   "source": [
    "df_games_sport.info() #почти половина игр не имеет оценок от критиков"
   ]
  },
  {
   "cell_type": "code",
   "execution_count": 8,
   "id": "ccae0e09",
   "metadata": {},
   "outputs": [
    {
     "data": {
      "text/plain": [
       "(array([  7.,  11.,  31.,  53.,  91., 153., 231., 345., 232.,  40.]),\n",
       " array([19. , 26.9, 34.8, 42.7, 50.6, 58.5, 66.4, 74.3, 82.2, 90.1, 98. ]),\n",
       " <BarContainer object of 10 artists>)"
      ]
     },
     "execution_count": 8,
     "metadata": {},
     "output_type": "execute_result"
    },
    {
     "data": {
      "image/png": "[encoded data removed]",
      "text/plain": [
       "<Figure size 432x288 with 1 Axes>"
      ]
     },
     "metadata": {
      "needs_background": "light"
     },
     "output_type": "display_data"
    }
   ],
   "source": [
    "plt.hist(df_games_sport['Critic_Score'])"
   ]
  },
  {
   "cell_type": "code",
   "execution_count": 9,
   "id": "7c7cd3bd",
   "metadata": {},
   "outputs": [
    {
     "data": {
      "text/html": [
       "<div>\n",
       "<style scoped>\n",
       "    .dataframe tbody tr th:only-of-type {\n",
       "        vertical-align: middle;\n",
       "    }\n",
       "\n",
       "    .dataframe tbody tr th {\n",
       "        vertical-align: top;\n",
       "    }\n",
       "\n",
       "    .dataframe thead th {\n",
       "        text-align: right;\n",
       "    }\n",
       "</style>\n",
       "<table border=\"1\" class=\"dataframe\">\n",
       "  <thead>\n",
       "    <tr style=\"text-align: right;\">\n",
       "      <th></th>\n",
       "      <th>Critic_Score</th>\n",
       "    </tr>\n",
       "  </thead>\n",
       "  <tbody>\n",
       "    <tr>\n",
       "      <th>count</th>\n",
       "      <td>6943.000000</td>\n",
       "    </tr>\n",
       "    <tr>\n",
       "      <th>mean</th>\n",
       "      <td>68.451678</td>\n",
       "    </tr>\n",
       "    <tr>\n",
       "      <th>std</th>\n",
       "      <td>13.884206</td>\n",
       "    </tr>\n",
       "    <tr>\n",
       "      <th>min</th>\n",
       "      <td>13.000000</td>\n",
       "    </tr>\n",
       "    <tr>\n",
       "      <th>25%</th>\n",
       "      <td>60.000000</td>\n",
       "    </tr>\n",
       "    <tr>\n",
       "      <th>50%</th>\n",
       "      <td>70.000000</td>\n",
       "    </tr>\n",
       "    <tr>\n",
       "      <th>75%</th>\n",
       "      <td>79.000000</td>\n",
       "    </tr>\n",
       "    <tr>\n",
       "      <th>max</th>\n",
       "      <td>98.000000</td>\n",
       "    </tr>\n",
       "  </tbody>\n",
       "</table>\n",
       "</div>"
      ],
      "text/plain": [
       "       Critic_Score\n",
       "count   6943.000000\n",
       "mean      68.451678\n",
       "std       13.884206\n",
       "min       13.000000\n",
       "25%       60.000000\n",
       "50%       70.000000\n",
       "75%       79.000000\n",
       "max       98.000000"
      ]
     },
     "execution_count": 9,
     "metadata": {},
     "output_type": "execute_result"
    }
   ],
   "source": [
    "df_games_no_sport.describe()"
   ]
  },
  {
   "cell_type": "code",
   "execution_count": 10,
   "id": "d798e230",
   "metadata": {},
   "outputs": [
    {
     "name": "stdout",
     "output_type": "stream",
     "text": [
      "<class 'pandas.core.frame.DataFrame'>\n",
      "Int64Index: 14371 entries, 1 to 16718\n",
      "Data columns (total 3 columns):\n",
      " #   Column        Non-Null Count  Dtype  \n",
      "---  ------        --------------  -----  \n",
      " 0   Name          14369 non-null  object \n",
      " 1   Genre         14369 non-null  object \n",
      " 2   Critic_Score  6943 non-null   float64\n",
      "dtypes: float64(1), object(2)\n",
      "memory usage: 449.1+ KB\n"
     ]
    }
   ],
   "source": [
    "df_games_no_sport.info()"
   ]
  },
  {
   "cell_type": "code",
   "execution_count": 11,
   "id": "ec26aa72",
   "metadata": {},
   "outputs": [
    {
     "data": {
      "text/plain": [
       "(array([   8.,   46.,  159.,  297.,  700., 1085., 1679., 1562., 1140.,\n",
       "         267.]),\n",
       " array([13. , 21.5, 30. , 38.5, 47. , 55.5, 64. , 72.5, 81. , 89.5, 98. ]),\n",
       " <BarContainer object of 10 artists>)"
      ]
     },
     "execution_count": 11,
     "metadata": {},
     "output_type": "execute_result"
    },
    {
     "data": {
      "image/png": "[encoded data removed]",
      "text/plain": [
       "<Figure size 432x288 with 1 Axes>"
      ]
     },
     "metadata": {
      "needs_background": "light"
     },
     "output_type": "display_data"
    }
   ],
   "source": [
    "plt.hist(df_games_no_sport['Critic_Score'])"
   ]
  },
  {
   "cell_type": "code",
   "execution_count": 12,
   "id": "ced41d84",
   "metadata": {},
   "outputs": [
    {
     "name": "stdout",
     "output_type": "stream",
     "text": [
      "Статистика: 4839129.500, p: 0.000\n",
      "Отвергаем нулевую гипотезу\n"
     ]
    }
   ],
   "source": [
    "#Тест Манна-Уитни т.к. расрпеделение не относится к нормальному\n",
    "stat, p = stats.mannwhitneyu(df_games_sport['Critic_Score'], df_games_no_sport['Critic_Score'], nan_policy = 'omit')\n",
    "print(f'Статистика: {stat:.3f}, p: {p:.3f}')\n",
    "\n",
    "if p < 0.5:\n",
    "    print('Отвергаем нулевую гипотезу')\n",
    "else:\n",
    "    print('Не отвергаем нулевую гипотезу')"
   ]
  },
  {
   "cell_type": "code",
   "execution_count": 13,
   "id": "b7468fb2",
   "metadata": {},
   "outputs": [
    {
     "name": "stdout",
     "output_type": "stream",
     "text": [
      "В среднем критики оценивают спортивные игры выше, чем игры остальных жанров\n"
     ]
    }
   ],
   "source": [
    "if df_games_sport['Critic_Score'].mean() > df_games_no_sport['Critic_Score'].mean():\n",
    "    print('В среднем критики оценивают спортивные игры выше, чем игры остальных жанров')\n",
    "else:\n",
    "    print('В среднем критики оценивают спортивные игры ниже, чем игры остальных жанров')"
   ]
  },
  {
   "cell_type": "markdown",
   "id": "4270533a",
   "metadata": {},
   "source": [
    "На основе результатов теста Манна-Уитни мы можем предположить, что в среднем критики оценивают спорт игры иначе, чем остальные игры, в данном датасэте. При том, что для более чем половины игр отсутствует оценка критиков, можно сказать о более высоких оценках спортивных игр, чем остальных."
   ]
  },
  {
   "cell_type": "markdown",
   "id": "960275bf",
   "metadata": {},
   "source": [
    "**Критикам нравятся больше игры на PC или на PS4?**\n",
    "\n",
    "H0: В среднем критики одинаково относятся к играм на PC и PS4\n",
    "\n",
    "H1: В среднем критики по-разному относятся к играм на PC и PS4"
   ]
  },
  {
   "cell_type": "code",
   "execution_count": 14,
   "id": "75b2a4dd",
   "metadata": {},
   "outputs": [],
   "source": [
    "#Создаём df играми PC и PS4\n",
    "df_games_pc = df_games[['Name', 'Platform', 'Critic_Score']].loc[df_games['Platform'] == 'PC']\n",
    "df_games_ps4 = df_games[['Name', 'Platform', 'Critic_Score']].loc[df_games['Platform'] == 'PS4']"
   ]
  },
  {
   "cell_type": "code",
   "execution_count": 15,
   "id": "3b36384b",
   "metadata": {},
   "outputs": [
    {
     "name": "stdout",
     "output_type": "stream",
     "text": [
      "<class 'pandas.core.frame.DataFrame'>\n",
      "Int64Index: 974 entries, 85 to 16709\n",
      "Data columns (total 3 columns):\n",
      " #   Column        Non-Null Count  Dtype  \n",
      "---  ------        --------------  -----  \n",
      " 0   Name          974 non-null    object \n",
      " 1   Platform      974 non-null    object \n",
      " 2   Critic_Score  715 non-null    float64\n",
      "dtypes: float64(1), object(2)\n",
      "memory usage: 30.4+ KB\n"
     ]
    }
   ],
   "source": [
    "df_games_pc.info()"
   ]
  },
  {
   "cell_type": "code",
   "execution_count": 16,
   "id": "d93f2f97",
   "metadata": {},
   "outputs": [
    {
     "data": {
      "text/html": [
       "<div>\n",
       "<style scoped>\n",
       "    .dataframe tbody tr th:only-of-type {\n",
       "        vertical-align: middle;\n",
       "    }\n",
       "\n",
       "    .dataframe tbody tr th {\n",
       "        vertical-align: top;\n",
       "    }\n",
       "\n",
       "    .dataframe thead th {\n",
       "        text-align: right;\n",
       "    }\n",
       "</style>\n",
       "<table border=\"1\" class=\"dataframe\">\n",
       "  <thead>\n",
       "    <tr style=\"text-align: right;\">\n",
       "      <th></th>\n",
       "      <th>Critic_Score</th>\n",
       "    </tr>\n",
       "  </thead>\n",
       "  <tbody>\n",
       "    <tr>\n",
       "      <th>count</th>\n",
       "      <td>715.000000</td>\n",
       "    </tr>\n",
       "    <tr>\n",
       "      <th>mean</th>\n",
       "      <td>75.928671</td>\n",
       "    </tr>\n",
       "    <tr>\n",
       "      <th>std</th>\n",
       "      <td>11.170775</td>\n",
       "    </tr>\n",
       "    <tr>\n",
       "      <th>min</th>\n",
       "      <td>33.000000</td>\n",
       "    </tr>\n",
       "    <tr>\n",
       "      <th>25%</th>\n",
       "      <td>70.000000</td>\n",
       "    </tr>\n",
       "    <tr>\n",
       "      <th>50%</th>\n",
       "      <td>78.000000</td>\n",
       "    </tr>\n",
       "    <tr>\n",
       "      <th>75%</th>\n",
       "      <td>84.000000</td>\n",
       "    </tr>\n",
       "    <tr>\n",
       "      <th>max</th>\n",
       "      <td>96.000000</td>\n",
       "    </tr>\n",
       "  </tbody>\n",
       "</table>\n",
       "</div>"
      ],
      "text/plain": [
       "       Critic_Score\n",
       "count    715.000000\n",
       "mean      75.928671\n",
       "std       11.170775\n",
       "min       33.000000\n",
       "25%       70.000000\n",
       "50%       78.000000\n",
       "75%       84.000000\n",
       "max       96.000000"
      ]
     },
     "execution_count": 16,
     "metadata": {},
     "output_type": "execute_result"
    }
   ],
   "source": [
    "df_games_pc.describe()"
   ]
  },
  {
   "cell_type": "code",
   "execution_count": 17,
   "id": "c9aa9ed5",
   "metadata": {},
   "outputs": [
    {
     "data": {
      "text/plain": [
       "(array([  5.,   5.,  14.,  35.,  51.,  80., 161., 173., 131.,  60.]),\n",
       " array([33. , 39.3, 45.6, 51.9, 58.2, 64.5, 70.8, 77.1, 83.4, 89.7, 96. ]),\n",
       " <BarContainer object of 10 artists>)"
      ]
     },
     "execution_count": 17,
     "metadata": {},
     "output_type": "execute_result"
    },
    {
     "data": {
      "image/png": "[encoded data removed]",
      "text/plain": [
       "<Figure size 432x288 with 1 Axes>"
      ]
     },
     "metadata": {
      "needs_background": "light"
     },
     "output_type": "display_data"
    }
   ],
   "source": [
    "plt.hist(df_games_pc['Critic_Score'])"
   ]
  },
  {
   "cell_type": "code",
   "execution_count": 18,
   "id": "f870990f",
   "metadata": {},
   "outputs": [
    {
     "name": "stdout",
     "output_type": "stream",
     "text": [
      "<class 'pandas.core.frame.DataFrame'>\n",
      "Int64Index: 393 entries, 31 to 16589\n",
      "Data columns (total 3 columns):\n",
      " #   Column        Non-Null Count  Dtype  \n",
      "---  ------        --------------  -----  \n",
      " 0   Name          393 non-null    object \n",
      " 1   Platform      393 non-null    object \n",
      " 2   Critic_Score  252 non-null    float64\n",
      "dtypes: float64(1), object(2)\n",
      "memory usage: 12.3+ KB\n"
     ]
    }
   ],
   "source": [
    "df_games_ps4.info()"
   ]
  },
  {
   "cell_type": "code",
   "execution_count": 19,
   "id": "abb3b826",
   "metadata": {},
   "outputs": [
    {
     "data": {
      "text/html": [
       "<div>\n",
       "<style scoped>\n",
       "    .dataframe tbody tr th:only-of-type {\n",
       "        vertical-align: middle;\n",
       "    }\n",
       "\n",
       "    .dataframe tbody tr th {\n",
       "        vertical-align: top;\n",
       "    }\n",
       "\n",
       "    .dataframe thead th {\n",
       "        text-align: right;\n",
       "    }\n",
       "</style>\n",
       "<table border=\"1\" class=\"dataframe\">\n",
       "  <thead>\n",
       "    <tr style=\"text-align: right;\">\n",
       "      <th></th>\n",
       "      <th>Critic_Score</th>\n",
       "    </tr>\n",
       "  </thead>\n",
       "  <tbody>\n",
       "    <tr>\n",
       "      <th>count</th>\n",
       "      <td>252.000000</td>\n",
       "    </tr>\n",
       "    <tr>\n",
       "      <th>mean</th>\n",
       "      <td>72.091270</td>\n",
       "    </tr>\n",
       "    <tr>\n",
       "      <th>std</th>\n",
       "      <td>12.485992</td>\n",
       "    </tr>\n",
       "    <tr>\n",
       "      <th>min</th>\n",
       "      <td>19.000000</td>\n",
       "    </tr>\n",
       "    <tr>\n",
       "      <th>25%</th>\n",
       "      <td>66.000000</td>\n",
       "    </tr>\n",
       "    <tr>\n",
       "      <th>50%</th>\n",
       "      <td>73.000000</td>\n",
       "    </tr>\n",
       "    <tr>\n",
       "      <th>75%</th>\n",
       "      <td>80.000000</td>\n",
       "    </tr>\n",
       "    <tr>\n",
       "      <th>max</th>\n",
       "      <td>97.000000</td>\n",
       "    </tr>\n",
       "  </tbody>\n",
       "</table>\n",
       "</div>"
      ],
      "text/plain": [
       "       Critic_Score\n",
       "count    252.000000\n",
       "mean      72.091270\n",
       "std       12.485992\n",
       "min       19.000000\n",
       "25%       66.000000\n",
       "50%       73.000000\n",
       "75%       80.000000\n",
       "max       97.000000"
      ]
     },
     "execution_count": 19,
     "metadata": {},
     "output_type": "execute_result"
    }
   ],
   "source": [
    "df_games_ps4.describe()"
   ]
  },
  {
   "cell_type": "code",
   "execution_count": 20,
   "id": "5dd0a468",
   "metadata": {},
   "outputs": [
    {
     "data": {
      "text/plain": [
       "(array([ 2.,  2.,  3.,  9., 10., 32., 69., 70., 47.,  8.]),\n",
       " array([19. , 26.8, 34.6, 42.4, 50.2, 58. , 65.8, 73.6, 81.4, 89.2, 97. ]),\n",
       " <BarContainer object of 10 artists>)"
      ]
     },
     "execution_count": 20,
     "metadata": {},
     "output_type": "execute_result"
    },
    {
     "data": {
      "image/png": "[encoded data removed]",
      "text/plain": [
       "<Figure size 432x288 with 1 Axes>"
      ]
     },
     "metadata": {
      "needs_background": "light"
     },
     "output_type": "display_data"
    }
   ],
   "source": [
    "plt.hist(df_games_ps4['Critic_Score'])"
   ]
  },
  {
   "cell_type": "code",
   "execution_count": 21,
   "id": "af4668e4",
   "metadata": {},
   "outputs": [
    {
     "name": "stdout",
     "output_type": "stream",
     "text": [
      "Статистика: 106906.500, p: 0.000010\n",
      "Отвергаем нулевую гипотезу\n"
     ]
    }
   ],
   "source": [
    "#Тест Манна-Уитни т.к. распределение не относится к нормальному\n",
    "stat, p = stats.mannwhitneyu(df_games_pc['Critic_Score'], df_games_ps4['Critic_Score'], nan_policy = 'omit')\n",
    "print(f'Статистика: {stat:.3f}, p: {p:.6f}')\n",
    "\n",
    "if p < 0.5:\n",
    "    print('Отвергаем нулевую гипотезу')\n",
    "else:\n",
    "    print('Не отвергаем нулевую гипотезу')"
   ]
  },
  {
   "cell_type": "code",
   "execution_count": 22,
   "id": "5b1493df",
   "metadata": {},
   "outputs": [
    {
     "name": "stdout",
     "output_type": "stream",
     "text": [
      "В среднем критики оценивают игры на PC выше, чем игры остальных жанров\n"
     ]
    }
   ],
   "source": [
    "if df_games_pc['Critic_Score'].mean() > df_games_ps4['Critic_Score'].mean():\n",
    "    print('В среднем критики оценивают игры на PC выше, чем игры остальных жанров')\n",
    "else:\n",
    "    print('В среднем критики оценивают игры на PC ниже, чем игры остальных жанров')"
   ]
  },
  {
   "cell_type": "markdown",
   "id": "3ecdd613",
   "metadata": {},
   "source": [
    "На основе результатов теста Манна-Уитни мы можем предположить, что в среднем критики оценивают игры на PC и на PS4 по-разному. Средняя оценка игр на PC немного выше, чем на PS4."
   ]
  },
  {
   "cell_type": "markdown",
   "id": "b42ab84b",
   "metadata": {},
   "source": [
    "**Критикам больше нравятся стрелялки или стратегии?**\n",
    "\n",
    "H0: В среднем критики одинаково относятся к играм жанров Shooter и Strategy\n",
    "\n",
    "H1: В среднем критики по-разному относятся к играм жанров Shooter и Strategy"
   ]
  },
  {
   "cell_type": "code",
   "execution_count": 23,
   "id": "5d3d7ba3",
   "metadata": {},
   "outputs": [],
   "source": [
    "#Создаём df с жанрами Shooter и Strategy\n",
    "df_games_shooter = df_games[['Name', 'Genre', 'Critic_Score']].loc[df_games['Genre'] == 'Shooter']\n",
    "df_games_strategy = df_games[['Name', 'Genre', 'Critic_Score']].loc[df_games['Genre'] == 'Strategy']"
   ]
  },
  {
   "cell_type": "code",
   "execution_count": 24,
   "id": "38635b2e",
   "metadata": {},
   "outputs": [
    {
     "name": "stdout",
     "output_type": "stream",
     "text": [
      "<class 'pandas.core.frame.DataFrame'>\n",
      "Int64Index: 1323 entries, 9 to 16710\n",
      "Data columns (total 3 columns):\n",
      " #   Column        Non-Null Count  Dtype  \n",
      "---  ------        --------------  -----  \n",
      " 0   Name          1323 non-null   object \n",
      " 1   Genre         1323 non-null   object \n",
      " 2   Critic_Score  944 non-null    float64\n",
      "dtypes: float64(1), object(2)\n",
      "memory usage: 41.3+ KB\n"
     ]
    }
   ],
   "source": [
    "df_games_shooter.info()"
   ]
  },
  {
   "cell_type": "code",
   "execution_count": 25,
   "id": "86c8bbaf",
   "metadata": {},
   "outputs": [
    {
     "data": {
      "text/html": [
       "<div>\n",
       "<style scoped>\n",
       "    .dataframe tbody tr th:only-of-type {\n",
       "        vertical-align: middle;\n",
       "    }\n",
       "\n",
       "    .dataframe tbody tr th {\n",
       "        vertical-align: top;\n",
       "    }\n",
       "\n",
       "    .dataframe thead th {\n",
       "        text-align: right;\n",
       "    }\n",
       "</style>\n",
       "<table border=\"1\" class=\"dataframe\">\n",
       "  <thead>\n",
       "    <tr style=\"text-align: right;\">\n",
       "      <th></th>\n",
       "      <th>Critic_Score</th>\n",
       "    </tr>\n",
       "  </thead>\n",
       "  <tbody>\n",
       "    <tr>\n",
       "      <th>count</th>\n",
       "      <td>944.000000</td>\n",
       "    </tr>\n",
       "    <tr>\n",
       "      <th>mean</th>\n",
       "      <td>70.181144</td>\n",
       "    </tr>\n",
       "    <tr>\n",
       "      <th>std</th>\n",
       "      <td>14.552571</td>\n",
       "    </tr>\n",
       "    <tr>\n",
       "      <th>min</th>\n",
       "      <td>22.000000</td>\n",
       "    </tr>\n",
       "    <tr>\n",
       "      <th>25%</th>\n",
       "      <td>61.000000</td>\n",
       "    </tr>\n",
       "    <tr>\n",
       "      <th>50%</th>\n",
       "      <td>73.000000</td>\n",
       "    </tr>\n",
       "    <tr>\n",
       "      <th>75%</th>\n",
       "      <td>81.000000</td>\n",
       "    </tr>\n",
       "    <tr>\n",
       "      <th>max</th>\n",
       "      <td>97.000000</td>\n",
       "    </tr>\n",
       "  </tbody>\n",
       "</table>\n",
       "</div>"
      ],
      "text/plain": [
       "       Critic_Score\n",
       "count    944.000000\n",
       "mean      70.181144\n",
       "std       14.552571\n",
       "min       22.000000\n",
       "25%       61.000000\n",
       "50%       73.000000\n",
       "75%       81.000000\n",
       "max       97.000000"
      ]
     },
     "execution_count": 25,
     "metadata": {},
     "output_type": "execute_result"
    }
   ],
   "source": [
    "df_games_shooter.describe()"
   ]
  },
  {
   "cell_type": "code",
   "execution_count": 26,
   "id": "ffa8b098",
   "metadata": {},
   "outputs": [
    {
     "data": {
      "text/plain": [
       "(array([  3.,  26.,  36.,  56.,  82., 113., 208., 206., 167.,  47.]),\n",
       " array([22. , 29.5, 37. , 44.5, 52. , 59.5, 67. , 74.5, 82. , 89.5, 97. ]),\n",
       " <BarContainer object of 10 artists>)"
      ]
     },
     "execution_count": 26,
     "metadata": {},
     "output_type": "execute_result"
    },
    {
     "data": {
      "image/png": "[encoded data removed]",
      "text/plain": [
       "<Figure size 432x288 with 1 Axes>"
      ]
     },
     "metadata": {
      "needs_background": "light"
     },
     "output_type": "display_data"
    }
   ],
   "source": [
    "plt.hist(df_games_shooter['Critic_Score'])"
   ]
  },
  {
   "cell_type": "code",
   "execution_count": 27,
   "id": "40ad851a",
   "metadata": {},
   "outputs": [
    {
     "name": "stdout",
     "output_type": "stream",
     "text": [
      "<class 'pandas.core.frame.DataFrame'>\n",
      "Int64Index: 683 entries, 168 to 16706\n",
      "Data columns (total 3 columns):\n",
      " #   Column        Non-Null Count  Dtype  \n",
      "---  ------        --------------  -----  \n",
      " 0   Name          683 non-null    object \n",
      " 1   Genre         683 non-null    object \n",
      " 2   Critic_Score  302 non-null    float64\n",
      "dtypes: float64(1), object(2)\n",
      "memory usage: 21.3+ KB\n"
     ]
    }
   ],
   "source": [
    "df_games_strategy.info()"
   ]
  },
  {
   "cell_type": "code",
   "execution_count": 28,
   "id": "69f3f6a3",
   "metadata": {},
   "outputs": [
    {
     "data": {
      "text/html": [
       "<div>\n",
       "<style scoped>\n",
       "    .dataframe tbody tr th:only-of-type {\n",
       "        vertical-align: middle;\n",
       "    }\n",
       "\n",
       "    .dataframe tbody tr th {\n",
       "        vertical-align: top;\n",
       "    }\n",
       "\n",
       "    .dataframe thead th {\n",
       "        text-align: right;\n",
       "    }\n",
       "</style>\n",
       "<table border=\"1\" class=\"dataframe\">\n",
       "  <thead>\n",
       "    <tr style=\"text-align: right;\">\n",
       "      <th></th>\n",
       "      <th>Critic_Score</th>\n",
       "    </tr>\n",
       "  </thead>\n",
       "  <tbody>\n",
       "    <tr>\n",
       "      <th>count</th>\n",
       "      <td>302.000000</td>\n",
       "    </tr>\n",
       "    <tr>\n",
       "      <th>mean</th>\n",
       "      <td>72.086093</td>\n",
       "    </tr>\n",
       "    <tr>\n",
       "      <th>std</th>\n",
       "      <td>11.828475</td>\n",
       "    </tr>\n",
       "    <tr>\n",
       "      <th>min</th>\n",
       "      <td>35.000000</td>\n",
       "    </tr>\n",
       "    <tr>\n",
       "      <th>25%</th>\n",
       "      <td>65.000000</td>\n",
       "    </tr>\n",
       "    <tr>\n",
       "      <th>50%</th>\n",
       "      <td>73.000000</td>\n",
       "    </tr>\n",
       "    <tr>\n",
       "      <th>75%</th>\n",
       "      <td>80.000000</td>\n",
       "    </tr>\n",
       "    <tr>\n",
       "      <th>max</th>\n",
       "      <td>94.000000</td>\n",
       "    </tr>\n",
       "  </tbody>\n",
       "</table>\n",
       "</div>"
      ],
      "text/plain": [
       "       Critic_Score\n",
       "count    302.000000\n",
       "mean      72.086093\n",
       "std       11.828475\n",
       "min       35.000000\n",
       "25%       65.000000\n",
       "50%       73.000000\n",
       "75%       80.000000\n",
       "max       94.000000"
      ]
     },
     "execution_count": 28,
     "metadata": {},
     "output_type": "execute_result"
    }
   ],
   "source": [
    "df_games_strategy.describe()"
   ]
  },
  {
   "cell_type": "code",
   "execution_count": 29,
   "id": "cad64e93",
   "metadata": {},
   "outputs": [
    {
     "data": {
      "text/plain": [
       "(array([ 3.,  6., 13., 15., 37., 53., 58., 61., 34., 22.]),\n",
       " array([35. , 40.9, 46.8, 52.7, 58.6, 64.5, 70.4, 76.3, 82.2, 88.1, 94. ]),\n",
       " <BarContainer object of 10 artists>)"
      ]
     },
     "execution_count": 29,
     "metadata": {},
     "output_type": "execute_result"
    },
    {
     "data": {
      "image/png": "[encoded data removed]",
      "text/plain": [
       "<Figure size 432x288 with 1 Axes>"
      ]
     },
     "metadata": {
      "needs_background": "light"
     },
     "output_type": "display_data"
    }
   ],
   "source": [
    "plt.hist(df_games_strategy['Critic_Score'])"
   ]
  },
  {
   "cell_type": "code",
   "execution_count": 30,
   "id": "bd73be30",
   "metadata": {},
   "outputs": [
    {
     "name": "stdout",
     "output_type": "stream",
     "text": [
      "Статистика: 136251.500, p: 0.248\n",
      "Отвергаем нулевую гипотезу\n"
     ]
    }
   ],
   "source": [
    "#Тест Манна-Уитни т.к. распределение не относится к нормальному\n",
    "stat, p = stats.mannwhitneyu(df_games_shooter['Critic_Score'], df_games_strategy['Critic_Score'], nan_policy = 'omit')\n",
    "print(f'Статистика: {stat:.3f}, p: {p:.3f}')\n",
    "\n",
    "if p < 0.5:\n",
    "    print('Отвергаем нулевую гипотезу')\n",
    "else:\n",
    "    print('Не отвергаем нулевую гипотезу')"
   ]
  },
  {
   "cell_type": "code",
   "execution_count": 31,
   "id": "c8b307f1",
   "metadata": {},
   "outputs": [
    {
     "name": "stdout",
     "output_type": "stream",
     "text": [
      "В среднем критики оценивают игры Shooter ниже, чем игры Strategy\n"
     ]
    }
   ],
   "source": [
    "if df_games_shooter['Critic_Score'].mean() > df_games_strategy['Critic_Score'].mean():\n",
    "    print('В среднем критики оценивают игры Shooter выше, чем игры Strategy')\n",
    "elif df_games_shooter['Critic_Score'].mean() == df_games_strategy['Critic_Score'].mean():\n",
    "    print('В среднем критики оценивают игры Shooter одинаково, чем игры Strategy')\n",
    "else:\n",
    "    print('В среднем критики оценивают игры Shooter ниже, чем игры Strategy')"
   ]
  },
  {
   "cell_type": "markdown",
   "id": "8e0b851a",
   "metadata": {},
   "source": [
    "На основе результатов теста Манна-Уитни мы можем предположить, что в среднем критики оценивают игры с жанрами Shooter и Strategy по-разному. Средняя оценка игр на Strategy немного выше, чем на Shooter."
   ]
  },
  {
   "cell_type": "markdown",
   "id": "a106680d",
   "metadata": {},
   "source": [
    "#### Задание 2\n",
    "\n",
    "Реализуйте базовую модель логистической регрессии для классификации текстовых сообщений (используемые данные [здесь](https://github.com/obulygin/pyda_homeworks/blob/master/stat_case_study/spam.csv)) по признаку спама."
   ]
  },
  {
   "cell_type": "code",
   "execution_count": 32,
   "id": "5e4297e2",
   "metadata": {},
   "outputs": [
    {
     "data": {
      "text/html": [
       "<div>\n",
       "<style scoped>\n",
       "    .dataframe tbody tr th:only-of-type {\n",
       "        vertical-align: middle;\n",
       "    }\n",
       "\n",
       "    .dataframe tbody tr th {\n",
       "        vertical-align: top;\n",
       "    }\n",
       "\n",
       "    .dataframe thead th {\n",
       "        text-align: right;\n",
       "    }\n",
       "</style>\n",
       "<table border=\"1\" class=\"dataframe\">\n",
       "  <thead>\n",
       "    <tr style=\"text-align: right;\">\n",
       "      <th></th>\n",
       "      <th>Category</th>\n",
       "      <th>Message</th>\n",
       "    </tr>\n",
       "  </thead>\n",
       "  <tbody>\n",
       "    <tr>\n",
       "      <th>0</th>\n",
       "      <td>ham</td>\n",
       "      <td>Go until jurong point, crazy.. Available only ...</td>\n",
       "    </tr>\n",
       "    <tr>\n",
       "      <th>1</th>\n",
       "      <td>ham</td>\n",
       "      <td>Ok lar... Joking wif u oni...</td>\n",
       "    </tr>\n",
       "    <tr>\n",
       "      <th>2</th>\n",
       "      <td>spam</td>\n",
       "      <td>Free entry in 2 a wkly comp to win FA Cup fina...</td>\n",
       "    </tr>\n",
       "    <tr>\n",
       "      <th>3</th>\n",
       "      <td>ham</td>\n",
       "      <td>U dun say so early hor... U c already then say...</td>\n",
       "    </tr>\n",
       "    <tr>\n",
       "      <th>4</th>\n",
       "      <td>ham</td>\n",
       "      <td>Nah I don't think he goes to usf, he lives aro...</td>\n",
       "    </tr>\n",
       "    <tr>\n",
       "      <th>5</th>\n",
       "      <td>spam</td>\n",
       "      <td>FreeMsg Hey there darling it's been 3 week's n...</td>\n",
       "    </tr>\n",
       "    <tr>\n",
       "      <th>6</th>\n",
       "      <td>ham</td>\n",
       "      <td>Even my brother is not like to speak with me. ...</td>\n",
       "    </tr>\n",
       "    <tr>\n",
       "      <th>7</th>\n",
       "      <td>ham</td>\n",
       "      <td>As per your request 'Melle Melle (Oru Minnamin...</td>\n",
       "    </tr>\n",
       "    <tr>\n",
       "      <th>8</th>\n",
       "      <td>spam</td>\n",
       "      <td>WINNER!! As a valued network customer you have...</td>\n",
       "    </tr>\n",
       "    <tr>\n",
       "      <th>9</th>\n",
       "      <td>spam</td>\n",
       "      <td>Had your mobile 11 months or more? U R entitle...</td>\n",
       "    </tr>\n",
       "    <tr>\n",
       "      <th>10</th>\n",
       "      <td>ham</td>\n",
       "      <td>I'm gonna be home soon and i don't want to tal...</td>\n",
       "    </tr>\n",
       "    <tr>\n",
       "      <th>11</th>\n",
       "      <td>spam</td>\n",
       "      <td>SIX chances to win CASH! From 100 to 20,000 po...</td>\n",
       "    </tr>\n",
       "    <tr>\n",
       "      <th>12</th>\n",
       "      <td>spam</td>\n",
       "      <td>URGENT! You have won a 1 week FREE membership ...</td>\n",
       "    </tr>\n",
       "    <tr>\n",
       "      <th>13</th>\n",
       "      <td>ham</td>\n",
       "      <td>I've been searching for the right words to tha...</td>\n",
       "    </tr>\n",
       "    <tr>\n",
       "      <th>14</th>\n",
       "      <td>ham</td>\n",
       "      <td>I HAVE A DATE ON SUNDAY WITH WILL!!</td>\n",
       "    </tr>\n",
       "  </tbody>\n",
       "</table>\n",
       "</div>"
      ],
      "text/plain": [
       "   Category                                            Message\n",
       "0       ham  Go until jurong point, crazy.. Available only ...\n",
       "1       ham                      Ok lar... Joking wif u oni...\n",
       "2      spam  Free entry in 2 a wkly comp to win FA Cup fina...\n",
       "3       ham  U dun say so early hor... U c already then say...\n",
       "4       ham  Nah I don't think he goes to usf, he lives aro...\n",
       "5      spam  FreeMsg Hey there darling it's been 3 week's n...\n",
       "6       ham  Even my brother is not like to speak with me. ...\n",
       "7       ham  As per your request 'Melle Melle (Oru Minnamin...\n",
       "8      spam  WINNER!! As a valued network customer you have...\n",
       "9      spam  Had your mobile 11 months or more? U R entitle...\n",
       "10      ham  I'm gonna be home soon and i don't want to tal...\n",
       "11     spam  SIX chances to win CASH! From 100 to 20,000 po...\n",
       "12     spam  URGENT! You have won a 1 week FREE membership ...\n",
       "13      ham  I've been searching for the right words to tha...\n",
       "14      ham                I HAVE A DATE ON SUNDAY WITH WILL!!"
      ]
     },
     "execution_count": 32,
     "metadata": {},
     "output_type": "execute_result"
    }
   ],
   "source": [
    "df_mes_spam = pd.read_csv('spam.csv')\n",
    "df_mes_spam.head(15)"
   ]
  },
  {
   "cell_type": "code",
   "execution_count": 33,
   "id": "29537564",
   "metadata": {},
   "outputs": [
    {
     "data": {
      "text/plain": [
       "array(['ham', 'spam'], dtype=object)"
      ]
     },
     "execution_count": 33,
     "metadata": {},
     "output_type": "execute_result"
    }
   ],
   "source": [
    "df_mes_spam['Category'].unique()"
   ]
  },
  {
   "cell_type": "code",
   "execution_count": 34,
   "id": "78b86077",
   "metadata": {},
   "outputs": [
    {
     "data": {
      "text/html": [
       "<div>\n",
       "<style scoped>\n",
       "    .dataframe tbody tr th:only-of-type {\n",
       "        vertical-align: middle;\n",
       "    }\n",
       "\n",
       "    .dataframe tbody tr th {\n",
       "        vertical-align: top;\n",
       "    }\n",
       "\n",
       "    .dataframe thead th {\n",
       "        text-align: right;\n",
       "    }\n",
       "</style>\n",
       "<table border=\"1\" class=\"dataframe\">\n",
       "  <thead>\n",
       "    <tr style=\"text-align: right;\">\n",
       "      <th></th>\n",
       "      <th>Category</th>\n",
       "      <th>Message</th>\n",
       "    </tr>\n",
       "  </thead>\n",
       "  <tbody>\n",
       "    <tr>\n",
       "      <th>0</th>\n",
       "      <td>ham</td>\n",
       "      <td>go until jurong point, crazy.. available only ...</td>\n",
       "    </tr>\n",
       "    <tr>\n",
       "      <th>1</th>\n",
       "      <td>ham</td>\n",
       "      <td>ok lar... joking wif u oni...</td>\n",
       "    </tr>\n",
       "    <tr>\n",
       "      <th>2</th>\n",
       "      <td>spam</td>\n",
       "      <td>free entry in 2 a wkly comp to win fa cup fina...</td>\n",
       "    </tr>\n",
       "    <tr>\n",
       "      <th>3</th>\n",
       "      <td>ham</td>\n",
       "      <td>u dun say so early hor... u c already then say...</td>\n",
       "    </tr>\n",
       "    <tr>\n",
       "      <th>4</th>\n",
       "      <td>ham</td>\n",
       "      <td>nah i don't think he goes to usf, he lives aro...</td>\n",
       "    </tr>\n",
       "    <tr>\n",
       "      <th>5</th>\n",
       "      <td>spam</td>\n",
       "      <td>freemsg hey there darling it's been 3 week's n...</td>\n",
       "    </tr>\n",
       "    <tr>\n",
       "      <th>6</th>\n",
       "      <td>ham</td>\n",
       "      <td>even my brother is not like to speak with me. ...</td>\n",
       "    </tr>\n",
       "    <tr>\n",
       "      <th>7</th>\n",
       "      <td>ham</td>\n",
       "      <td>as per your request 'melle melle (oru minnamin...</td>\n",
       "    </tr>\n",
       "    <tr>\n",
       "      <th>8</th>\n",
       "      <td>spam</td>\n",
       "      <td>winner!! as a valued network customer you have...</td>\n",
       "    </tr>\n",
       "    <tr>\n",
       "      <th>9</th>\n",
       "      <td>spam</td>\n",
       "      <td>had your mobile 11 months or more? u r entitle...</td>\n",
       "    </tr>\n",
       "    <tr>\n",
       "      <th>10</th>\n",
       "      <td>ham</td>\n",
       "      <td>i'm gonna be home soon and i don't want to tal...</td>\n",
       "    </tr>\n",
       "    <tr>\n",
       "      <th>11</th>\n",
       "      <td>spam</td>\n",
       "      <td>six chances to win cash! from 100 to 20,000 po...</td>\n",
       "    </tr>\n",
       "    <tr>\n",
       "      <th>12</th>\n",
       "      <td>spam</td>\n",
       "      <td>urgent! you have won a 1 week free membership ...</td>\n",
       "    </tr>\n",
       "    <tr>\n",
       "      <th>13</th>\n",
       "      <td>ham</td>\n",
       "      <td>i've been searching for the right words to tha...</td>\n",
       "    </tr>\n",
       "    <tr>\n",
       "      <th>14</th>\n",
       "      <td>ham</td>\n",
       "      <td>i have a date on sunday with will!!</td>\n",
       "    </tr>\n",
       "  </tbody>\n",
       "</table>\n",
       "</div>"
      ],
      "text/plain": [
       "   Category                                            Message\n",
       "0       ham  go until jurong point, crazy.. available only ...\n",
       "1       ham                      ok lar... joking wif u oni...\n",
       "2      spam  free entry in 2 a wkly comp to win fa cup fina...\n",
       "3       ham  u dun say so early hor... u c already then say...\n",
       "4       ham  nah i don't think he goes to usf, he lives aro...\n",
       "5      spam  freemsg hey there darling it's been 3 week's n...\n",
       "6       ham  even my brother is not like to speak with me. ...\n",
       "7       ham  as per your request 'melle melle (oru minnamin...\n",
       "8      spam  winner!! as a valued network customer you have...\n",
       "9      spam  had your mobile 11 months or more? u r entitle...\n",
       "10      ham  i'm gonna be home soon and i don't want to tal...\n",
       "11     spam  six chances to win cash! from 100 to 20,000 po...\n",
       "12     spam  urgent! you have won a 1 week free membership ...\n",
       "13      ham  i've been searching for the right words to tha...\n",
       "14      ham                i have a date on sunday with will!!"
      ]
     },
     "execution_count": 34,
     "metadata": {},
     "output_type": "execute_result"
    }
   ],
   "source": [
    "# 1. приведем все слова к нижнему регистру\n",
    "df_mes_spam['Message'] = df_mes_spam['Message'].str.lower()\n",
    "# проверим\n",
    "df_mes_spam.head(15)"
   ]
  },
  {
   "cell_type": "code",
   "execution_count": 35,
   "id": "189783dd",
   "metadata": {},
   "outputs": [
    {
     "data": {
      "text/html": [
       "<div>\n",
       "<style scoped>\n",
       "    .dataframe tbody tr th:only-of-type {\n",
       "        vertical-align: middle;\n",
       "    }\n",
       "\n",
       "    .dataframe tbody tr th {\n",
       "        vertical-align: top;\n",
       "    }\n",
       "\n",
       "    .dataframe thead th {\n",
       "        text-align: right;\n",
       "    }\n",
       "</style>\n",
       "<table border=\"1\" class=\"dataframe\">\n",
       "  <thead>\n",
       "    <tr style=\"text-align: right;\">\n",
       "      <th></th>\n",
       "      <th>Category</th>\n",
       "      <th>Message</th>\n",
       "    </tr>\n",
       "  </thead>\n",
       "  <tbody>\n",
       "    <tr>\n",
       "      <th>0</th>\n",
       "      <td>ham</td>\n",
       "      <td>go until jurong point crazy available only in ...</td>\n",
       "    </tr>\n",
       "    <tr>\n",
       "      <th>1</th>\n",
       "      <td>ham</td>\n",
       "      <td>ok lar joking wif u oni</td>\n",
       "    </tr>\n",
       "    <tr>\n",
       "      <th>2</th>\n",
       "      <td>spam</td>\n",
       "      <td>free entry in 2 a wkly comp to win fa cup fina...</td>\n",
       "    </tr>\n",
       "    <tr>\n",
       "      <th>3</th>\n",
       "      <td>ham</td>\n",
       "      <td>u dun say so early hor u c already then say</td>\n",
       "    </tr>\n",
       "    <tr>\n",
       "      <th>4</th>\n",
       "      <td>ham</td>\n",
       "      <td>nah i don t think he goes to usf he lives arou...</td>\n",
       "    </tr>\n",
       "    <tr>\n",
       "      <th>5</th>\n",
       "      <td>spam</td>\n",
       "      <td>freemsg hey there darling it s been 3 week s n...</td>\n",
       "    </tr>\n",
       "    <tr>\n",
       "      <th>6</th>\n",
       "      <td>ham</td>\n",
       "      <td>even my brother is not like to speak with me t...</td>\n",
       "    </tr>\n",
       "    <tr>\n",
       "      <th>7</th>\n",
       "      <td>ham</td>\n",
       "      <td>as per your request melle melle oru minnaminun...</td>\n",
       "    </tr>\n",
       "    <tr>\n",
       "      <th>8</th>\n",
       "      <td>spam</td>\n",
       "      <td>winner as a valued network customer you have b...</td>\n",
       "    </tr>\n",
       "    <tr>\n",
       "      <th>9</th>\n",
       "      <td>spam</td>\n",
       "      <td>had your mobile 11 months or more u r entitled...</td>\n",
       "    </tr>\n",
       "    <tr>\n",
       "      <th>10</th>\n",
       "      <td>ham</td>\n",
       "      <td>i m gonna be home soon and i don t want to tal...</td>\n",
       "    </tr>\n",
       "    <tr>\n",
       "      <th>11</th>\n",
       "      <td>spam</td>\n",
       "      <td>six chances to win cash from 100 to 20 000 pou...</td>\n",
       "    </tr>\n",
       "    <tr>\n",
       "      <th>12</th>\n",
       "      <td>spam</td>\n",
       "      <td>urgent you have won a 1 week free membership i...</td>\n",
       "    </tr>\n",
       "    <tr>\n",
       "      <th>13</th>\n",
       "      <td>ham</td>\n",
       "      <td>i ve been searching for the right words to tha...</td>\n",
       "    </tr>\n",
       "    <tr>\n",
       "      <th>14</th>\n",
       "      <td>ham</td>\n",
       "      <td>i have a date on sunday with will</td>\n",
       "    </tr>\n",
       "  </tbody>\n",
       "</table>\n",
       "</div>"
      ],
      "text/plain": [
       "   Category                                            Message\n",
       "0       ham  go until jurong point crazy available only in ...\n",
       "1       ham                           ok lar joking wif u oni \n",
       "2      spam  free entry in 2 a wkly comp to win fa cup fina...\n",
       "3       ham       u dun say so early hor u c already then say \n",
       "4       ham  nah i don t think he goes to usf he lives arou...\n",
       "5      spam  freemsg hey there darling it s been 3 week s n...\n",
       "6       ham  even my brother is not like to speak with me t...\n",
       "7       ham  as per your request melle melle oru minnaminun...\n",
       "8      spam  winner as a valued network customer you have b...\n",
       "9      spam  had your mobile 11 months or more u r entitled...\n",
       "10      ham  i m gonna be home soon and i don t want to tal...\n",
       "11     spam  six chances to win cash from 100 to 20 000 pou...\n",
       "12     spam  urgent you have won a 1 week free membership i...\n",
       "13      ham  i ve been searching for the right words to tha...\n",
       "14      ham                 i have a date on sunday with will "
      ]
     },
     "execution_count": 35,
     "metadata": {},
     "output_type": "execute_result"
    }
   ],
   "source": [
    "import re\n",
    "# 2. уберем все служебные символы\n",
    "df_mes_spam['Message'] = [re.sub('[\\W_]+', ' ', text) for text in df_mes_spam['Message']]\n",
    "df_mes_spam.head(15)"
   ]
  },
  {
   "cell_type": "code",
   "execution_count": 36,
   "id": "bd6ecc0c",
   "metadata": {},
   "outputs": [
    {
     "name": "stderr",
     "output_type": "stream",
     "text": [
      "[nltk_data] Downloading package stopwords to\n",
      "[nltk_data]     /home/alexandra_v/nltk_data...\n",
      "[nltk_data]   Package stopwords is already up-to-date!\n"
     ]
    }
   ],
   "source": [
    "# 3. удалим стоп-слова \n",
    "import nltk\n",
    "from nltk.corpus import stopwords\n",
    "nltk.download('stopwords')\n",
    "stopwords_set = set(stopwords.words('english'))\n",
    "\n",
    "df_mes_spam['Message'] = df_mes_spam['Message'].str[1:-1].str.split(' ').tolist()\n",
    "df_mes_spam['Message'] = pd.Series([[word for word in text if word not in stopwords_set] \n",
    "                                    for text in df_mes_spam['Message']])"
   ]
  },
  {
   "cell_type": "code",
   "execution_count": 37,
   "id": "9717a34c",
   "metadata": {},
   "outputs": [
    {
     "data": {
      "text/plain": [
       "0       [jurong, point, crazy, available, bugis, n, gr...\n",
       "1                           [k, lar, joking, wif, u, oni]\n",
       "2       [ree, entry, 2, wkly, comp, win, fa, cup, fina...\n",
       "3            [, dun, say, early, hor, u, c, already, say]\n",
       "4            [ah, think, goes, usf, lives, around, thoug]\n",
       "                              ...                        \n",
       "5567    [2nd, time, tried, 2, contact, u, u, 750, poun...\n",
       "5568              [ill, ü, b, going, esplanade, fr, home]\n",
       "5569                             [ity, mood, suggestions]\n",
       "5570    [guy, bitching, acted, like, interested, buyin...\n",
       "5571                                     [ofl, true, nam]\n",
       "Name: Message, Length: 5572, dtype: object"
      ]
     },
     "execution_count": 37,
     "metadata": {},
     "output_type": "execute_result"
    }
   ],
   "source": [
    "#проверяем\n",
    "df_mes_spam['Message']"
   ]
  },
  {
   "cell_type": "code",
   "execution_count": 38,
   "id": "652d63eb",
   "metadata": {},
   "outputs": [
    {
     "name": "stderr",
     "output_type": "stream",
     "text": [
      "[nltk_data] Downloading package omw-1.4 to\n",
      "[nltk_data]     /home/alexandra_v/nltk_data...\n",
      "[nltk_data]   Package omw-1.4 is already up-to-date!\n",
      "[nltk_data] Downloading package wordnet to\n",
      "[nltk_data]     /home/alexandra_v/nltk_data...\n",
      "[nltk_data]   Package wordnet is already up-to-date!\n"
     ]
    },
    {
     "data": {
      "text/plain": [
       "0       [jurong, point, crazy, available, bugis, n, gr...\n",
       "1                           [k, lar, joking, wif, u, oni]\n",
       "2       [ree, entry, 2, wkly, comp, win, fa, cup, fina...\n",
       "3            [, dun, say, early, hor, u, c, already, say]\n",
       "4               [ah, think, go, usf, life, around, thoug]\n",
       "                              ...                        \n",
       "5567    [2nd, time, tried, 2, contact, u, u, 750, poun...\n",
       "5568              [ill, ü, b, going, esplanade, fr, home]\n",
       "5569                              [ity, mood, suggestion]\n",
       "5570    [guy, bitching, acted, like, interested, buyin...\n",
       "5571                                     [ofl, true, nam]\n",
       "Name: Message, Length: 5572, dtype: object"
      ]
     },
     "execution_count": 38,
     "metadata": {},
     "output_type": "execute_result"
    }
   ],
   "source": [
    "# 4. приведём все слова к нормальной форме\n",
    "from nltk.stem import WordNetLemmatizer\n",
    "nltk.download('omw-1.4')\n",
    "nltk.download('wordnet')\n",
    "\n",
    "wordnet_lemmatizer = WordNetLemmatizer()\n",
    "\n",
    "df_mes_spam['Message'] = pd.Series([wordnet_lemmatizer.lemmatize(word) for word in text] \n",
    "                                   for text in df_mes_spam['Message'])\n",
    "\n",
    "#проверяем\n",
    "df_mes_spam['Message']"
   ]
  },
  {
   "cell_type": "code",
   "execution_count": 39,
   "id": "400be0e4",
   "metadata": {},
   "outputs": [],
   "source": [
    "# 5. Преобразуйте все сообщения в вектора TF-IDF\n",
    "\n",
    "#преобразуем в строку, т.к. иначе AttributeError: 'list' object has no attribute 'lower'\n",
    "df_mes_spam['Message'] = df_mes_spam['Message'].apply(lambda x: ' '.join(x))\n",
    "\n",
    "from sklearn.feature_extraction.text import TfidfVectorizer\n",
    "\n",
    "tfidf = TfidfVectorizer()\n",
    "tfidf_matrix = tfidf.fit_transform(df_mes_spam.Message)\n",
    "names = tfidf.get_feature_names_out()\n",
    "tfidf_matrix = pd.DataFrame(tfidf_matrix.toarray(), columns=names)"
   ]
  },
  {
   "cell_type": "code",
   "execution_count": 40,
   "id": "23ab1f31",
   "metadata": {},
   "outputs": [
    {
     "data": {
      "text/html": [
       "<div>\n",
       "<style scoped>\n",
       "    .dataframe tbody tr th:only-of-type {\n",
       "        vertical-align: middle;\n",
       "    }\n",
       "\n",
       "    .dataframe tbody tr th {\n",
       "        vertical-align: top;\n",
       "    }\n",
       "\n",
       "    .dataframe thead th {\n",
       "        text-align: right;\n",
       "    }\n",
       "</style>\n",
       "<table border=\"1\" class=\"dataframe\">\n",
       "  <thead>\n",
       "    <tr style=\"text-align: right;\">\n",
       "      <th></th>\n",
       "      <th>00</th>\n",
       "      <th>000</th>\n",
       "      <th>000pes</th>\n",
       "      <th>007</th>\n",
       "      <th>008704050406</th>\n",
       "      <th>0089</th>\n",
       "      <th>0121</th>\n",
       "      <th>01223585236</th>\n",
       "      <th>01223585334</th>\n",
       "      <th>0125698789</th>\n",
       "      <th>...</th>\n",
       "      <th>zero</th>\n",
       "      <th>zhong</th>\n",
       "      <th>zindgi</th>\n",
       "      <th>zoe</th>\n",
       "      <th>zogtorius</th>\n",
       "      <th>zoom</th>\n",
       "      <th>zouk</th>\n",
       "      <th>zyada</th>\n",
       "      <th>ú1</th>\n",
       "      <th>〨ud</th>\n",
       "    </tr>\n",
       "  </thead>\n",
       "  <tbody>\n",
       "    <tr>\n",
       "      <th>0</th>\n",
       "      <td>0.0</td>\n",
       "      <td>0.0</td>\n",
       "      <td>0.0</td>\n",
       "      <td>0.0</td>\n",
       "      <td>0.0</td>\n",
       "      <td>0.0</td>\n",
       "      <td>0.0</td>\n",
       "      <td>0.0</td>\n",
       "      <td>0.0</td>\n",
       "      <td>0.0</td>\n",
       "      <td>...</td>\n",
       "      <td>0.0</td>\n",
       "      <td>0.0</td>\n",
       "      <td>0.0</td>\n",
       "      <td>0.0</td>\n",
       "      <td>0.0</td>\n",
       "      <td>0.0</td>\n",
       "      <td>0.0</td>\n",
       "      <td>0.0</td>\n",
       "      <td>0.0</td>\n",
       "      <td>0.0</td>\n",
       "    </tr>\n",
       "    <tr>\n",
       "      <th>1</th>\n",
       "      <td>0.0</td>\n",
       "      <td>0.0</td>\n",
       "      <td>0.0</td>\n",
       "      <td>0.0</td>\n",
       "      <td>0.0</td>\n",
       "      <td>0.0</td>\n",
       "      <td>0.0</td>\n",
       "      <td>0.0</td>\n",
       "      <td>0.0</td>\n",
       "      <td>0.0</td>\n",
       "      <td>...</td>\n",
       "      <td>0.0</td>\n",
       "      <td>0.0</td>\n",
       "      <td>0.0</td>\n",
       "      <td>0.0</td>\n",
       "      <td>0.0</td>\n",
       "      <td>0.0</td>\n",
       "      <td>0.0</td>\n",
       "      <td>0.0</td>\n",
       "      <td>0.0</td>\n",
       "      <td>0.0</td>\n",
       "    </tr>\n",
       "    <tr>\n",
       "      <th>2</th>\n",
       "      <td>0.0</td>\n",
       "      <td>0.0</td>\n",
       "      <td>0.0</td>\n",
       "      <td>0.0</td>\n",
       "      <td>0.0</td>\n",
       "      <td>0.0</td>\n",
       "      <td>0.0</td>\n",
       "      <td>0.0</td>\n",
       "      <td>0.0</td>\n",
       "      <td>0.0</td>\n",
       "      <td>...</td>\n",
       "      <td>0.0</td>\n",
       "      <td>0.0</td>\n",
       "      <td>0.0</td>\n",
       "      <td>0.0</td>\n",
       "      <td>0.0</td>\n",
       "      <td>0.0</td>\n",
       "      <td>0.0</td>\n",
       "      <td>0.0</td>\n",
       "      <td>0.0</td>\n",
       "      <td>0.0</td>\n",
       "    </tr>\n",
       "    <tr>\n",
       "      <th>3</th>\n",
       "      <td>0.0</td>\n",
       "      <td>0.0</td>\n",
       "      <td>0.0</td>\n",
       "      <td>0.0</td>\n",
       "      <td>0.0</td>\n",
       "      <td>0.0</td>\n",
       "      <td>0.0</td>\n",
       "      <td>0.0</td>\n",
       "      <td>0.0</td>\n",
       "      <td>0.0</td>\n",
       "      <td>...</td>\n",
       "      <td>0.0</td>\n",
       "      <td>0.0</td>\n",
       "      <td>0.0</td>\n",
       "      <td>0.0</td>\n",
       "      <td>0.0</td>\n",
       "      <td>0.0</td>\n",
       "      <td>0.0</td>\n",
       "      <td>0.0</td>\n",
       "      <td>0.0</td>\n",
       "      <td>0.0</td>\n",
       "    </tr>\n",
       "    <tr>\n",
       "      <th>4</th>\n",
       "      <td>0.0</td>\n",
       "      <td>0.0</td>\n",
       "      <td>0.0</td>\n",
       "      <td>0.0</td>\n",
       "      <td>0.0</td>\n",
       "      <td>0.0</td>\n",
       "      <td>0.0</td>\n",
       "      <td>0.0</td>\n",
       "      <td>0.0</td>\n",
       "      <td>0.0</td>\n",
       "      <td>...</td>\n",
       "      <td>0.0</td>\n",
       "      <td>0.0</td>\n",
       "      <td>0.0</td>\n",
       "      <td>0.0</td>\n",
       "      <td>0.0</td>\n",
       "      <td>0.0</td>\n",
       "      <td>0.0</td>\n",
       "      <td>0.0</td>\n",
       "      <td>0.0</td>\n",
       "      <td>0.0</td>\n",
       "    </tr>\n",
       "  </tbody>\n",
       "</table>\n",
       "<p>5 rows × 8812 columns</p>\n",
       "</div>"
      ],
      "text/plain": [
       "    00  000  000pes  007  008704050406  0089  0121  01223585236  01223585334  \\\n",
       "0  0.0  0.0     0.0  0.0           0.0   0.0   0.0          0.0          0.0   \n",
       "1  0.0  0.0     0.0  0.0           0.0   0.0   0.0          0.0          0.0   \n",
       "2  0.0  0.0     0.0  0.0           0.0   0.0   0.0          0.0          0.0   \n",
       "3  0.0  0.0     0.0  0.0           0.0   0.0   0.0          0.0          0.0   \n",
       "4  0.0  0.0     0.0  0.0           0.0   0.0   0.0          0.0          0.0   \n",
       "\n",
       "   0125698789  ...  zero  zhong  zindgi  zoe  zogtorius  zoom  zouk  zyada  \\\n",
       "0         0.0  ...   0.0    0.0     0.0  0.0        0.0   0.0   0.0    0.0   \n",
       "1         0.0  ...   0.0    0.0     0.0  0.0        0.0   0.0   0.0    0.0   \n",
       "2         0.0  ...   0.0    0.0     0.0  0.0        0.0   0.0   0.0    0.0   \n",
       "3         0.0  ...   0.0    0.0     0.0  0.0        0.0   0.0   0.0    0.0   \n",
       "4         0.0  ...   0.0    0.0     0.0  0.0        0.0   0.0   0.0    0.0   \n",
       "\n",
       "    ú1  〨ud  \n",
       "0  0.0  0.0  \n",
       "1  0.0  0.0  \n",
       "2  0.0  0.0  \n",
       "3  0.0  0.0  \n",
       "4  0.0  0.0  \n",
       "\n",
       "[5 rows x 8812 columns]"
      ]
     },
     "execution_count": 40,
     "metadata": {},
     "output_type": "execute_result"
    }
   ],
   "source": [
    "tfidf_matrix.head()"
   ]
  },
  {
   "cell_type": "code",
   "execution_count": 41,
   "id": "8bba6409",
   "metadata": {},
   "outputs": [],
   "source": [
    "# 6. Разделите данные на тестовые и тренировочные в соотношении 30/70, \n",
    "#укажите random_state=42. Используйте train_test_split;\n",
    "from sklearn.model_selection import train_test_split\n",
    "\n",
    "df_mes_spam.loc[df_mes_spam.Category == 'ham', 'Class'] = 1\n",
    "df_mes_spam.loc[df_mes_spam.Category == 'spam', 'Class'] = 0\n",
    "\n",
    "df_mes_spam['Class'] = df_mes_spam['Class'].astype('int')\n",
    "\n",
    "spam_class = df_mes_spam['Class']\n",
    "\n",
    "x_train, x_test, y_train, y_test = train_test_split(tfidf_matrix, spam_class, random_state = 42, test_size = 0.30)"
   ]
  },
  {
   "cell_type": "code",
   "execution_count": 42,
   "id": "93037657",
   "metadata": {},
   "outputs": [
    {
     "data": {
      "text/plain": [
       "0.9527511961722488"
      ]
     },
     "execution_count": 42,
     "metadata": {},
     "output_type": "execute_result"
    }
   ],
   "source": [
    "# 7. Постройте модель логистической регрессии, укажите random_state=42, оцените ее точность на тестовых данных;\n",
    "from sklearn.linear_model import LogisticRegression\n",
    "\n",
    "lr = LogisticRegression(random_state=42).fit(x_train, y_train)\n",
    "y_pred = lr.predict(x_test)\n",
    "lr.predict_proba(x_test)\n",
    "\n",
    "lr.score(x_test, y_test)"
   ]
  },
  {
   "cell_type": "code",
   "execution_count": 43,
   "id": "03a286ed",
   "metadata": {},
   "outputs": [
    {
     "data": {
      "text/plain": [
       "array([[ 150,   74],\n",
       "       [   5, 1443]])"
      ]
     },
     "execution_count": 43,
     "metadata": {},
     "output_type": "execute_result"
    }
   ],
   "source": [
    "# 8. Опишите результаты при помощи confusion_matrix;\n",
    "\n",
    "from sklearn.metrics import confusion_matrix\n",
    "\n",
    "confusion_matrix(y_test, pd.Series(y_pred))\n",
    "\n",
    "# ошибки впредсказаниях 5 и 74"
   ]
  },
  {
   "cell_type": "code",
   "execution_count": 44,
   "id": "5db4b4aa",
   "metadata": {},
   "outputs": [
    {
     "data": {
      "text/html": [
       "<div>\n",
       "<style scoped>\n",
       "    .dataframe tbody tr th:only-of-type {\n",
       "        vertical-align: middle;\n",
       "    }\n",
       "\n",
       "    .dataframe tbody tr th {\n",
       "        vertical-align: top;\n",
       "    }\n",
       "\n",
       "    .dataframe thead th {\n",
       "        text-align: right;\n",
       "    }\n",
       "</style>\n",
       "<table border=\"1\" class=\"dataframe\">\n",
       "  <thead>\n",
       "    <tr style=\"text-align: right;\">\n",
       "      <th></th>\n",
       "      <th>Pred_cat</th>\n",
       "      <th>Category</th>\n",
       "      <th>Message</th>\n",
       "    </tr>\n",
       "  </thead>\n",
       "  <tbody>\n",
       "    <tr>\n",
       "      <th>2952</th>\n",
       "      <td>spam</td>\n",
       "      <td>ham</td>\n",
       "      <td>ey free call</td>\n",
       "    </tr>\n",
       "    <tr>\n",
       "      <th>881</th>\n",
       "      <td>ham</td>\n",
       "      <td>spam</td>\n",
       "      <td>eminder downloaded content already paid goto h...</td>\n",
       "    </tr>\n",
       "    <tr>\n",
       "      <th>1961</th>\n",
       "      <td>ham</td>\n",
       "      <td>spam</td>\n",
       "      <td>uess somebody know secretly fancy wanna find g...</td>\n",
       "    </tr>\n",
       "    <tr>\n",
       "      <th>3864</th>\n",
       "      <td>ham</td>\n",
       "      <td>spam</td>\n",
       "      <td>h god found number glad text back xafter msg c...</td>\n",
       "    </tr>\n",
       "    <tr>\n",
       "      <th>2575</th>\n",
       "      <td>ham</td>\n",
       "      <td>spam</td>\n",
       "      <td>next amazing xxx picsfree1 video sent enjoy on...</td>\n",
       "    </tr>\n",
       "    <tr>\n",
       "      <th>...</th>\n",
       "      <td>...</td>\n",
       "      <td>...</td>\n",
       "      <td>...</td>\n",
       "    </tr>\n",
       "    <tr>\n",
       "      <th>4543</th>\n",
       "      <td>ham</td>\n",
       "      <td>spam</td>\n",
       "      <td>reemsg hi baby wow got new cam moby wanna c ho...</td>\n",
       "    </tr>\n",
       "    <tr>\n",
       "      <th>752</th>\n",
       "      <td>ham</td>\n",
       "      <td>spam</td>\n",
       "      <td>ou important customer service announcement pre...</td>\n",
       "    </tr>\n",
       "    <tr>\n",
       "      <th>309</th>\n",
       "      <td>ham</td>\n",
       "      <td>spam</td>\n",
       "      <td>hemob check newest selection content game tone...</td>\n",
       "    </tr>\n",
       "    <tr>\n",
       "      <th>495</th>\n",
       "      <td>spam</td>\n",
       "      <td>ham</td>\n",
       "      <td>free call</td>\n",
       "    </tr>\n",
       "    <tr>\n",
       "      <th>305</th>\n",
       "      <td>ham</td>\n",
       "      <td>spam</td>\n",
       "      <td>m ac blind date 4u rodds1 21 aberdeen united k...</td>\n",
       "    </tr>\n",
       "  </tbody>\n",
       "</table>\n",
       "<p>79 rows × 3 columns</p>\n",
       "</div>"
      ],
      "text/plain": [
       "     Pred_cat Category                                            Message\n",
       "2952     spam      ham                                       ey free call\n",
       "881       ham     spam  eminder downloaded content already paid goto h...\n",
       "1961      ham     spam  uess somebody know secretly fancy wanna find g...\n",
       "3864      ham     spam  h god found number glad text back xafter msg c...\n",
       "2575      ham     spam  next amazing xxx picsfree1 video sent enjoy on...\n",
       "...       ...      ...                                                ...\n",
       "4543      ham     spam  reemsg hi baby wow got new cam moby wanna c ho...\n",
       "752       ham     spam  ou important customer service announcement pre...\n",
       "309       ham     spam  hemob check newest selection content game tone...\n",
       "495      spam      ham                                          free call\n",
       "305       ham     spam  m ac blind date 4u rodds1 21 aberdeen united k...\n",
       "\n",
       "[79 rows x 3 columns]"
      ]
     },
     "execution_count": 44,
     "metadata": {},
     "output_type": "execute_result"
    }
   ],
   "source": [
    "# 9. Постройте датафрейм, который будет содержать все исходные тексты сообщений, \n",
    "#классифицированные неправильно (с указанием фактического и предсказанного)\n",
    "df_mes_spam_final = pd.DataFrame([y_test]).T \n",
    "df_mes_spam_final['Pred_cat'] = lr.predict(x_test) \n",
    "df_mes_spam_final = df_mes_spam_final.loc[((df_mes_spam_final['Class'] == 0) \n",
    "                                           & (df_mes_spam_final['Pred_cat'] == 1)) | \n",
    "                    ((df_mes_spam_final['Class'] == 1) & (df_mes_spam_final['Pred_cat'] == 0))]\n",
    "#присоединили сообщения из первонач дф\n",
    "df_mes_spam_final = df_mes_spam_final.merge(df_mes_spam, how='inner', left_index=True, right_index=True)\n",
    "#удаляем ненужные колонки\n",
    "df_mes_spam_final.drop('Class_x', axis=1, inplace=True)\n",
    "df_mes_spam_final.drop('Class_y', axis=1, inplace=True)\n",
    "\n",
    "#для расшифровки, что 0 - spam, 1 - ham\n",
    "df_mes_spam_final.loc[df_mes_spam_final['Pred_cat'] == 1, 'Pred_cat'] = 'ham'\n",
    "df_mes_spam_final.loc[df_mes_spam_final['Pred_cat'] == 0, 'Pred_cat'] = 'spam'\n",
    "\n",
    "df_mes_spam_final"
   ]
  }
 ],
 "metadata": {
  "kernelspec": {
   "display_name": "Python 3 (ipykernel)",
   "language": "python",
   "name": "python3"
  },
  "language_info": {
   "codemirror_mode": {
    "name": "ipython",
    "version": 3
   },
   "file_extension": ".py",
   "mimetype": "text/x-python",
   "name": "python",
   "nbconvert_exporter": "python",
   "pygments_lexer": "ipython3",
   "version": "3.10.6"
  }
 },
 "nbformat": 4,
 "nbformat_minor": 5
}
