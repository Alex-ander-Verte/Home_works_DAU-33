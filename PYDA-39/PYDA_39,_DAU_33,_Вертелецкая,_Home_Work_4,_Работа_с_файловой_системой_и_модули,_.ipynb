{
  "nbformat": 4,
  "nbformat_minor": 0,
  "metadata": {
    "colab": {
      "provenance": []
    },
    "kernelspec": {
      "name": "python3",
      "display_name": "Python 3"
    },
    "language_info": {
      "name": "python"
    }
  },
  "cells": [
    {
      "cell_type": "markdown",
      "source": [
        "# Домашнее задание к лекции Работа с файловой системой и модули"
      ],
      "metadata": {
        "id": "x6VTnKaxgF_I"
      }
    },
    {
      "cell_type": "markdown",
      "source": [
        "### Задание 1\n",
        "\n",
        "Переведите содержимое файла purchase_log.txt в словарь purchases вида:\n",
        "{‘1840e0b9d4’: ‘Продукты’, …}"
      ],
      "metadata": {
        "id": "dbFDFyNpPSw8"
      }
    },
    {
      "cell_type": "code",
      "source": [
        "import json"
      ],
      "metadata": {
        "id": "9sCa52z2jiOU"
      },
      "execution_count": 3,
      "outputs": []
    },
    {
      "cell_type": "code",
      "source": [
        "#Тустируем перевод в словарь на первых 5 строках файла\n",
        "new_dict = {} #создали пустой словарь \n",
        "\n",
        "i = 0\n",
        "with open('purchase_log.txt') as f_purchase: #через контекстный менеджер\n",
        "    for line in f_purchase:\n",
        "        line = line.strip() # Убрали лишние символы \n",
        "        dict_ = json.loads(line) # перевод строки в список\n",
        "        new_dict[dict_['user_id']] = dict_['category']\n",
        "                \n",
        "        i += 1\n",
        "        if i > 5:\n",
        "            break\n",
        "    print(new_dict, type(dict_))"
      ],
      "metadata": {
        "colab": {
          "base_uri": "https://localhost:8080/"
        },
        "id": "SKyeVR2gk3PI",
        "outputId": "092c06a5-35c4-4d9c-a79d-1baa4276df30"
      },
      "execution_count": 7,
      "outputs": [
        {
          "output_type": "stream",
          "name": "stdout",
          "text": [
            "{'user_id': 'category', '1840e0b9d4': 'Продукты', '4e4f90fcfb': 'Электроника', 'afea8d72fc': 'Электроника', '373a6055fe': 'Бытовая техника', '9b2ab046f3': 'Электроника'} <class 'dict'>\n"
          ]
        }
      ]
    },
    {
      "cell_type": "code",
      "source": [
        "#Переводим содержимое файла purchase_log.txt в словарь \n",
        "purchase_dict = {} #создали пустой словарь \n",
        "\n",
        "with open('purchase_log.txt') as f_purchase: #через контекстный менеджер\n",
        "    for line in f_purchase:\n",
        "        line = line.strip() # Убрали лишние символы \n",
        "        dict_ = json.loads(line) # перевод строки в список\n",
        "        purchase_dict[dict_['user_id']] = dict_['category']"
      ],
      "metadata": {
        "id": "DIacdufxiy95"
      },
      "execution_count": 10,
      "outputs": []
    },
    {
      "cell_type": "code",
      "source": [
        "#проверяем словарь\n",
        "i = 0\n",
        "for items in purchase_dict.items():\n",
        "  print(items)\n",
        "\n",
        "  i += 1\n",
        "  if i > 10:\n",
        "    break"
      ],
      "metadata": {
        "colab": {
          "base_uri": "https://localhost:8080/"
        },
        "id": "FdjYCA_fPvj7",
        "outputId": "ec7a6c50-3c41-4973-e93a-678566fa4a9f"
      },
      "execution_count": 25,
      "outputs": [
        {
          "output_type": "stream",
          "name": "stdout",
          "text": [
            "('user_id', 'category')\n",
            "('1840e0b9d4', 'Продукты')\n",
            "('4e4f90fcfb', 'Электроника')\n",
            "('afea8d72fc', 'Электроника')\n",
            "('373a6055fe', 'Бытовая техника')\n",
            "('9b2ab046f3', 'Электроника')\n",
            "('9f39d307c3', 'Электроника')\n",
            "('44edeffc91', 'Продукты')\n",
            "('704474fa2d', 'Продукты')\n",
            "('1de31be403', 'Бытовая техника')\n",
            "('b71f36a5e4', 'Продукты')\n"
          ]
        }
      ]
    },
    {
      "cell_type": "code",
      "source": [
        "f_purchase.close()"
      ],
      "metadata": {
        "id": "ixF8upWuPKij"
      },
      "execution_count": 9,
      "outputs": []
    },
    {
      "cell_type": "markdown",
      "source": [
        "### Задание 2\n",
        "\n",
        "Для каждого user_id в файле visit_log.csv определите третий столбец с категорией покупки (если покупка была, сам файл visit_log.csv изменять не надо)\n",
        "  * Запишите в файл funnel.csv визиты из файла visit_log.csv, в которых были покупки с указанием категории.\n",
        "  * Учтите условия на данные:\n",
        "    * содержимое purchase_log.txt помещается в оперативную память компьютера\n",
        "    * содержимое visit_log.csv - нет; используйте только построчную обработку этого файла"
      ],
      "metadata": {
        "id": "xIk6JGGRPals"
      }
    },
    {
      "cell_type": "code",
      "source": [
        "#Тестируем на 10 строках\n",
        "i = 0\n",
        "with open('visit_log.csv', 'r') as visit_log: #через контекстный менеджер\n",
        "    with open('funnel.csv', 'w') as funnel: \n",
        "        for line in visit_log:\n",
        "          visits = line.strip().split(',') # Убрали лишние символы и разделили по запятой\n",
        "          if visits[0] in purchase_dict.keys(): # Если user_id есть в ключах словаря purchase добавляем категорию \n",
        "            visits.append(purchase_dict[visits[0]])\n",
        "            funnel.write(str(visits) + '\\n') # Записываем в файл funnel строку и добавляем в конце символы для переноса\n",
        "            print(visits)\n",
        "\n",
        "            i += 1\n",
        "            if i > 10:\n",
        "              break"
      ],
      "metadata": {
        "colab": {
          "base_uri": "https://localhost:8080/"
        },
        "id": "fJNRs4pRTu27",
        "outputId": "eb2b25ea-373a-4dee-bece-03c53d2afa36"
      },
      "execution_count": 32,
      "outputs": [
        {
          "output_type": "stream",
          "name": "stdout",
          "text": [
            "['user_id', 'source', 'category']\n",
            "['1840e0b9d4', 'other', 'Продукты']\n",
            "['4e4f90fcfb', 'context', 'Электроника']\n",
            "['afea8d72fc', 'other', 'Электроника']\n",
            "['2824221f38', 'email', 'Продукты']\n",
            "['373a6055fe', 'other', 'Бытовая техника']\n",
            "['9b2ab046f3', 'other', 'Электроника']\n",
            "['9f39d307c3', 'context', 'Электроника']\n",
            "['44edeffc91', 'context', 'Продукты']\n",
            "['704474fa2d', 'other', 'Продукты']\n",
            "['1de31be403', 'other', 'Бытовая техника']\n"
          ]
        }
      ]
    },
    {
      "cell_type": "code",
      "source": [
        "#Записываем файл funnel.csv\n",
        "with open('visit_log.csv', 'r') as visit_log:\n",
        "    with open('funnel.csv', 'w') as funnel:\n",
        "        for line in visit_log:\n",
        "          visits = line.strip().split(',')\n",
        "          if visits[0] in purchase_dict.keys():\n",
        "            visits.append(purchase_dict[visits[0]])\n",
        "            funnel.write(str(visits) + '\\n')"
      ],
      "metadata": {
        "id": "jRk6rhr3Z8X0"
      },
      "execution_count": 35,
      "outputs": []
    }
  ]
}