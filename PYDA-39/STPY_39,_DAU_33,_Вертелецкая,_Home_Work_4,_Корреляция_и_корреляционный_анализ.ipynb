{
  "metadata": {
    "kernelspec": {
      "language": "python",
      "display_name": "Python 3",
      "name": "python3"
    },
    "language_info": {
      "name": "python",
      "version": "3.7.12",
      "mimetype": "text/x-python",
      "codemirror_mode": {
        "name": "ipython",
        "version": 3
      },
      "pygments_lexer": "ipython3",
      "nbconvert_exporter": "python",
      "file_extension": ".py"
    },
    "colab": {
      "provenance": []
    }
  },
  "nbformat_minor": 0,
  "nbformat": 4,
  "cells": [
    {
      "cell_type": "markdown",
      "source": [
        "# Домашнее задание к лекции «Корреляция и корреляционный анализ»\n",
        "\n",
        "Возьмите датасет Mortality and Water Hardness**\n",
        "www.kaggle.com...r-hardness\n",
        "\n",
        "В этом датасете содержатся данные по средней годовой смертности на\n",
        "100000 населения и концентрации кальция в питьевой воде для 61\n",
        "большого города в Англии и Уэльсе. Города дополнительно поделены на\n",
        "северные и южные.\n",
        "\n",
        "Задание 1.\n",
        "Ответить на вопрос: есть ли связь между жёсткостью воды и средней годовой смертностью?\n",
        "\n",
        "*     Построить точечный график\n",
        "*     Рассчитать коэффициенты корреляции Пирсона и Спирмена\n",
        "*     Построить модель линейной регрессии\n",
        "*     Рассчитать коэффициент детерминации\n",
        "*     Вывести график остатков\n",
        "\n",
        "Задание 2.\n",
        "Ответить на вопрос: сохраняется ли аналогичная зависимость для северных и южных городов по отдельности?\n",
        "\n",
        "1.     Разделить данные на 2 группы\n",
        "1.     Повторить аналогичные шаги из пункта 1 для каждой группы по отдельности\n"
      ],
      "metadata": {
        "id": "R0rwtjJ1tHD3"
      }
    },
    {
      "cell_type": "markdown",
      "source": [
        "**Заметки:**\n",
        "* Между смертностью и концентрацией калия в питьевой воде существует обратная взаимосвязь (чем больше кальция, тем ниже смертность)\n",
        "* Коэффициент детерминации для всех городов на имеет приемлемое значение (больше 0,5)\n",
        "* При разбиении даннх на северные и южные города коэффициент детерминации сильно падает, думаю, ввиду малого количества данных."
      ],
      "metadata": {
        "id": "QginnBvZ1mvf"
      }
    },
    {
      "cell_type": "code",
      "source": [
        "# Подключаем библиотеки\n",
        "\n",
        "import numpy as np \n",
        "import pandas as pd \n",
        "import matplotlib.pyplot as plt \n",
        "import seaborn as sns\n",
        "from sklearn.linear_model import LinearRegression\n",
        "from sklearn.model_selection import train_test_split"
      ],
      "metadata": {
        "_uuid": "8f2839f25d086af736a60e9eeb907d3b93b6e0e5",
        "_cell_guid": "b1076dfc-b9ad-4769-8c92-a6c4dae69d19",
        "execution": {
          "iopub.status.busy": "2023-01-28T09:00:01.805994Z",
          "iopub.execute_input": "2023-01-28T09:00:01.806423Z",
          "iopub.status.idle": "2023-01-28T09:00:01.981875Z",
          "shell.execute_reply.started": "2023-01-28T09:00:01.806388Z",
          "shell.execute_reply": "2023-01-28T09:00:01.981037Z"
        },
        "trusted": true,
        "id": "lWBPtiRWtHDv"
      },
      "execution_count": 4,
      "outputs": []
    },
    {
      "cell_type": "code",
      "source": [
        "#загружаем и смотрим файл\n",
        "#загружаем все столбцы, кроме первого, т.к он содержит номера п/п и для наших задач не нужен\n",
        "df_water = pd.read_csv('water.csv', usecols=[1,2,3,4])\n",
        "df_water.head(15)"
      ],
      "metadata": {
        "execution": {
          "iopub.status.busy": "2023-01-28T08:49:43.435250Z",
          "iopub.execute_input": "2023-01-28T08:49:43.435691Z",
          "iopub.status.idle": "2023-01-28T08:49:43.453033Z",
          "shell.execute_reply.started": "2023-01-28T08:49:43.435653Z",
          "shell.execute_reply": "2023-01-28T08:49:43.451827Z"
        },
        "trusted": true,
        "colab": {
          "base_uri": "https://localhost:8080/",
          "height": 520
        },
        "id": "myS7B83ptHD_",
        "outputId": "2e5555a3-06e4-4106-b848-9dec6f442cc4"
      },
      "execution_count": 5,
      "outputs": [
        {
          "output_type": "execute_result",
          "data": {
            "text/plain": [
              "   location         town  mortality  hardness\n",
              "0     South         Bath       1247       105\n",
              "1     North   Birkenhead       1668        17\n",
              "2     South   Birmingham       1466         5\n",
              "3     North    Blackburn       1800        14\n",
              "4     North    Blackpool       1609        18\n",
              "5     North       Bolton       1558        10\n",
              "6     North       Bootle       1807        15\n",
              "7     South  Bournemouth       1299        78\n",
              "8     North     Bradford       1637        10\n",
              "9     South     Brighton       1359        84\n",
              "10    South      Bristol       1392        73\n",
              "11    North      Burnley       1755        12\n",
              "12    South      Cardiff       1519        21\n",
              "13    South     Coventry       1307        78\n",
              "14    South      Croydon       1254        96"
            ],
            "text/html": [
              "\n",
              "  <div id=\"df-734b377f-472a-470f-a261-395e497f94b1\">\n",
              "    <div class=\"colab-df-container\">\n",
              "      <div>\n",
              "<style scoped>\n",
              "    .dataframe tbody tr th:only-of-type {\n",
              "        vertical-align: middle;\n",
              "    }\n",
              "\n",
              "    .dataframe tbody tr th {\n",
              "        vertical-align: top;\n",
              "    }\n",
              "\n",
              "    .dataframe thead th {\n",
              "        text-align: right;\n",
              "    }\n",
              "</style>\n",
              "<table border=\"1\" class=\"dataframe\">\n",
              "  <thead>\n",
              "    <tr style=\"text-align: right;\">\n",
              "      <th></th>\n",
              "      <th>location</th>\n",
              "      <th>town</th>\n",
              "      <th>mortality</th>\n",
              "      <th>hardness</th>\n",
              "    </tr>\n",
              "  </thead>\n",
              "  <tbody>\n",
              "    <tr>\n",
              "      <th>0</th>\n",
              "      <td>South</td>\n",
              "      <td>Bath</td>\n",
              "      <td>1247</td>\n",
              "      <td>105</td>\n",
              "    </tr>\n",
              "    <tr>\n",
              "      <th>1</th>\n",
              "      <td>North</td>\n",
              "      <td>Birkenhead</td>\n",
              "      <td>1668</td>\n",
              "      <td>17</td>\n",
              "    </tr>\n",
              "    <tr>\n",
              "      <th>2</th>\n",
              "      <td>South</td>\n",
              "      <td>Birmingham</td>\n",
              "      <td>1466</td>\n",
              "      <td>5</td>\n",
              "    </tr>\n",
              "    <tr>\n",
              "      <th>3</th>\n",
              "      <td>North</td>\n",
              "      <td>Blackburn</td>\n",
              "      <td>1800</td>\n",
              "      <td>14</td>\n",
              "    </tr>\n",
              "    <tr>\n",
              "      <th>4</th>\n",
              "      <td>North</td>\n",
              "      <td>Blackpool</td>\n",
              "      <td>1609</td>\n",
              "      <td>18</td>\n",
              "    </tr>\n",
              "    <tr>\n",
              "      <th>5</th>\n",
              "      <td>North</td>\n",
              "      <td>Bolton</td>\n",
              "      <td>1558</td>\n",
              "      <td>10</td>\n",
              "    </tr>\n",
              "    <tr>\n",
              "      <th>6</th>\n",
              "      <td>North</td>\n",
              "      <td>Bootle</td>\n",
              "      <td>1807</td>\n",
              "      <td>15</td>\n",
              "    </tr>\n",
              "    <tr>\n",
              "      <th>7</th>\n",
              "      <td>South</td>\n",
              "      <td>Bournemouth</td>\n",
              "      <td>1299</td>\n",
              "      <td>78</td>\n",
              "    </tr>\n",
              "    <tr>\n",
              "      <th>8</th>\n",
              "      <td>North</td>\n",
              "      <td>Bradford</td>\n",
              "      <td>1637</td>\n",
              "      <td>10</td>\n",
              "    </tr>\n",
              "    <tr>\n",
              "      <th>9</th>\n",
              "      <td>South</td>\n",
              "      <td>Brighton</td>\n",
              "      <td>1359</td>\n",
              "      <td>84</td>\n",
              "    </tr>\n",
              "    <tr>\n",
              "      <th>10</th>\n",
              "      <td>South</td>\n",
              "      <td>Bristol</td>\n",
              "      <td>1392</td>\n",
              "      <td>73</td>\n",
              "    </tr>\n",
              "    <tr>\n",
              "      <th>11</th>\n",
              "      <td>North</td>\n",
              "      <td>Burnley</td>\n",
              "      <td>1755</td>\n",
              "      <td>12</td>\n",
              "    </tr>\n",
              "    <tr>\n",
              "      <th>12</th>\n",
              "      <td>South</td>\n",
              "      <td>Cardiff</td>\n",
              "      <td>1519</td>\n",
              "      <td>21</td>\n",
              "    </tr>\n",
              "    <tr>\n",
              "      <th>13</th>\n",
              "      <td>South</td>\n",
              "      <td>Coventry</td>\n",
              "      <td>1307</td>\n",
              "      <td>78</td>\n",
              "    </tr>\n",
              "    <tr>\n",
              "      <th>14</th>\n",
              "      <td>South</td>\n",
              "      <td>Croydon</td>\n",
              "      <td>1254</td>\n",
              "      <td>96</td>\n",
              "    </tr>\n",
              "  </tbody>\n",
              "</table>\n",
              "</div>\n",
              "      <button class=\"colab-df-convert\" onclick=\"convertToInteractive('df-734b377f-472a-470f-a261-395e497f94b1')\"\n",
              "              title=\"Convert this dataframe to an interactive table.\"\n",
              "              style=\"display:none;\">\n",
              "        \n",
              "  <svg xmlns=\"http://www.w3.org/2000/svg\" height=\"24px\"viewBox=\"0 0 24 24\"\n",
              "       width=\"24px\">\n",
              "    <path d=\"M0 0h24v24H0V0z\" fill=\"none\"/>\n",
              "    <path d=\"M18.56 5.44l.94 2.06.94-2.06 2.06-.94-2.06-.94-.94-2.06-.94 2.06-2.06.94zm-11 1L8.5 8.5l.94-2.06 2.06-.94-2.06-.94L8.5 2.5l-.94 2.06-2.06.94zm10 10l.94 2.06.94-2.06 2.06-.94-2.06-.94-.94-2.06-.94 2.06-2.06.94z\"/><path d=\"M17.41 7.96l-1.37-1.37c-.4-.4-.92-.59-1.43-.59-.52 0-1.04.2-1.43.59L10.3 9.45l-7.72 7.72c-.78.78-.78 2.05 0 2.83L4 21.41c.39.39.9.59 1.41.59.51 0 1.02-.2 1.41-.59l7.78-7.78 2.81-2.81c.8-.78.8-2.07 0-2.86zM5.41 20L4 18.59l7.72-7.72 1.47 1.35L5.41 20z\"/>\n",
              "  </svg>\n",
              "      </button>\n",
              "      \n",
              "  <style>\n",
              "    .colab-df-container {\n",
              "      display:flex;\n",
              "      flex-wrap:wrap;\n",
              "      gap: 12px;\n",
              "    }\n",
              "\n",
              "    .colab-df-convert {\n",
              "      background-color: #E8F0FE;\n",
              "      border: none;\n",
              "      border-radius: 50%;\n",
              "      cursor: pointer;\n",
              "      display: none;\n",
              "      fill: #1967D2;\n",
              "      height: 32px;\n",
              "      padding: 0 0 0 0;\n",
              "      width: 32px;\n",
              "    }\n",
              "\n",
              "    .colab-df-convert:hover {\n",
              "      background-color: #E2EBFA;\n",
              "      box-shadow: 0px 1px 2px rgba(60, 64, 67, 0.3), 0px 1px 3px 1px rgba(60, 64, 67, 0.15);\n",
              "      fill: #174EA6;\n",
              "    }\n",
              "\n",
              "    [theme=dark] .colab-df-convert {\n",
              "      background-color: #3B4455;\n",
              "      fill: #D2E3FC;\n",
              "    }\n",
              "\n",
              "    [theme=dark] .colab-df-convert:hover {\n",
              "      background-color: #434B5C;\n",
              "      box-shadow: 0px 1px 3px 1px rgba(0, 0, 0, 0.15);\n",
              "      filter: drop-shadow(0px 1px 2px rgba(0, 0, 0, 0.3));\n",
              "      fill: #FFFFFF;\n",
              "    }\n",
              "  </style>\n",
              "\n",
              "      <script>\n",
              "        const buttonEl =\n",
              "          document.querySelector('#df-734b377f-472a-470f-a261-395e497f94b1 button.colab-df-convert');\n",
              "        buttonEl.style.display =\n",
              "          google.colab.kernel.accessAllowed ? 'block' : 'none';\n",
              "\n",
              "        async function convertToInteractive(key) {\n",
              "          const element = document.querySelector('#df-734b377f-472a-470f-a261-395e497f94b1');\n",
              "          const dataTable =\n",
              "            await google.colab.kernel.invokeFunction('convertToInteractive',\n",
              "                                                     [key], {});\n",
              "          if (!dataTable) return;\n",
              "\n",
              "          const docLinkHtml = 'Like what you see? Visit the ' +\n",
              "            '<a target=\"_blank\" href=https://colab.research.google.com/notebooks/data_table.ipynb>data table notebook</a>'\n",
              "            + ' to learn more about interactive tables.';\n",
              "          element.innerHTML = '';\n",
              "          dataTable['output_type'] = 'display_data';\n",
              "          await google.colab.output.renderOutput(dataTable, element);\n",
              "          const docLink = document.createElement('div');\n",
              "          docLink.innerHTML = docLinkHtml;\n",
              "          element.appendChild(docLink);\n",
              "        }\n",
              "      </script>\n",
              "    </div>\n",
              "  </div>\n",
              "  "
            ]
          },
          "metadata": {},
          "execution_count": 5
        }
      ]
    },
    {
      "cell_type": "code",
      "source": [
        "df_water.info() #пропусков нет, типы данных корректны"
      ],
      "metadata": {
        "execution": {
          "iopub.status.busy": "2023-01-28T08:49:50.920768Z",
          "iopub.execute_input": "2023-01-28T08:49:50.921632Z",
          "iopub.status.idle": "2023-01-28T08:49:50.934552Z",
          "shell.execute_reply.started": "2023-01-28T08:49:50.921594Z",
          "shell.execute_reply": "2023-01-28T08:49:50.933417Z"
        },
        "trusted": true,
        "colab": {
          "base_uri": "https://localhost:8080/"
        },
        "id": "5pCe6rQwtHEC",
        "outputId": "57358f04-be44-4a07-be1e-eacbb2d6d7d9"
      },
      "execution_count": 6,
      "outputs": [
        {
          "output_type": "stream",
          "name": "stdout",
          "text": [
            "<class 'pandas.core.frame.DataFrame'>\n",
            "RangeIndex: 61 entries, 0 to 60\n",
            "Data columns (total 4 columns):\n",
            " #   Column     Non-Null Count  Dtype \n",
            "---  ------     --------------  ----- \n",
            " 0   location   61 non-null     object\n",
            " 1   town       61 non-null     object\n",
            " 2   mortality  61 non-null     int64 \n",
            " 3   hardness   61 non-null     int64 \n",
            "dtypes: int64(2), object(2)\n",
            "memory usage: 2.0+ KB\n"
          ]
        }
      ]
    },
    {
      "cell_type": "code",
      "source": [
        "df_water.describe()"
      ],
      "metadata": {
        "execution": {
          "iopub.status.busy": "2023-01-28T08:49:56.209855Z",
          "iopub.execute_input": "2023-01-28T08:49:56.211227Z",
          "iopub.status.idle": "2023-01-28T08:49:56.230582Z",
          "shell.execute_reply.started": "2023-01-28T08:49:56.211176Z",
          "shell.execute_reply": "2023-01-28T08:49:56.229186Z"
        },
        "trusted": true,
        "colab": {
          "base_uri": "https://localhost:8080/",
          "height": 300
        },
        "id": "K1JOwA54tHEG",
        "outputId": "55a21a2d-7986-466a-be94-d1b0fa919f44"
      },
      "execution_count": 7,
      "outputs": [
        {
          "output_type": "execute_result",
          "data": {
            "text/plain": [
              "         mortality    hardness\n",
              "count    61.000000   61.000000\n",
              "mean   1524.147541   47.180328\n",
              "std     187.668754   38.093966\n",
              "min    1096.000000    5.000000\n",
              "25%    1379.000000   14.000000\n",
              "50%    1555.000000   39.000000\n",
              "75%    1668.000000   75.000000\n",
              "max    1987.000000  138.000000"
            ],
            "text/html": [
              "\n",
              "  <div id=\"df-ee024e5b-e615-4e39-8550-0e4066bc6e8b\">\n",
              "    <div class=\"colab-df-container\">\n",
              "      <div>\n",
              "<style scoped>\n",
              "    .dataframe tbody tr th:only-of-type {\n",
              "        vertical-align: middle;\n",
              "    }\n",
              "\n",
              "    .dataframe tbody tr th {\n",
              "        vertical-align: top;\n",
              "    }\n",
              "\n",
              "    .dataframe thead th {\n",
              "        text-align: right;\n",
              "    }\n",
              "</style>\n",
              "<table border=\"1\" class=\"dataframe\">\n",
              "  <thead>\n",
              "    <tr style=\"text-align: right;\">\n",
              "      <th></th>\n",
              "      <th>mortality</th>\n",
              "      <th>hardness</th>\n",
              "    </tr>\n",
              "  </thead>\n",
              "  <tbody>\n",
              "    <tr>\n",
              "      <th>count</th>\n",
              "      <td>61.000000</td>\n",
              "      <td>61.000000</td>\n",
              "    </tr>\n",
              "    <tr>\n",
              "      <th>mean</th>\n",
              "      <td>1524.147541</td>\n",
              "      <td>47.180328</td>\n",
              "    </tr>\n",
              "    <tr>\n",
              "      <th>std</th>\n",
              "      <td>187.668754</td>\n",
              "      <td>38.093966</td>\n",
              "    </tr>\n",
              "    <tr>\n",
              "      <th>min</th>\n",
              "      <td>1096.000000</td>\n",
              "      <td>5.000000</td>\n",
              "    </tr>\n",
              "    <tr>\n",
              "      <th>25%</th>\n",
              "      <td>1379.000000</td>\n",
              "      <td>14.000000</td>\n",
              "    </tr>\n",
              "    <tr>\n",
              "      <th>50%</th>\n",
              "      <td>1555.000000</td>\n",
              "      <td>39.000000</td>\n",
              "    </tr>\n",
              "    <tr>\n",
              "      <th>75%</th>\n",
              "      <td>1668.000000</td>\n",
              "      <td>75.000000</td>\n",
              "    </tr>\n",
              "    <tr>\n",
              "      <th>max</th>\n",
              "      <td>1987.000000</td>\n",
              "      <td>138.000000</td>\n",
              "    </tr>\n",
              "  </tbody>\n",
              "</table>\n",
              "</div>\n",
              "      <button class=\"colab-df-convert\" onclick=\"convertToInteractive('df-ee024e5b-e615-4e39-8550-0e4066bc6e8b')\"\n",
              "              title=\"Convert this dataframe to an interactive table.\"\n",
              "              style=\"display:none;\">\n",
              "        \n",
              "  <svg xmlns=\"http://www.w3.org/2000/svg\" height=\"24px\"viewBox=\"0 0 24 24\"\n",
              "       width=\"24px\">\n",
              "    <path d=\"M0 0h24v24H0V0z\" fill=\"none\"/>\n",
              "    <path d=\"M18.56 5.44l.94 2.06.94-2.06 2.06-.94-2.06-.94-.94-2.06-.94 2.06-2.06.94zm-11 1L8.5 8.5l.94-2.06 2.06-.94-2.06-.94L8.5 2.5l-.94 2.06-2.06.94zm10 10l.94 2.06.94-2.06 2.06-.94-2.06-.94-.94-2.06-.94 2.06-2.06.94z\"/><path d=\"M17.41 7.96l-1.37-1.37c-.4-.4-.92-.59-1.43-.59-.52 0-1.04.2-1.43.59L10.3 9.45l-7.72 7.72c-.78.78-.78 2.05 0 2.83L4 21.41c.39.39.9.59 1.41.59.51 0 1.02-.2 1.41-.59l7.78-7.78 2.81-2.81c.8-.78.8-2.07 0-2.86zM5.41 20L4 18.59l7.72-7.72 1.47 1.35L5.41 20z\"/>\n",
              "  </svg>\n",
              "      </button>\n",
              "      \n",
              "  <style>\n",
              "    .colab-df-container {\n",
              "      display:flex;\n",
              "      flex-wrap:wrap;\n",
              "      gap: 12px;\n",
              "    }\n",
              "\n",
              "    .colab-df-convert {\n",
              "      background-color: #E8F0FE;\n",
              "      border: none;\n",
              "      border-radius: 50%;\n",
              "      cursor: pointer;\n",
              "      display: none;\n",
              "      fill: #1967D2;\n",
              "      height: 32px;\n",
              "      padding: 0 0 0 0;\n",
              "      width: 32px;\n",
              "    }\n",
              "\n",
              "    .colab-df-convert:hover {\n",
              "      background-color: #E2EBFA;\n",
              "      box-shadow: 0px 1px 2px rgba(60, 64, 67, 0.3), 0px 1px 3px 1px rgba(60, 64, 67, 0.15);\n",
              "      fill: #174EA6;\n",
              "    }\n",
              "\n",
              "    [theme=dark] .colab-df-convert {\n",
              "      background-color: #3B4455;\n",
              "      fill: #D2E3FC;\n",
              "    }\n",
              "\n",
              "    [theme=dark] .colab-df-convert:hover {\n",
              "      background-color: #434B5C;\n",
              "      box-shadow: 0px 1px 3px 1px rgba(0, 0, 0, 0.15);\n",
              "      filter: drop-shadow(0px 1px 2px rgba(0, 0, 0, 0.3));\n",
              "      fill: #FFFFFF;\n",
              "    }\n",
              "  </style>\n",
              "\n",
              "      <script>\n",
              "        const buttonEl =\n",
              "          document.querySelector('#df-ee024e5b-e615-4e39-8550-0e4066bc6e8b button.colab-df-convert');\n",
              "        buttonEl.style.display =\n",
              "          google.colab.kernel.accessAllowed ? 'block' : 'none';\n",
              "\n",
              "        async function convertToInteractive(key) {\n",
              "          const element = document.querySelector('#df-ee024e5b-e615-4e39-8550-0e4066bc6e8b');\n",
              "          const dataTable =\n",
              "            await google.colab.kernel.invokeFunction('convertToInteractive',\n",
              "                                                     [key], {});\n",
              "          if (!dataTable) return;\n",
              "\n",
              "          const docLinkHtml = 'Like what you see? Visit the ' +\n",
              "            '<a target=\"_blank\" href=https://colab.research.google.com/notebooks/data_table.ipynb>data table notebook</a>'\n",
              "            + ' to learn more about interactive tables.';\n",
              "          element.innerHTML = '';\n",
              "          dataTable['output_type'] = 'display_data';\n",
              "          await google.colab.output.renderOutput(dataTable, element);\n",
              "          const docLink = document.createElement('div');\n",
              "          docLink.innerHTML = docLinkHtml;\n",
              "          element.appendChild(docLink);\n",
              "        }\n",
              "      </script>\n",
              "    </div>\n",
              "  </div>\n",
              "  "
            ]
          },
          "metadata": {},
          "execution_count": 7
        }
      ]
    },
    {
      "cell_type": "code",
      "source": [
        "plt.scatter(df_water['hardness'], df_water['mortality'])\n",
        "plt.xlabel('Концентрация кальция в питьевой воде')\n",
        "plt.ylabel('Смертность')"
      ],
      "metadata": {
        "execution": {
          "iopub.status.busy": "2023-01-28T08:53:50.941153Z",
          "iopub.execute_input": "2023-01-28T08:53:50.942441Z",
          "iopub.status.idle": "2023-01-28T08:53:51.147775Z",
          "shell.execute_reply.started": "2023-01-28T08:53:50.942395Z",
          "shell.execute_reply": "2023-01-28T08:53:51.146726Z"
        },
        "trusted": true,
        "colab": {
          "base_uri": "https://localhost:8080/",
          "height": 296
        },
        "id": "UwSFZfMLtHEO",
        "outputId": "92b0b133-1c96-4878-a1cc-b1aec353579c"
      },
      "execution_count": 70,
      "outputs": [
        {
          "output_type": "execute_result",
          "data": {
            "text/plain": [
              "Text(0, 0.5, 'Смертность')"
            ]
          },
          "metadata": {},
          "execution_count": 70
        },
        {
          "output_type": "display_data",
          "data": {
            "text/plain": [
              "<Figure size 432x288 with 1 Axes>"
            ],
            "image/png": "[encoded data removed]"
          },
          "metadata": {
            "needs_background": "light"
          }
        }
      ]
    },
    {
      "cell_type": "code",
      "source": [
        "# можем использовать pairplot для изучения взаимосвязи между множеством признаков\n",
        "sns.pairplot(df_water, kind='reg')"
      ],
      "metadata": {
        "execution": {
          "iopub.status.busy": "2023-01-28T08:56:16.320068Z",
          "iopub.execute_input": "2023-01-28T08:56:16.320486Z",
          "iopub.status.idle": "2023-01-28T08:56:17.356388Z",
          "shell.execute_reply.started": "2023-01-28T08:56:16.320453Z",
          "shell.execute_reply": "2023-01-28T08:56:17.355029Z"
        },
        "trusted": true,
        "colab": {
          "base_uri": "https://localhost:8080/",
          "height": 391
        },
        "id": "ET6EGp2ktHEU",
        "outputId": "f15d6013-0764-4f4c-8cca-719533ed005a"
      },
      "execution_count": 11,
      "outputs": [
        {
          "output_type": "execute_result",
          "data": {
            "text/plain": [
              "<seaborn.axisgrid.PairGrid at 0x7fd2a98e3eb0>"
            ]
          },
          "metadata": {},
          "execution_count": 11
        },
        {
          "output_type": "display_data",
          "data": {
            "text/plain": [
              "<Figure size 360x360 with 6 Axes>"
            ],
            "image/png": "[encoded data removed]"
          },
          "metadata": {
            "needs_background": "light"
          }
        }
      ]
    },
    {
      "cell_type": "code",
      "source": [
        "# считаем коэф. корреляции Пирсона\n",
        "df_water[['hardness', 'mortality']].corr()"
      ],
      "metadata": {
        "execution": {
          "iopub.status.busy": "2023-01-28T08:57:22.455197Z",
          "iopub.execute_input": "2023-01-28T08:57:22.455610Z",
          "iopub.status.idle": "2023-01-28T08:57:22.467906Z",
          "shell.execute_reply.started": "2023-01-28T08:57:22.455578Z",
          "shell.execute_reply": "2023-01-28T08:57:22.466848Z"
        },
        "trusted": true,
        "colab": {
          "base_uri": "https://localhost:8080/",
          "height": 112
        },
        "id": "fbiotIlItHEY",
        "outputId": "ef2ba478-6bd3-444d-d45c-d2b96459fe12"
      },
      "execution_count": 12,
      "outputs": [
        {
          "output_type": "execute_result",
          "data": {
            "text/plain": [
              "           hardness  mortality\n",
              "hardness   1.000000  -0.654849\n",
              "mortality -0.654849   1.000000"
            ],
            "text/html": [
              "\n",
              "  <div id=\"df-54ea08fe-220f-4631-9a7a-06ee6d45588b\">\n",
              "    <div class=\"colab-df-container\">\n",
              "      <div>\n",
              "<style scoped>\n",
              "    .dataframe tbody tr th:only-of-type {\n",
              "        vertical-align: middle;\n",
              "    }\n",
              "\n",
              "    .dataframe tbody tr th {\n",
              "        vertical-align: top;\n",
              "    }\n",
              "\n",
              "    .dataframe thead th {\n",
              "        text-align: right;\n",
              "    }\n",
              "</style>\n",
              "<table border=\"1\" class=\"dataframe\">\n",
              "  <thead>\n",
              "    <tr style=\"text-align: right;\">\n",
              "      <th></th>\n",
              "      <th>hardness</th>\n",
              "      <th>mortality</th>\n",
              "    </tr>\n",
              "  </thead>\n",
              "  <tbody>\n",
              "    <tr>\n",
              "      <th>hardness</th>\n",
              "      <td>1.000000</td>\n",
              "      <td>-0.654849</td>\n",
              "    </tr>\n",
              "    <tr>\n",
              "      <th>mortality</th>\n",
              "      <td>-0.654849</td>\n",
              "      <td>1.000000</td>\n",
              "    </tr>\n",
              "  </tbody>\n",
              "</table>\n",
              "</div>\n",
              "      <button class=\"colab-df-convert\" onclick=\"convertToInteractive('df-54ea08fe-220f-4631-9a7a-06ee6d45588b')\"\n",
              "              title=\"Convert this dataframe to an interactive table.\"\n",
              "              style=\"display:none;\">\n",
              "        \n",
              "  <svg xmlns=\"http://www.w3.org/2000/svg\" height=\"24px\"viewBox=\"0 0 24 24\"\n",
              "       width=\"24px\">\n",
              "    <path d=\"M0 0h24v24H0V0z\" fill=\"none\"/>\n",
              "    <path d=\"M18.56 5.44l.94 2.06.94-2.06 2.06-.94-2.06-.94-.94-2.06-.94 2.06-2.06.94zm-11 1L8.5 8.5l.94-2.06 2.06-.94-2.06-.94L8.5 2.5l-.94 2.06-2.06.94zm10 10l.94 2.06.94-2.06 2.06-.94-2.06-.94-.94-2.06-.94 2.06-2.06.94z\"/><path d=\"M17.41 7.96l-1.37-1.37c-.4-.4-.92-.59-1.43-.59-.52 0-1.04.2-1.43.59L10.3 9.45l-7.72 7.72c-.78.78-.78 2.05 0 2.83L4 21.41c.39.39.9.59 1.41.59.51 0 1.02-.2 1.41-.59l7.78-7.78 2.81-2.81c.8-.78.8-2.07 0-2.86zM5.41 20L4 18.59l7.72-7.72 1.47 1.35L5.41 20z\"/>\n",
              "  </svg>\n",
              "      </button>\n",
              "      \n",
              "  <style>\n",
              "    .colab-df-container {\n",
              "      display:flex;\n",
              "      flex-wrap:wrap;\n",
              "      gap: 12px;\n",
              "    }\n",
              "\n",
              "    .colab-df-convert {\n",
              "      background-color: #E8F0FE;\n",
              "      border: none;\n",
              "      border-radius: 50%;\n",
              "      cursor: pointer;\n",
              "      display: none;\n",
              "      fill: #1967D2;\n",
              "      height: 32px;\n",
              "      padding: 0 0 0 0;\n",
              "      width: 32px;\n",
              "    }\n",
              "\n",
              "    .colab-df-convert:hover {\n",
              "      background-color: #E2EBFA;\n",
              "      box-shadow: 0px 1px 2px rgba(60, 64, 67, 0.3), 0px 1px 3px 1px rgba(60, 64, 67, 0.15);\n",
              "      fill: #174EA6;\n",
              "    }\n",
              "\n",
              "    [theme=dark] .colab-df-convert {\n",
              "      background-color: #3B4455;\n",
              "      fill: #D2E3FC;\n",
              "    }\n",
              "\n",
              "    [theme=dark] .colab-df-convert:hover {\n",
              "      background-color: #434B5C;\n",
              "      box-shadow: 0px 1px 3px 1px rgba(0, 0, 0, 0.15);\n",
              "      filter: drop-shadow(0px 1px 2px rgba(0, 0, 0, 0.3));\n",
              "      fill: #FFFFFF;\n",
              "    }\n",
              "  </style>\n",
              "\n",
              "      <script>\n",
              "        const buttonEl =\n",
              "          document.querySelector('#df-54ea08fe-220f-4631-9a7a-06ee6d45588b button.colab-df-convert');\n",
              "        buttonEl.style.display =\n",
              "          google.colab.kernel.accessAllowed ? 'block' : 'none';\n",
              "\n",
              "        async function convertToInteractive(key) {\n",
              "          const element = document.querySelector('#df-54ea08fe-220f-4631-9a7a-06ee6d45588b');\n",
              "          const dataTable =\n",
              "            await google.colab.kernel.invokeFunction('convertToInteractive',\n",
              "                                                     [key], {});\n",
              "          if (!dataTable) return;\n",
              "\n",
              "          const docLinkHtml = 'Like what you see? Visit the ' +\n",
              "            '<a target=\"_blank\" href=https://colab.research.google.com/notebooks/data_table.ipynb>data table notebook</a>'\n",
              "            + ' to learn more about interactive tables.';\n",
              "          element.innerHTML = '';\n",
              "          dataTable['output_type'] = 'display_data';\n",
              "          await google.colab.output.renderOutput(dataTable, element);\n",
              "          const docLink = document.createElement('div');\n",
              "          docLink.innerHTML = docLinkHtml;\n",
              "          element.appendChild(docLink);\n",
              "        }\n",
              "      </script>\n",
              "    </div>\n",
              "  </div>\n",
              "  "
            ]
          },
          "metadata": {},
          "execution_count": 12
        }
      ]
    },
    {
      "cell_type": "code",
      "source": [
        "# считаем коэф. корреляции Спирмана\n",
        "df_water[['hardness', 'mortality']].corr(method='spearman')"
      ],
      "metadata": {
        "execution": {
          "iopub.status.busy": "2023-01-28T08:57:58.704569Z",
          "iopub.execute_input": "2023-01-28T08:57:58.705479Z",
          "iopub.status.idle": "2023-01-28T08:57:58.721272Z",
          "shell.execute_reply.started": "2023-01-28T08:57:58.705439Z",
          "shell.execute_reply": "2023-01-28T08:57:58.720102Z"
        },
        "trusted": true,
        "colab": {
          "base_uri": "https://localhost:8080/",
          "height": 112
        },
        "id": "55Qzm0YVtHEb",
        "outputId": "58d8635a-c50b-4dca-b92c-58932ddd1cd6"
      },
      "execution_count": 13,
      "outputs": [
        {
          "output_type": "execute_result",
          "data": {
            "text/plain": [
              "           hardness  mortality\n",
              "hardness   1.000000  -0.631665\n",
              "mortality -0.631665   1.000000"
            ],
            "text/html": [
              "\n",
              "  <div id=\"df-334680e1-c1b2-4d04-aeaa-3d5614a3a543\">\n",
              "    <div class=\"colab-df-container\">\n",
              "      <div>\n",
              "<style scoped>\n",
              "    .dataframe tbody tr th:only-of-type {\n",
              "        vertical-align: middle;\n",
              "    }\n",
              "\n",
              "    .dataframe tbody tr th {\n",
              "        vertical-align: top;\n",
              "    }\n",
              "\n",
              "    .dataframe thead th {\n",
              "        text-align: right;\n",
              "    }\n",
              "</style>\n",
              "<table border=\"1\" class=\"dataframe\">\n",
              "  <thead>\n",
              "    <tr style=\"text-align: right;\">\n",
              "      <th></th>\n",
              "      <th>hardness</th>\n",
              "      <th>mortality</th>\n",
              "    </tr>\n",
              "  </thead>\n",
              "  <tbody>\n",
              "    <tr>\n",
              "      <th>hardness</th>\n",
              "      <td>1.000000</td>\n",
              "      <td>-0.631665</td>\n",
              "    </tr>\n",
              "    <tr>\n",
              "      <th>mortality</th>\n",
              "      <td>-0.631665</td>\n",
              "      <td>1.000000</td>\n",
              "    </tr>\n",
              "  </tbody>\n",
              "</table>\n",
              "</div>\n",
              "      <button class=\"colab-df-convert\" onclick=\"convertToInteractive('df-334680e1-c1b2-4d04-aeaa-3d5614a3a543')\"\n",
              "              title=\"Convert this dataframe to an interactive table.\"\n",
              "              style=\"display:none;\">\n",
              "        \n",
              "  <svg xmlns=\"http://www.w3.org/2000/svg\" height=\"24px\"viewBox=\"0 0 24 24\"\n",
              "       width=\"24px\">\n",
              "    <path d=\"M0 0h24v24H0V0z\" fill=\"none\"/>\n",
              "    <path d=\"M18.56 5.44l.94 2.06.94-2.06 2.06-.94-2.06-.94-.94-2.06-.94 2.06-2.06.94zm-11 1L8.5 8.5l.94-2.06 2.06-.94-2.06-.94L8.5 2.5l-.94 2.06-2.06.94zm10 10l.94 2.06.94-2.06 2.06-.94-2.06-.94-.94-2.06-.94 2.06-2.06.94z\"/><path d=\"M17.41 7.96l-1.37-1.37c-.4-.4-.92-.59-1.43-.59-.52 0-1.04.2-1.43.59L10.3 9.45l-7.72 7.72c-.78.78-.78 2.05 0 2.83L4 21.41c.39.39.9.59 1.41.59.51 0 1.02-.2 1.41-.59l7.78-7.78 2.81-2.81c.8-.78.8-2.07 0-2.86zM5.41 20L4 18.59l7.72-7.72 1.47 1.35L5.41 20z\"/>\n",
              "  </svg>\n",
              "      </button>\n",
              "      \n",
              "  <style>\n",
              "    .colab-df-container {\n",
              "      display:flex;\n",
              "      flex-wrap:wrap;\n",
              "      gap: 12px;\n",
              "    }\n",
              "\n",
              "    .colab-df-convert {\n",
              "      background-color: #E8F0FE;\n",
              "      border: none;\n",
              "      border-radius: 50%;\n",
              "      cursor: pointer;\n",
              "      display: none;\n",
              "      fill: #1967D2;\n",
              "      height: 32px;\n",
              "      padding: 0 0 0 0;\n",
              "      width: 32px;\n",
              "    }\n",
              "\n",
              "    .colab-df-convert:hover {\n",
              "      background-color: #E2EBFA;\n",
              "      box-shadow: 0px 1px 2px rgba(60, 64, 67, 0.3), 0px 1px 3px 1px rgba(60, 64, 67, 0.15);\n",
              "      fill: #174EA6;\n",
              "    }\n",
              "\n",
              "    [theme=dark] .colab-df-convert {\n",
              "      background-color: #3B4455;\n",
              "      fill: #D2E3FC;\n",
              "    }\n",
              "\n",
              "    [theme=dark] .colab-df-convert:hover {\n",
              "      background-color: #434B5C;\n",
              "      box-shadow: 0px 1px 3px 1px rgba(0, 0, 0, 0.15);\n",
              "      filter: drop-shadow(0px 1px 2px rgba(0, 0, 0, 0.3));\n",
              "      fill: #FFFFFF;\n",
              "    }\n",
              "  </style>\n",
              "\n",
              "      <script>\n",
              "        const buttonEl =\n",
              "          document.querySelector('#df-334680e1-c1b2-4d04-aeaa-3d5614a3a543 button.colab-df-convert');\n",
              "        buttonEl.style.display =\n",
              "          google.colab.kernel.accessAllowed ? 'block' : 'none';\n",
              "\n",
              "        async function convertToInteractive(key) {\n",
              "          const element = document.querySelector('#df-334680e1-c1b2-4d04-aeaa-3d5614a3a543');\n",
              "          const dataTable =\n",
              "            await google.colab.kernel.invokeFunction('convertToInteractive',\n",
              "                                                     [key], {});\n",
              "          if (!dataTable) return;\n",
              "\n",
              "          const docLinkHtml = 'Like what you see? Visit the ' +\n",
              "            '<a target=\"_blank\" href=https://colab.research.google.com/notebooks/data_table.ipynb>data table notebook</a>'\n",
              "            + ' to learn more about interactive tables.';\n",
              "          element.innerHTML = '';\n",
              "          dataTable['output_type'] = 'display_data';\n",
              "          await google.colab.output.renderOutput(dataTable, element);\n",
              "          const docLink = document.createElement('div');\n",
              "          docLink.innerHTML = docLinkHtml;\n",
              "          element.appendChild(docLink);\n",
              "        }\n",
              "      </script>\n",
              "    </div>\n",
              "  </div>\n",
              "  "
            ]
          },
          "metadata": {},
          "execution_count": 13
        }
      ]
    },
    {
      "cell_type": "markdown",
      "source": [
        "### Регрессия"
      ],
      "metadata": {
        "id": "oNUGIhZEtHEf"
      }
    },
    {
      "cell_type": "code",
      "source": [
        "x = df_water[['hardness']]\n",
        "y = df_water['mortality']"
      ],
      "metadata": {
        "execution": {
          "iopub.status.busy": "2023-01-28T09:03:08.426843Z",
          "iopub.execute_input": "2023-01-28T09:03:08.427302Z",
          "iopub.status.idle": "2023-01-28T09:03:08.432914Z",
          "shell.execute_reply.started": "2023-01-28T09:03:08.427269Z",
          "shell.execute_reply": "2023-01-28T09:03:08.431974Z"
        },
        "trusted": true,
        "id": "cHMNPLu6tHEi"
      },
      "execution_count": 16,
      "outputs": []
    },
    {
      "cell_type": "code",
      "source": [
        "#разбиваем данные на тестовые и тренировочные\n",
        "x_train, x_test, y_train, y_test = train_test_split(x, y, test_size=0.30)"
      ],
      "metadata": {
        "execution": {
          "iopub.status.busy": "2023-01-28T09:03:11.213455Z",
          "iopub.execute_input": "2023-01-28T09:03:11.213836Z",
          "iopub.status.idle": "2023-01-28T09:03:11.219950Z",
          "shell.execute_reply.started": "2023-01-28T09:03:11.213805Z",
          "shell.execute_reply": "2023-01-28T09:03:11.219015Z"
        },
        "trusted": true,
        "id": "X4JPnc2ltHEj"
      },
      "execution_count": 17,
      "outputs": []
    },
    {
      "cell_type": "code",
      "source": [
        "model = LinearRegression()\n",
        "model.fit(x_train, y_train)  # метод обучается на данных и подбирает оптимальные коэффициенты"
      ],
      "metadata": {
        "execution": {
          "iopub.status.busy": "2023-01-28T09:03:51.241774Z",
          "iopub.execute_input": "2023-01-28T09:03:51.242914Z",
          "iopub.status.idle": "2023-01-28T09:03:51.260906Z",
          "shell.execute_reply.started": "2023-01-28T09:03:51.242870Z",
          "shell.execute_reply": "2023-01-28T09:03:51.259868Z"
        },
        "trusted": true,
        "colab": {
          "base_uri": "https://localhost:8080/"
        },
        "id": "qzrLucCYtHEk",
        "outputId": "8a2b040e-7966-49c2-dc61-1b06929e38f1"
      },
      "execution_count": 18,
      "outputs": [
        {
          "output_type": "execute_result",
          "data": {
            "text/plain": [
              "LinearRegression()"
            ]
          },
          "metadata": {},
          "execution_count": 18
        }
      ]
    },
    {
      "cell_type": "code",
      "source": [
        "model.coef_\n",
        "#предсказанный ответ возрастает до -3.58 при x, увеличенным на единицу"
      ],
      "metadata": {
        "execution": {
          "iopub.status.busy": "2023-01-28T09:04:03.341616Z",
          "iopub.execute_input": "2023-01-28T09:04:03.342141Z",
          "iopub.status.idle": "2023-01-28T09:04:03.350678Z",
          "shell.execute_reply.started": "2023-01-28T09:04:03.342098Z",
          "shell.execute_reply": "2023-01-28T09:04:03.349396Z"
        },
        "trusted": true,
        "colab": {
          "base_uri": "https://localhost:8080/"
        },
        "id": "Jk9lBAAltHEn",
        "outputId": "6e2574d0-3831-4268-8cc7-bed6c7f49220"
      },
      "execution_count": 19,
      "outputs": [
        {
          "output_type": "execute_result",
          "data": {
            "text/plain": [
              "array([-3.58885575])"
            ]
          },
          "metadata": {},
          "execution_count": 19
        }
      ]
    },
    {
      "cell_type": "code",
      "source": [
        "model.intercept_\n",
        "#показывает, что модель предсказывает ответ 1705.26 при x, равном нулю."
      ],
      "metadata": {
        "execution": {
          "iopub.status.busy": "2023-01-28T09:04:13.435028Z",
          "iopub.execute_input": "2023-01-28T09:04:13.435436Z",
          "iopub.status.idle": "2023-01-28T09:04:13.441932Z",
          "shell.execute_reply.started": "2023-01-28T09:04:13.435401Z",
          "shell.execute_reply": "2023-01-28T09:04:13.440920Z"
        },
        "trusted": true,
        "colab": {
          "base_uri": "https://localhost:8080/"
        },
        "id": "U3qu6TIttHEn",
        "outputId": "6a827135-97de-4434-ea50-4eab3c63ca27"
      },
      "execution_count": 20,
      "outputs": [
        {
          "output_type": "execute_result",
          "data": {
            "text/plain": [
              "1705.2691982878137"
            ]
          },
          "metadata": {},
          "execution_count": 20
        }
      ]
    },
    {
      "cell_type": "code",
      "source": [
        "y_pred = model.predict(x_test)\n",
        "y_pred"
      ],
      "metadata": {
        "execution": {
          "iopub.status.busy": "2023-01-28T09:04:30.279176Z",
          "iopub.execute_input": "2023-01-28T09:04:30.279548Z",
          "iopub.status.idle": "2023-01-28T09:04:30.288137Z",
          "shell.execute_reply.started": "2023-01-28T09:04:30.279519Z",
          "shell.execute_reply": "2023-01-28T09:04:30.286914Z"
        },
        "trusted": true,
        "colab": {
          "base_uri": "https://localhost:8080/"
        },
        "id": "Keneeqt9tHEo",
        "outputId": "44949b2b-8d5e-4335-8d5a-4b0a8e741fd1"
      },
      "execution_count": 21,
      "outputs": [
        {
          "output_type": "execute_result",
          "data": {
            "text/plain": [
              "array([1450.46043975, 1655.02521773, 1360.7390459 , 1658.61407349,\n",
              "       1342.79476713, 1608.37009293, 1687.32491952, 1425.33844947,\n",
              "       1687.32491952, 1267.4287963 , 1321.26163261, 1450.46043975,\n",
              "       1655.02521773, 1525.82641059, 1547.35954511, 1450.46043975,\n",
              "       1425.33844947, 1436.10501674, 1651.43636198])"
            ]
          },
          "metadata": {},
          "execution_count": 21
        }
      ]
    },
    {
      "cell_type": "code",
      "source": [
        "y_test"
      ],
      "metadata": {
        "execution": {
          "iopub.status.busy": "2023-01-28T09:04:42.758868Z",
          "iopub.execute_input": "2023-01-28T09:04:42.759239Z",
          "iopub.status.idle": "2023-01-28T09:04:42.765028Z",
          "shell.execute_reply.started": "2023-01-28T09:04:42.759210Z",
          "shell.execute_reply": "2023-01-28T09:04:42.764385Z"
        },
        "trusted": true,
        "colab": {
          "base_uri": "https://localhost:8080/"
        },
        "id": "DfZvS31jtHEp",
        "outputId": "de778fbd-a8bc-4840-e5b5-dd885a9444db"
      },
      "execution_count": 22,
      "outputs": [
        {
          "output_type": "execute_result",
          "data": {
            "text/plain": [
              "50    1713\n",
              "46    1495\n",
              "14    1254\n",
              "51    1557\n",
              "41    1236\n",
              "35    1427\n",
              "38    1486\n",
              "7     1299\n",
              "2     1466\n",
              "58    1486\n",
              "37    1175\n",
              "60    1378\n",
              "32    1581\n",
              "48    1257\n",
              "31    1702\n",
              "53    1709\n",
              "13    1307\n",
              "49    1587\n",
              "28    1772\n",
              "Name: mortality, dtype: int64"
            ]
          },
          "metadata": {},
          "execution_count": 22
        }
      ]
    },
    {
      "cell_type": "code",
      "source": [
        "model.score(x_test, y_test) # метод возвращает значение коэффициента детерминации\n",
        "#приемлемый коэффициент детерминации, т.к больше 0,5"
      ],
      "metadata": {
        "execution": {
          "iopub.status.busy": "2023-01-28T09:05:06.796330Z",
          "iopub.execute_input": "2023-01-28T09:05:06.797069Z",
          "iopub.status.idle": "2023-01-28T09:05:06.806019Z",
          "shell.execute_reply.started": "2023-01-28T09:05:06.797035Z",
          "shell.execute_reply": "2023-01-28T09:05:06.804933Z"
        },
        "trusted": true,
        "colab": {
          "base_uri": "https://localhost:8080/"
        },
        "id": "k8CS1tDztHEq",
        "outputId": "25d01cd5-b435-4a82-e27f-ae749bed9a1e"
      },
      "execution_count": 23,
      "outputs": [
        {
          "output_type": "execute_result",
          "data": {
            "text/plain": [
              "0.05958908901698112"
            ]
          },
          "metadata": {},
          "execution_count": 23
        }
      ]
    },
    {
      "cell_type": "code",
      "source": [
        "plt.scatter(x_test, y_test)\n",
        "plt.plot(x_test, y_pred, c='r')"
      ],
      "metadata": {
        "execution": {
          "iopub.status.busy": "2023-01-28T09:05:21.835160Z",
          "iopub.execute_input": "2023-01-28T09:05:21.835696Z",
          "iopub.status.idle": "2023-01-28T09:05:22.040829Z",
          "shell.execute_reply.started": "2023-01-28T09:05:21.835639Z",
          "shell.execute_reply": "2023-01-28T09:05:22.039863Z"
        },
        "trusted": true,
        "colab": {
          "base_uri": "https://localhost:8080/",
          "height": 286
        },
        "id": "9FqZkxbstHEr",
        "outputId": "df0f33dc-b35d-4907-fd6a-43070f71fd77"
      },
      "execution_count": 24,
      "outputs": [
        {
          "output_type": "execute_result",
          "data": {
            "text/plain": [
              "[<matplotlib.lines.Line2D at 0x7fd2a6d77730>]"
            ]
          },
          "metadata": {},
          "execution_count": 24
        },
        {
          "output_type": "display_data",
          "data": {
            "text/plain": [
              "<Figure size 432x288 with 1 Axes>"
            ],
            "image/png": "[encoded data removed]"
          },
          "metadata": {
            "needs_background": "light"
          }
        }
      ]
    },
    {
      "cell_type": "markdown",
      "source": [
        "Statsmodel"
      ],
      "metadata": {
        "id": "fwAqWKc8tHEs"
      }
    },
    {
      "cell_type": "code",
      "source": [
        "import statsmodels.api as sm\n",
        "from statsmodels.sandbox.regression.predstd import wls_prediction_std"
      ],
      "metadata": {
        "execution": {
          "iopub.status.busy": "2023-01-28T09:06:11.844623Z",
          "iopub.execute_input": "2023-01-28T09:06:11.845066Z",
          "iopub.status.idle": "2023-01-28T09:06:12.938956Z",
          "shell.execute_reply.started": "2023-01-28T09:06:11.845032Z",
          "shell.execute_reply": "2023-01-28T09:06:12.937837Z"
        },
        "trusted": true,
        "id": "Uu4YWZeotHEu"
      },
      "execution_count": 25,
      "outputs": []
    },
    {
      "cell_type": "code",
      "source": [
        "x_train, x_test, y_train, y_test = train_test_split(x, y, test_size=0.30)"
      ],
      "metadata": {
        "execution": {
          "iopub.status.busy": "2023-01-28T09:06:46.762791Z",
          "iopub.execute_input": "2023-01-28T09:06:46.763216Z",
          "iopub.status.idle": "2023-01-28T09:06:46.770478Z",
          "shell.execute_reply.started": "2023-01-28T09:06:46.763180Z",
          "shell.execute_reply": "2023-01-28T09:06:46.769430Z"
        },
        "trusted": true,
        "id": "gH39rN-htHEv"
      },
      "execution_count": 26,
      "outputs": []
    },
    {
      "cell_type": "code",
      "source": [
        "x_const = sm.add_constant(x_train) # добавить константу"
      ],
      "metadata": {
        "execution": {
          "iopub.status.busy": "2023-01-28T09:07:20.685780Z",
          "iopub.execute_input": "2023-01-28T09:07:20.686356Z",
          "iopub.status.idle": "2023-01-28T09:07:20.694886Z",
          "shell.execute_reply.started": "2023-01-28T09:07:20.686322Z",
          "shell.execute_reply": "2023-01-28T09:07:20.693718Z"
        },
        "trusted": true,
        "colab": {
          "base_uri": "https://localhost:8080/"
        },
        "id": "KWg5JSoHtHEw",
        "outputId": "29c8de05-8648-4b5e-9ddb-754a8361f834"
      },
      "execution_count": 27,
      "outputs": [
        {
          "output_type": "stream",
          "name": "stderr",
          "text": [
            "/usr/local/lib/python3.8/dist-packages/statsmodels/tsa/tsatools.py:142: FutureWarning: In a future version of pandas all arguments of concat except for the argument 'objs' will be keyword-only\n",
            "  x = pd.concat(x[::order], 1)\n"
          ]
        }
      ]
    },
    {
      "cell_type": "code",
      "source": [
        "model = sm.OLS(y_train, x_const)\n",
        "results = model.fit()\n",
        "print(results.summary())"
      ],
      "metadata": {
        "execution": {
          "iopub.status.busy": "2023-01-28T09:07:52.405013Z",
          "iopub.execute_input": "2023-01-28T09:07:52.405459Z",
          "iopub.status.idle": "2023-01-28T09:07:52.422176Z",
          "shell.execute_reply.started": "2023-01-28T09:07:52.405423Z",
          "shell.execute_reply": "2023-01-28T09:07:52.421037Z"
        },
        "trusted": true,
        "colab": {
          "base_uri": "https://localhost:8080/"
        },
        "id": "MCO17yWLtHEy",
        "outputId": "9682a874-926f-4fd0-8fe7-a83a57cd785a"
      },
      "execution_count": 29,
      "outputs": [
        {
          "output_type": "stream",
          "name": "stdout",
          "text": [
            "                            OLS Regression Results                            \n",
            "==============================================================================\n",
            "Dep. Variable:              mortality   R-squared:                       0.405\n",
            "Model:                            OLS   Adj. R-squared:                  0.390\n",
            "Method:                 Least Squares   F-statistic:                     27.23\n",
            "Date:                Sat, 28 Jan 2023   Prob (F-statistic):           5.89e-06\n",
            "Time:                        09:30:02   Log-Likelihood:                -269.13\n",
            "No. Observations:                  42   AIC:                             542.3\n",
            "Df Residuals:                      40   BIC:                             545.7\n",
            "Df Model:                           1                                         \n",
            "Covariance Type:            nonrobust                                         \n",
            "==============================================================================\n",
            "                 coef    std err          t      P>|t|      [0.025      0.975]\n",
            "------------------------------------------------------------------------------\n",
            "const       1654.7388     37.151     44.541      0.000    1579.654    1729.824\n",
            "hardness      -3.1106      0.596     -5.218      0.000      -4.315      -1.906\n",
            "==============================================================================\n",
            "Omnibus:                        1.275   Durbin-Watson:                   2.355\n",
            "Prob(Omnibus):                  0.529   Jarque-Bera (JB):                1.088\n",
            "Skew:                           0.383   Prob(JB):                        0.580\n",
            "Kurtosis:                       2.809   Cond. No.                         99.8\n",
            "==============================================================================\n",
            "\n",
            "Notes:\n",
            "[1] Standard Errors assume that the covariance matrix of the errors is correctly specified.\n"
          ]
        }
      ]
    },
    {
      "cell_type": "code",
      "source": [
        "print('Parameters: ', results.params)\n",
        "print('R2: ', results.rsquared)"
      ],
      "metadata": {
        "execution": {
          "iopub.status.busy": "2023-01-28T09:08:10.668695Z",
          "iopub.execute_input": "2023-01-28T09:08:10.669099Z",
          "iopub.status.idle": "2023-01-28T09:08:10.676110Z",
          "shell.execute_reply.started": "2023-01-28T09:08:10.669065Z",
          "shell.execute_reply": "2023-01-28T09:08:10.675308Z"
        },
        "trusted": true,
        "colab": {
          "base_uri": "https://localhost:8080/"
        },
        "id": "jhLjCi0AtHEz",
        "outputId": "3d27926f-2638-4492-c389-dd8329cbfaa6"
      },
      "execution_count": 30,
      "outputs": [
        {
          "output_type": "stream",
          "name": "stdout",
          "text": [
            "Parameters:  const       1654.738786\n",
            "hardness      -3.110582\n",
            "dtype: float64\n",
            "R2:  0.40502812226688023\n"
          ]
        }
      ]
    },
    {
      "cell_type": "code",
      "source": [
        "prstd, iv_l, iv_u = wls_prediction_std(results) \n",
        "# для каждой точки получаем не просто сам прогноз, но и доверительный интервал\n",
        "# с увеличением количества факторов, этот интервал будет уменьшаться\n",
        "fig, ax = plt.subplots(figsize=(8,6))\n",
        "\n",
        "ax.plot(x_const.iloc[:, 1], y_train, 'o', label=\"data\")\n",
        "ax.plot(x_const.iloc[:, 1], results.fittedvalues, 'r--.', label=\"OLS\")\n",
        "ax.plot(x_const.iloc[:, 1], iv_u, 'g--')\n",
        "ax.plot(x_const.iloc[:, 1], iv_l, 'g--')\n",
        "ax.legend(loc='best')"
      ],
      "metadata": {
        "execution": {
          "iopub.status.busy": "2023-01-28T09:08:37.459591Z",
          "iopub.execute_input": "2023-01-28T09:08:37.459985Z",
          "iopub.status.idle": "2023-01-28T09:08:37.696476Z",
          "shell.execute_reply.started": "2023-01-28T09:08:37.459940Z",
          "shell.execute_reply": "2023-01-28T09:08:37.695388Z"
        },
        "trusted": true,
        "colab": {
          "base_uri": "https://localhost:8080/",
          "height": 391
        },
        "id": "xQMimwbytHEz",
        "outputId": "786dccd9-32d9-47c7-dff0-3641b54972ae"
      },
      "execution_count": 31,
      "outputs": [
        {
          "output_type": "execute_result",
          "data": {
            "text/plain": [
              "<matplotlib.legend.Legend at 0x7fd29dfd5d60>"
            ]
          },
          "metadata": {},
          "execution_count": 31
        },
        {
          "output_type": "display_data",
          "data": {
            "text/plain": [
              "<Figure size 576x432 with 1 Axes>"
            ],
            "image/png": "[encoded data removed]"
          },
          "metadata": {
            "needs_background": "light"
          }
        }
      ]
    },
    {
      "cell_type": "code",
      "source": [
        "# посмотрим на остатки\n",
        "plt.scatter(x=x_const.iloc[:, 1], y=results.resid)\n",
        "plt.xlabel('Прогноз')\n",
        "plt.ylabel('Остатки')"
      ],
      "metadata": {
        "execution": {
          "iopub.status.busy": "2023-01-28T09:08:56.378125Z",
          "iopub.execute_input": "2023-01-28T09:08:56.378502Z",
          "iopub.status.idle": "2023-01-28T09:08:56.582709Z",
          "shell.execute_reply.started": "2023-01-28T09:08:56.378472Z",
          "shell.execute_reply": "2023-01-28T09:08:56.581638Z"
        },
        "trusted": true,
        "colab": {
          "base_uri": "https://localhost:8080/",
          "height": 296
        },
        "id": "ncTInUXItHE1",
        "outputId": "b5fa5630-d951-48ba-8023-74ae0b373f6a"
      },
      "execution_count": 32,
      "outputs": [
        {
          "output_type": "execute_result",
          "data": {
            "text/plain": [
              "Text(0, 0.5, 'Остатки')"
            ]
          },
          "metadata": {},
          "execution_count": 32
        },
        {
          "output_type": "display_data",
          "data": {
            "text/plain": [
              "<Figure size 432x288 with 1 Axes>"
            ],
            "image/png": "[encoded data removed]"
          },
          "metadata": {
            "needs_background": "light"
          }
        }
      ]
    },
    {
      "cell_type": "markdown",
      "source": [
        "## Анализ данных по северным и южным городам"
      ],
      "metadata": {
        "id": "_YPGIPjytHE2"
      }
    },
    {
      "cell_type": "code",
      "source": [
        "df_water_north = df_water[df_water['location'] == 'North'] # северные города\n",
        "df_water_south = df_water[df_water['location'] == 'South'] #южные города"
      ],
      "metadata": {
        "execution": {
          "iopub.status.busy": "2023-01-28T09:12:24.684910Z",
          "iopub.execute_input": "2023-01-28T09:12:24.685383Z",
          "iopub.status.idle": "2023-01-28T09:12:24.692354Z",
          "shell.execute_reply.started": "2023-01-28T09:12:24.685346Z",
          "shell.execute_reply": "2023-01-28T09:12:24.691042Z"
        },
        "trusted": true,
        "id": "e-CcKnzutHE4"
      },
      "execution_count": 34,
      "outputs": []
    },
    {
      "cell_type": "code",
      "source": [
        "df_water_north.describe()"
      ],
      "metadata": {
        "execution": {
          "iopub.status.busy": "2023-01-28T09:12:46.414905Z",
          "iopub.execute_input": "2023-01-28T09:12:46.415285Z",
          "iopub.status.idle": "2023-01-28T09:12:46.432214Z",
          "shell.execute_reply.started": "2023-01-28T09:12:46.415244Z",
          "shell.execute_reply": "2023-01-28T09:12:46.431570Z"
        },
        "trusted": true,
        "colab": {
          "base_uri": "https://localhost:8080/",
          "height": 300
        },
        "id": "jvs1_DpvtHE5",
        "outputId": "43f9dea0-81f9-4dfd-ad0e-2337fdec40ee"
      },
      "execution_count": 35,
      "outputs": [
        {
          "output_type": "execute_result",
          "data": {
            "text/plain": [
              "         mortality   hardness\n",
              "count    35.000000  35.000000\n",
              "mean   1633.600000  30.400000\n",
              "std     136.936911  26.134494\n",
              "min    1378.000000   6.000000\n",
              "25%    1557.500000  12.500000\n",
              "50%    1637.000000  17.000000\n",
              "75%    1718.000000  44.000000\n",
              "max    1987.000000  94.000000"
            ],
            "text/html": [
              "\n",
              "  <div id=\"df-8321c6e6-5c6d-4b3d-be3e-07f4d027a07b\">\n",
              "    <div class=\"colab-df-container\">\n",
              "      <div>\n",
              "<style scoped>\n",
              "    .dataframe tbody tr th:only-of-type {\n",
              "        vertical-align: middle;\n",
              "    }\n",
              "\n",
              "    .dataframe tbody tr th {\n",
              "        vertical-align: top;\n",
              "    }\n",
              "\n",
              "    .dataframe thead th {\n",
              "        text-align: right;\n",
              "    }\n",
              "</style>\n",
              "<table border=\"1\" class=\"dataframe\">\n",
              "  <thead>\n",
              "    <tr style=\"text-align: right;\">\n",
              "      <th></th>\n",
              "      <th>mortality</th>\n",
              "      <th>hardness</th>\n",
              "    </tr>\n",
              "  </thead>\n",
              "  <tbody>\n",
              "    <tr>\n",
              "      <th>count</th>\n",
              "      <td>35.000000</td>\n",
              "      <td>35.000000</td>\n",
              "    </tr>\n",
              "    <tr>\n",
              "      <th>mean</th>\n",
              "      <td>1633.600000</td>\n",
              "      <td>30.400000</td>\n",
              "    </tr>\n",
              "    <tr>\n",
              "      <th>std</th>\n",
              "      <td>136.936911</td>\n",
              "      <td>26.134494</td>\n",
              "    </tr>\n",
              "    <tr>\n",
              "      <th>min</th>\n",
              "      <td>1378.000000</td>\n",
              "      <td>6.000000</td>\n",
              "    </tr>\n",
              "    <tr>\n",
              "      <th>25%</th>\n",
              "      <td>1557.500000</td>\n",
              "      <td>12.500000</td>\n",
              "    </tr>\n",
              "    <tr>\n",
              "      <th>50%</th>\n",
              "      <td>1637.000000</td>\n",
              "      <td>17.000000</td>\n",
              "    </tr>\n",
              "    <tr>\n",
              "      <th>75%</th>\n",
              "      <td>1718.000000</td>\n",
              "      <td>44.000000</td>\n",
              "    </tr>\n",
              "    <tr>\n",
              "      <th>max</th>\n",
              "      <td>1987.000000</td>\n",
              "      <td>94.000000</td>\n",
              "    </tr>\n",
              "  </tbody>\n",
              "</table>\n",
              "</div>\n",
              "      <button class=\"colab-df-convert\" onclick=\"convertToInteractive('df-8321c6e6-5c6d-4b3d-be3e-07f4d027a07b')\"\n",
              "              title=\"Convert this dataframe to an interactive table.\"\n",
              "              style=\"display:none;\">\n",
              "        \n",
              "  <svg xmlns=\"http://www.w3.org/2000/svg\" height=\"24px\"viewBox=\"0 0 24 24\"\n",
              "       width=\"24px\">\n",
              "    <path d=\"M0 0h24v24H0V0z\" fill=\"none\"/>\n",
              "    <path d=\"M18.56 5.44l.94 2.06.94-2.06 2.06-.94-2.06-.94-.94-2.06-.94 2.06-2.06.94zm-11 1L8.5 8.5l.94-2.06 2.06-.94-2.06-.94L8.5 2.5l-.94 2.06-2.06.94zm10 10l.94 2.06.94-2.06 2.06-.94-2.06-.94-.94-2.06-.94 2.06-2.06.94z\"/><path d=\"M17.41 7.96l-1.37-1.37c-.4-.4-.92-.59-1.43-.59-.52 0-1.04.2-1.43.59L10.3 9.45l-7.72 7.72c-.78.78-.78 2.05 0 2.83L4 21.41c.39.39.9.59 1.41.59.51 0 1.02-.2 1.41-.59l7.78-7.78 2.81-2.81c.8-.78.8-2.07 0-2.86zM5.41 20L4 18.59l7.72-7.72 1.47 1.35L5.41 20z\"/>\n",
              "  </svg>\n",
              "      </button>\n",
              "      \n",
              "  <style>\n",
              "    .colab-df-container {\n",
              "      display:flex;\n",
              "      flex-wrap:wrap;\n",
              "      gap: 12px;\n",
              "    }\n",
              "\n",
              "    .colab-df-convert {\n",
              "      background-color: #E8F0FE;\n",
              "      border: none;\n",
              "      border-radius: 50%;\n",
              "      cursor: pointer;\n",
              "      display: none;\n",
              "      fill: #1967D2;\n",
              "      height: 32px;\n",
              "      padding: 0 0 0 0;\n",
              "      width: 32px;\n",
              "    }\n",
              "\n",
              "    .colab-df-convert:hover {\n",
              "      background-color: #E2EBFA;\n",
              "      box-shadow: 0px 1px 2px rgba(60, 64, 67, 0.3), 0px 1px 3px 1px rgba(60, 64, 67, 0.15);\n",
              "      fill: #174EA6;\n",
              "    }\n",
              "\n",
              "    [theme=dark] .colab-df-convert {\n",
              "      background-color: #3B4455;\n",
              "      fill: #D2E3FC;\n",
              "    }\n",
              "\n",
              "    [theme=dark] .colab-df-convert:hover {\n",
              "      background-color: #434B5C;\n",
              "      box-shadow: 0px 1px 3px 1px rgba(0, 0, 0, 0.15);\n",
              "      filter: drop-shadow(0px 1px 2px rgba(0, 0, 0, 0.3));\n",
              "      fill: #FFFFFF;\n",
              "    }\n",
              "  </style>\n",
              "\n",
              "      <script>\n",
              "        const buttonEl =\n",
              "          document.querySelector('#df-8321c6e6-5c6d-4b3d-be3e-07f4d027a07b button.colab-df-convert');\n",
              "        buttonEl.style.display =\n",
              "          google.colab.kernel.accessAllowed ? 'block' : 'none';\n",
              "\n",
              "        async function convertToInteractive(key) {\n",
              "          const element = document.querySelector('#df-8321c6e6-5c6d-4b3d-be3e-07f4d027a07b');\n",
              "          const dataTable =\n",
              "            await google.colab.kernel.invokeFunction('convertToInteractive',\n",
              "                                                     [key], {});\n",
              "          if (!dataTable) return;\n",
              "\n",
              "          const docLinkHtml = 'Like what you see? Visit the ' +\n",
              "            '<a target=\"_blank\" href=https://colab.research.google.com/notebooks/data_table.ipynb>data table notebook</a>'\n",
              "            + ' to learn more about interactive tables.';\n",
              "          element.innerHTML = '';\n",
              "          dataTable['output_type'] = 'display_data';\n",
              "          await google.colab.output.renderOutput(dataTable, element);\n",
              "          const docLink = document.createElement('div');\n",
              "          docLink.innerHTML = docLinkHtml;\n",
              "          element.appendChild(docLink);\n",
              "        }\n",
              "      </script>\n",
              "    </div>\n",
              "  </div>\n",
              "  "
            ]
          },
          "metadata": {},
          "execution_count": 35
        }
      ]
    },
    {
      "cell_type": "code",
      "source": [
        "df_water_south.describe()"
      ],
      "metadata": {
        "execution": {
          "iopub.status.busy": "2023-01-28T09:12:56.857766Z",
          "iopub.execute_input": "2023-01-28T09:12:56.858353Z",
          "iopub.status.idle": "2023-01-28T09:12:56.875464Z",
          "shell.execute_reply.started": "2023-01-28T09:12:56.858309Z",
          "shell.execute_reply": "2023-01-28T09:12:56.874694Z"
        },
        "trusted": true,
        "colab": {
          "base_uri": "https://localhost:8080/",
          "height": 300
        },
        "id": "qDgo0_pHtHE6",
        "outputId": "d3ebdcf4-0b71-4914-a911-02d0fca4c263"
      },
      "execution_count": 36,
      "outputs": [
        {
          "output_type": "execute_result",
          "data": {
            "text/plain": [
              "         mortality    hardness\n",
              "count    26.000000   26.000000\n",
              "mean   1376.807692   69.769231\n",
              "std     140.269175   40.360682\n",
              "min    1096.000000    5.000000\n",
              "25%    1259.250000   40.250000\n",
              "50%    1364.000000   75.500000\n",
              "75%    1485.750000   99.750000\n",
              "max    1627.000000  138.000000"
            ],
            "text/html": [
              "\n",
              "  <div id=\"df-dc86adb3-45a8-4630-ba80-7f1d74bf1235\">\n",
              "    <div class=\"colab-df-container\">\n",
              "      <div>\n",
              "<style scoped>\n",
              "    .dataframe tbody tr th:only-of-type {\n",
              "        vertical-align: middle;\n",
              "    }\n",
              "\n",
              "    .dataframe tbody tr th {\n",
              "        vertical-align: top;\n",
              "    }\n",
              "\n",
              "    .dataframe thead th {\n",
              "        text-align: right;\n",
              "    }\n",
              "</style>\n",
              "<table border=\"1\" class=\"dataframe\">\n",
              "  <thead>\n",
              "    <tr style=\"text-align: right;\">\n",
              "      <th></th>\n",
              "      <th>mortality</th>\n",
              "      <th>hardness</th>\n",
              "    </tr>\n",
              "  </thead>\n",
              "  <tbody>\n",
              "    <tr>\n",
              "      <th>count</th>\n",
              "      <td>26.000000</td>\n",
              "      <td>26.000000</td>\n",
              "    </tr>\n",
              "    <tr>\n",
              "      <th>mean</th>\n",
              "      <td>1376.807692</td>\n",
              "      <td>69.769231</td>\n",
              "    </tr>\n",
              "    <tr>\n",
              "      <th>std</th>\n",
              "      <td>140.269175</td>\n",
              "      <td>40.360682</td>\n",
              "    </tr>\n",
              "    <tr>\n",
              "      <th>min</th>\n",
              "      <td>1096.000000</td>\n",
              "      <td>5.000000</td>\n",
              "    </tr>\n",
              "    <tr>\n",
              "      <th>25%</th>\n",
              "      <td>1259.250000</td>\n",
              "      <td>40.250000</td>\n",
              "    </tr>\n",
              "    <tr>\n",
              "      <th>50%</th>\n",
              "      <td>1364.000000</td>\n",
              "      <td>75.500000</td>\n",
              "    </tr>\n",
              "    <tr>\n",
              "      <th>75%</th>\n",
              "      <td>1485.750000</td>\n",
              "      <td>99.750000</td>\n",
              "    </tr>\n",
              "    <tr>\n",
              "      <th>max</th>\n",
              "      <td>1627.000000</td>\n",
              "      <td>138.000000</td>\n",
              "    </tr>\n",
              "  </tbody>\n",
              "</table>\n",
              "</div>\n",
              "      <button class=\"colab-df-convert\" onclick=\"convertToInteractive('df-dc86adb3-45a8-4630-ba80-7f1d74bf1235')\"\n",
              "              title=\"Convert this dataframe to an interactive table.\"\n",
              "              style=\"display:none;\">\n",
              "        \n",
              "  <svg xmlns=\"http://www.w3.org/2000/svg\" height=\"24px\"viewBox=\"0 0 24 24\"\n",
              "       width=\"24px\">\n",
              "    <path d=\"M0 0h24v24H0V0z\" fill=\"none\"/>\n",
              "    <path d=\"M18.56 5.44l.94 2.06.94-2.06 2.06-.94-2.06-.94-.94-2.06-.94 2.06-2.06.94zm-11 1L8.5 8.5l.94-2.06 2.06-.94-2.06-.94L8.5 2.5l-.94 2.06-2.06.94zm10 10l.94 2.06.94-2.06 2.06-.94-2.06-.94-.94-2.06-.94 2.06-2.06.94z\"/><path d=\"M17.41 7.96l-1.37-1.37c-.4-.4-.92-.59-1.43-.59-.52 0-1.04.2-1.43.59L10.3 9.45l-7.72 7.72c-.78.78-.78 2.05 0 2.83L4 21.41c.39.39.9.59 1.41.59.51 0 1.02-.2 1.41-.59l7.78-7.78 2.81-2.81c.8-.78.8-2.07 0-2.86zM5.41 20L4 18.59l7.72-7.72 1.47 1.35L5.41 20z\"/>\n",
              "  </svg>\n",
              "      </button>\n",
              "      \n",
              "  <style>\n",
              "    .colab-df-container {\n",
              "      display:flex;\n",
              "      flex-wrap:wrap;\n",
              "      gap: 12px;\n",
              "    }\n",
              "\n",
              "    .colab-df-convert {\n",
              "      background-color: #E8F0FE;\n",
              "      border: none;\n",
              "      border-radius: 50%;\n",
              "      cursor: pointer;\n",
              "      display: none;\n",
              "      fill: #1967D2;\n",
              "      height: 32px;\n",
              "      padding: 0 0 0 0;\n",
              "      width: 32px;\n",
              "    }\n",
              "\n",
              "    .colab-df-convert:hover {\n",
              "      background-color: #E2EBFA;\n",
              "      box-shadow: 0px 1px 2px rgba(60, 64, 67, 0.3), 0px 1px 3px 1px rgba(60, 64, 67, 0.15);\n",
              "      fill: #174EA6;\n",
              "    }\n",
              "\n",
              "    [theme=dark] .colab-df-convert {\n",
              "      background-color: #3B4455;\n",
              "      fill: #D2E3FC;\n",
              "    }\n",
              "\n",
              "    [theme=dark] .colab-df-convert:hover {\n",
              "      background-color: #434B5C;\n",
              "      box-shadow: 0px 1px 3px 1px rgba(0, 0, 0, 0.15);\n",
              "      filter: drop-shadow(0px 1px 2px rgba(0, 0, 0, 0.3));\n",
              "      fill: #FFFFFF;\n",
              "    }\n",
              "  </style>\n",
              "\n",
              "      <script>\n",
              "        const buttonEl =\n",
              "          document.querySelector('#df-dc86adb3-45a8-4630-ba80-7f1d74bf1235 button.colab-df-convert');\n",
              "        buttonEl.style.display =\n",
              "          google.colab.kernel.accessAllowed ? 'block' : 'none';\n",
              "\n",
              "        async function convertToInteractive(key) {\n",
              "          const element = document.querySelector('#df-dc86adb3-45a8-4630-ba80-7f1d74bf1235');\n",
              "          const dataTable =\n",
              "            await google.colab.kernel.invokeFunction('convertToInteractive',\n",
              "                                                     [key], {});\n",
              "          if (!dataTable) return;\n",
              "\n",
              "          const docLinkHtml = 'Like what you see? Visit the ' +\n",
              "            '<a target=\"_blank\" href=https://colab.research.google.com/notebooks/data_table.ipynb>data table notebook</a>'\n",
              "            + ' to learn more about interactive tables.';\n",
              "          element.innerHTML = '';\n",
              "          dataTable['output_type'] = 'display_data';\n",
              "          await google.colab.output.renderOutput(dataTable, element);\n",
              "          const docLink = document.createElement('div');\n",
              "          docLink.innerHTML = docLinkHtml;\n",
              "          element.appendChild(docLink);\n",
              "        }\n",
              "      </script>\n",
              "    </div>\n",
              "  </div>\n",
              "  "
            ]
          },
          "metadata": {},
          "execution_count": 36
        }
      ]
    },
    {
      "cell_type": "markdown",
      "source": [
        "#### Северные города"
      ],
      "metadata": {
        "id": "XKtKZKNwtHE7"
      }
    },
    {
      "cell_type": "code",
      "source": [
        "sns.pairplot(df_water_north, kind='reg')"
      ],
      "metadata": {
        "execution": {
          "iopub.status.busy": "2023-01-28T09:14:28.811997Z",
          "iopub.execute_input": "2023-01-28T09:14:28.813028Z",
          "iopub.status.idle": "2023-01-28T09:14:29.827627Z",
          "shell.execute_reply.started": "2023-01-28T09:14:28.812992Z",
          "shell.execute_reply": "2023-01-28T09:14:29.826491Z"
        },
        "trusted": true,
        "colab": {
          "base_uri": "https://localhost:8080/",
          "height": 391
        },
        "id": "bF_sBXZKtHE7",
        "outputId": "20e52ed2-fec6-4e22-ef97-0b6d500faf17"
      },
      "execution_count": 37,
      "outputs": [
        {
          "output_type": "execute_result",
          "data": {
            "text/plain": [
              "<seaborn.axisgrid.PairGrid at 0x7fd29de2a0d0>"
            ]
          },
          "metadata": {},
          "execution_count": 37
        },
        {
          "output_type": "display_data",
          "data": {
            "text/plain": [
              "<Figure size 360x360 with 6 Axes>"
            ],
            "image/png": "[encoded data removed]"
          },
          "metadata": {
            "needs_background": "light"
          }
        }
      ]
    },
    {
      "cell_type": "code",
      "source": [
        "# считаем коэф. корреляции Пирсона\n",
        "df_water_north[['hardness', 'mortality']].corr()"
      ],
      "metadata": {
        "execution": {
          "iopub.status.busy": "2023-01-28T09:15:08.350282Z",
          "iopub.execute_input": "2023-01-28T09:15:08.350656Z",
          "iopub.status.idle": "2023-01-28T09:15:08.362006Z",
          "shell.execute_reply.started": "2023-01-28T09:15:08.350626Z",
          "shell.execute_reply": "2023-01-28T09:15:08.360868Z"
        },
        "trusted": true,
        "colab": {
          "base_uri": "https://localhost:8080/",
          "height": 112
        },
        "id": "VE8nVdy2tHE8",
        "outputId": "6d06000f-f857-41c5-f58c-b50f9afb4fb6"
      },
      "execution_count": 38,
      "outputs": [
        {
          "output_type": "execute_result",
          "data": {
            "text/plain": [
              "           hardness  mortality\n",
              "hardness   1.000000  -0.368598\n",
              "mortality -0.368598   1.000000"
            ],
            "text/html": [
              "\n",
              "  <div id=\"df-2de423cc-f3d0-4431-a70e-8f46fadf2ef1\">\n",
              "    <div class=\"colab-df-container\">\n",
              "      <div>\n",
              "<style scoped>\n",
              "    .dataframe tbody tr th:only-of-type {\n",
              "        vertical-align: middle;\n",
              "    }\n",
              "\n",
              "    .dataframe tbody tr th {\n",
              "        vertical-align: top;\n",
              "    }\n",
              "\n",
              "    .dataframe thead th {\n",
              "        text-align: right;\n",
              "    }\n",
              "</style>\n",
              "<table border=\"1\" class=\"dataframe\">\n",
              "  <thead>\n",
              "    <tr style=\"text-align: right;\">\n",
              "      <th></th>\n",
              "      <th>hardness</th>\n",
              "      <th>mortality</th>\n",
              "    </tr>\n",
              "  </thead>\n",
              "  <tbody>\n",
              "    <tr>\n",
              "      <th>hardness</th>\n",
              "      <td>1.000000</td>\n",
              "      <td>-0.368598</td>\n",
              "    </tr>\n",
              "    <tr>\n",
              "      <th>mortality</th>\n",
              "      <td>-0.368598</td>\n",
              "      <td>1.000000</td>\n",
              "    </tr>\n",
              "  </tbody>\n",
              "</table>\n",
              "</div>\n",
              "      <button class=\"colab-df-convert\" onclick=\"convertToInteractive('df-2de423cc-f3d0-4431-a70e-8f46fadf2ef1')\"\n",
              "              title=\"Convert this dataframe to an interactive table.\"\n",
              "              style=\"display:none;\">\n",
              "        \n",
              "  <svg xmlns=\"http://www.w3.org/2000/svg\" height=\"24px\"viewBox=\"0 0 24 24\"\n",
              "       width=\"24px\">\n",
              "    <path d=\"M0 0h24v24H0V0z\" fill=\"none\"/>\n",
              "    <path d=\"M18.56 5.44l.94 2.06.94-2.06 2.06-.94-2.06-.94-.94-2.06-.94 2.06-2.06.94zm-11 1L8.5 8.5l.94-2.06 2.06-.94-2.06-.94L8.5 2.5l-.94 2.06-2.06.94zm10 10l.94 2.06.94-2.06 2.06-.94-2.06-.94-.94-2.06-.94 2.06-2.06.94z\"/><path d=\"M17.41 7.96l-1.37-1.37c-.4-.4-.92-.59-1.43-.59-.52 0-1.04.2-1.43.59L10.3 9.45l-7.72 7.72c-.78.78-.78 2.05 0 2.83L4 21.41c.39.39.9.59 1.41.59.51 0 1.02-.2 1.41-.59l7.78-7.78 2.81-2.81c.8-.78.8-2.07 0-2.86zM5.41 20L4 18.59l7.72-7.72 1.47 1.35L5.41 20z\"/>\n",
              "  </svg>\n",
              "      </button>\n",
              "      \n",
              "  <style>\n",
              "    .colab-df-container {\n",
              "      display:flex;\n",
              "      flex-wrap:wrap;\n",
              "      gap: 12px;\n",
              "    }\n",
              "\n",
              "    .colab-df-convert {\n",
              "      background-color: #E8F0FE;\n",
              "      border: none;\n",
              "      border-radius: 50%;\n",
              "      cursor: pointer;\n",
              "      display: none;\n",
              "      fill: #1967D2;\n",
              "      height: 32px;\n",
              "      padding: 0 0 0 0;\n",
              "      width: 32px;\n",
              "    }\n",
              "\n",
              "    .colab-df-convert:hover {\n",
              "      background-color: #E2EBFA;\n",
              "      box-shadow: 0px 1px 2px rgba(60, 64, 67, 0.3), 0px 1px 3px 1px rgba(60, 64, 67, 0.15);\n",
              "      fill: #174EA6;\n",
              "    }\n",
              "\n",
              "    [theme=dark] .colab-df-convert {\n",
              "      background-color: #3B4455;\n",
              "      fill: #D2E3FC;\n",
              "    }\n",
              "\n",
              "    [theme=dark] .colab-df-convert:hover {\n",
              "      background-color: #434B5C;\n",
              "      box-shadow: 0px 1px 3px 1px rgba(0, 0, 0, 0.15);\n",
              "      filter: drop-shadow(0px 1px 2px rgba(0, 0, 0, 0.3));\n",
              "      fill: #FFFFFF;\n",
              "    }\n",
              "  </style>\n",
              "\n",
              "      <script>\n",
              "        const buttonEl =\n",
              "          document.querySelector('#df-2de423cc-f3d0-4431-a70e-8f46fadf2ef1 button.colab-df-convert');\n",
              "        buttonEl.style.display =\n",
              "          google.colab.kernel.accessAllowed ? 'block' : 'none';\n",
              "\n",
              "        async function convertToInteractive(key) {\n",
              "          const element = document.querySelector('#df-2de423cc-f3d0-4431-a70e-8f46fadf2ef1');\n",
              "          const dataTable =\n",
              "            await google.colab.kernel.invokeFunction('convertToInteractive',\n",
              "                                                     [key], {});\n",
              "          if (!dataTable) return;\n",
              "\n",
              "          const docLinkHtml = 'Like what you see? Visit the ' +\n",
              "            '<a target=\"_blank\" href=https://colab.research.google.com/notebooks/data_table.ipynb>data table notebook</a>'\n",
              "            + ' to learn more about interactive tables.';\n",
              "          element.innerHTML = '';\n",
              "          dataTable['output_type'] = 'display_data';\n",
              "          await google.colab.output.renderOutput(dataTable, element);\n",
              "          const docLink = document.createElement('div');\n",
              "          docLink.innerHTML = docLinkHtml;\n",
              "          element.appendChild(docLink);\n",
              "        }\n",
              "      </script>\n",
              "    </div>\n",
              "  </div>\n",
              "  "
            ]
          },
          "metadata": {},
          "execution_count": 38
        }
      ]
    },
    {
      "cell_type": "code",
      "source": [
        "# считаем коэф. корреляции Спирмана\n",
        "df_water_north[['hardness', 'mortality']].corr(method='spearman')"
      ],
      "metadata": {
        "execution": {
          "iopub.status.busy": "2023-01-28T09:16:01.253457Z",
          "iopub.execute_input": "2023-01-28T09:16:01.253918Z",
          "iopub.status.idle": "2023-01-28T09:16:01.269278Z",
          "shell.execute_reply.started": "2023-01-28T09:16:01.253878Z",
          "shell.execute_reply": "2023-01-28T09:16:01.268128Z"
        },
        "trusted": true,
        "colab": {
          "base_uri": "https://localhost:8080/",
          "height": 112
        },
        "id": "1fxUWD-BtHE8",
        "outputId": "48f7dbb5-246e-4669-ad43-8db6e682153c"
      },
      "execution_count": 39,
      "outputs": [
        {
          "output_type": "execute_result",
          "data": {
            "text/plain": [
              "           hardness  mortality\n",
              "hardness   1.000000  -0.404208\n",
              "mortality -0.404208   1.000000"
            ],
            "text/html": [
              "\n",
              "  <div id=\"df-76bc8e32-8b0c-45c5-81f2-44389e9d82bd\">\n",
              "    <div class=\"colab-df-container\">\n",
              "      <div>\n",
              "<style scoped>\n",
              "    .dataframe tbody tr th:only-of-type {\n",
              "        vertical-align: middle;\n",
              "    }\n",
              "\n",
              "    .dataframe tbody tr th {\n",
              "        vertical-align: top;\n",
              "    }\n",
              "\n",
              "    .dataframe thead th {\n",
              "        text-align: right;\n",
              "    }\n",
              "</style>\n",
              "<table border=\"1\" class=\"dataframe\">\n",
              "  <thead>\n",
              "    <tr style=\"text-align: right;\">\n",
              "      <th></th>\n",
              "      <th>hardness</th>\n",
              "      <th>mortality</th>\n",
              "    </tr>\n",
              "  </thead>\n",
              "  <tbody>\n",
              "    <tr>\n",
              "      <th>hardness</th>\n",
              "      <td>1.000000</td>\n",
              "      <td>-0.404208</td>\n",
              "    </tr>\n",
              "    <tr>\n",
              "      <th>mortality</th>\n",
              "      <td>-0.404208</td>\n",
              "      <td>1.000000</td>\n",
              "    </tr>\n",
              "  </tbody>\n",
              "</table>\n",
              "</div>\n",
              "      <button class=\"colab-df-convert\" onclick=\"convertToInteractive('df-76bc8e32-8b0c-45c5-81f2-44389e9d82bd')\"\n",
              "              title=\"Convert this dataframe to an interactive table.\"\n",
              "              style=\"display:none;\">\n",
              "        \n",
              "  <svg xmlns=\"http://www.w3.org/2000/svg\" height=\"24px\"viewBox=\"0 0 24 24\"\n",
              "       width=\"24px\">\n",
              "    <path d=\"M0 0h24v24H0V0z\" fill=\"none\"/>\n",
              "    <path d=\"M18.56 5.44l.94 2.06.94-2.06 2.06-.94-2.06-.94-.94-2.06-.94 2.06-2.06.94zm-11 1L8.5 8.5l.94-2.06 2.06-.94-2.06-.94L8.5 2.5l-.94 2.06-2.06.94zm10 10l.94 2.06.94-2.06 2.06-.94-2.06-.94-.94-2.06-.94 2.06-2.06.94z\"/><path d=\"M17.41 7.96l-1.37-1.37c-.4-.4-.92-.59-1.43-.59-.52 0-1.04.2-1.43.59L10.3 9.45l-7.72 7.72c-.78.78-.78 2.05 0 2.83L4 21.41c.39.39.9.59 1.41.59.51 0 1.02-.2 1.41-.59l7.78-7.78 2.81-2.81c.8-.78.8-2.07 0-2.86zM5.41 20L4 18.59l7.72-7.72 1.47 1.35L5.41 20z\"/>\n",
              "  </svg>\n",
              "      </button>\n",
              "      \n",
              "  <style>\n",
              "    .colab-df-container {\n",
              "      display:flex;\n",
              "      flex-wrap:wrap;\n",
              "      gap: 12px;\n",
              "    }\n",
              "\n",
              "    .colab-df-convert {\n",
              "      background-color: #E8F0FE;\n",
              "      border: none;\n",
              "      border-radius: 50%;\n",
              "      cursor: pointer;\n",
              "      display: none;\n",
              "      fill: #1967D2;\n",
              "      height: 32px;\n",
              "      padding: 0 0 0 0;\n",
              "      width: 32px;\n",
              "    }\n",
              "\n",
              "    .colab-df-convert:hover {\n",
              "      background-color: #E2EBFA;\n",
              "      box-shadow: 0px 1px 2px rgba(60, 64, 67, 0.3), 0px 1px 3px 1px rgba(60, 64, 67, 0.15);\n",
              "      fill: #174EA6;\n",
              "    }\n",
              "\n",
              "    [theme=dark] .colab-df-convert {\n",
              "      background-color: #3B4455;\n",
              "      fill: #D2E3FC;\n",
              "    }\n",
              "\n",
              "    [theme=dark] .colab-df-convert:hover {\n",
              "      background-color: #434B5C;\n",
              "      box-shadow: 0px 1px 3px 1px rgba(0, 0, 0, 0.15);\n",
              "      filter: drop-shadow(0px 1px 2px rgba(0, 0, 0, 0.3));\n",
              "      fill: #FFFFFF;\n",
              "    }\n",
              "  </style>\n",
              "\n",
              "      <script>\n",
              "        const buttonEl =\n",
              "          document.querySelector('#df-76bc8e32-8b0c-45c5-81f2-44389e9d82bd button.colab-df-convert');\n",
              "        buttonEl.style.display =\n",
              "          google.colab.kernel.accessAllowed ? 'block' : 'none';\n",
              "\n",
              "        async function convertToInteractive(key) {\n",
              "          const element = document.querySelector('#df-76bc8e32-8b0c-45c5-81f2-44389e9d82bd');\n",
              "          const dataTable =\n",
              "            await google.colab.kernel.invokeFunction('convertToInteractive',\n",
              "                                                     [key], {});\n",
              "          if (!dataTable) return;\n",
              "\n",
              "          const docLinkHtml = 'Like what you see? Visit the ' +\n",
              "            '<a target=\"_blank\" href=https://colab.research.google.com/notebooks/data_table.ipynb>data table notebook</a>'\n",
              "            + ' to learn more about interactive tables.';\n",
              "          element.innerHTML = '';\n",
              "          dataTable['output_type'] = 'display_data';\n",
              "          await google.colab.output.renderOutput(dataTable, element);\n",
              "          const docLink = document.createElement('div');\n",
              "          docLink.innerHTML = docLinkHtml;\n",
              "          element.appendChild(docLink);\n",
              "        }\n",
              "      </script>\n",
              "    </div>\n",
              "  </div>\n",
              "  "
            ]
          },
          "metadata": {},
          "execution_count": 39
        }
      ]
    },
    {
      "cell_type": "code",
      "source": [
        "#регрессия\n",
        "x = df_water_north[['hardness']]\n",
        "y = df_water_north['mortality']"
      ],
      "metadata": {
        "execution": {
          "iopub.status.busy": "2023-01-28T09:16:53.293087Z",
          "iopub.execute_input": "2023-01-28T09:16:53.293468Z",
          "iopub.status.idle": "2023-01-28T09:16:53.299095Z",
          "shell.execute_reply.started": "2023-01-28T09:16:53.293439Z",
          "shell.execute_reply": "2023-01-28T09:16:53.298268Z"
        },
        "trusted": true,
        "id": "i4TTMEYltHE9"
      },
      "execution_count": 40,
      "outputs": []
    },
    {
      "cell_type": "code",
      "source": [
        "#разбиваем данные на тестовые и тренировочные\n",
        "x_train, x_test, y_train, y_test = train_test_split(x, y, test_size=0.30)"
      ],
      "metadata": {
        "execution": {
          "iopub.status.busy": "2023-01-28T09:17:23.521220Z",
          "iopub.execute_input": "2023-01-28T09:17:23.521589Z",
          "iopub.status.idle": "2023-01-28T09:17:23.529072Z",
          "shell.execute_reply.started": "2023-01-28T09:17:23.521562Z",
          "shell.execute_reply": "2023-01-28T09:17:23.527658Z"
        },
        "trusted": true,
        "id": "DSgcfm4FtHE-"
      },
      "execution_count": 41,
      "outputs": []
    },
    {
      "cell_type": "code",
      "source": [
        "model = LinearRegression()\n",
        "model.fit(x_train, y_train)  # метод обучается на данных и подбирает оптимальные коэффициенты"
      ],
      "metadata": {
        "execution": {
          "iopub.status.busy": "2023-01-28T09:17:43.799142Z",
          "iopub.execute_input": "2023-01-28T09:17:43.799588Z",
          "iopub.status.idle": "2023-01-28T09:17:43.808834Z",
          "shell.execute_reply.started": "2023-01-28T09:17:43.799552Z",
          "shell.execute_reply": "2023-01-28T09:17:43.807745Z"
        },
        "trusted": true,
        "colab": {
          "base_uri": "https://localhost:8080/"
        },
        "id": "TZjMQggFtHE_",
        "outputId": "e7f3be36-62d1-4ec3-e2cb-4f0ad1c248b8"
      },
      "execution_count": 42,
      "outputs": [
        {
          "output_type": "execute_result",
          "data": {
            "text/plain": [
              "LinearRegression()"
            ]
          },
          "metadata": {},
          "execution_count": 42
        }
      ]
    },
    {
      "cell_type": "code",
      "source": [
        "model.coef_\n",
        "#предсказанный ответ возрастает до -1.59 при x, увеличенным на единицу"
      ],
      "metadata": {
        "execution": {
          "iopub.status.busy": "2023-01-28T09:18:12.735870Z",
          "iopub.execute_input": "2023-01-28T09:18:12.736283Z",
          "iopub.status.idle": "2023-01-28T09:18:12.743806Z",
          "shell.execute_reply.started": "2023-01-28T09:18:12.736249Z",
          "shell.execute_reply": "2023-01-28T09:18:12.742741Z"
        },
        "trusted": true,
        "colab": {
          "base_uri": "https://localhost:8080/"
        },
        "id": "Vp8KKIz7tHFA",
        "outputId": "18c68df2-7544-4d3a-c4f4-6cdb4740f332"
      },
      "execution_count": 43,
      "outputs": [
        {
          "output_type": "execute_result",
          "data": {
            "text/plain": [
              "array([-1.59538123])"
            ]
          },
          "metadata": {},
          "execution_count": 43
        }
      ]
    },
    {
      "cell_type": "code",
      "source": [
        "model.intercept_\n",
        "#показывает, что модель предсказывает ответ 1689.04 при x, равном нулю."
      ],
      "metadata": {
        "execution": {
          "iopub.status.busy": "2023-01-28T09:18:14.858911Z",
          "iopub.execute_input": "2023-01-28T09:18:14.859336Z",
          "iopub.status.idle": "2023-01-28T09:18:14.867093Z",
          "shell.execute_reply.started": "2023-01-28T09:18:14.859301Z",
          "shell.execute_reply": "2023-01-28T09:18:14.865635Z"
        },
        "trusted": true,
        "colab": {
          "base_uri": "https://localhost:8080/"
        },
        "id": "rDu81ofTtHFB",
        "outputId": "d359d317-8b78-4376-f7d7-3515dc9db0af"
      },
      "execution_count": 44,
      "outputs": [
        {
          "output_type": "execute_result",
          "data": {
            "text/plain": [
              "1689.0420758509913"
            ]
          },
          "metadata": {},
          "execution_count": 44
        }
      ]
    },
    {
      "cell_type": "code",
      "source": [
        "y_pred = model.predict(x_test)\n",
        "y_pred"
      ],
      "metadata": {
        "execution": {
          "iopub.status.busy": "2023-01-28T09:18:46.220464Z",
          "iopub.execute_input": "2023-01-28T09:18:46.220845Z",
          "iopub.status.idle": "2023-01-28T09:18:46.232745Z",
          "shell.execute_reply.started": "2023-01-28T09:18:46.220815Z",
          "shell.execute_reply": "2023-01-28T09:18:46.231737Z"
        },
        "trusted": true,
        "colab": {
          "base_uri": "https://localhost:8080/"
        },
        "id": "QHa_AtkttHFC",
        "outputId": "9a30bbfb-34d9-4833-8a88-2864bf77817a"
      },
      "execution_count": 45,
      "outputs": [
        {
          "output_type": "execute_result",
          "data": {
            "text/plain": [
              "array([1666.70673868, 1669.89750113, 1647.56216396, 1665.11135745,\n",
              "       1666.70673868, 1618.84530187, 1626.82220801, 1569.38848385,\n",
              "       1666.70673868, 1679.46978849, 1575.77000875])"
            ]
          },
          "metadata": {},
          "execution_count": 45
        }
      ]
    },
    {
      "cell_type": "code",
      "source": [
        "y_test"
      ],
      "metadata": {
        "execution": {
          "iopub.status.busy": "2023-01-28T09:18:48.436909Z",
          "iopub.execute_input": "2023-01-28T09:18:48.438056Z",
          "iopub.status.idle": "2023-01-28T09:18:48.445750Z",
          "shell.execute_reply.started": "2023-01-28T09:18:48.438008Z",
          "shell.execute_reply": "2023-01-28T09:18:48.444780Z"
        },
        "trusted": true,
        "colab": {
          "base_uri": "https://localhost:8080/"
        },
        "id": "Ab8pYrvqtHFD",
        "outputId": "4e1e3244-0b0f-4b75-ea83-98cc6704fa05"
      },
      "execution_count": 46,
      "outputs": [
        {
          "output_type": "execute_result",
          "data": {
            "text/plain": [
              "43    1444\n",
              "11    1755\n",
              "30    1704\n",
              "28    1772\n",
              "46    1495\n",
              "20    1723\n",
              "17    1428\n",
              "49    1587\n",
              "3     1800\n",
              "36    1724\n",
              "60    1378\n",
              "Name: mortality, dtype: int64"
            ]
          },
          "metadata": {},
          "execution_count": 46
        }
      ]
    },
    {
      "cell_type": "code",
      "source": [
        "model.score(x_test, y_test) # метод возвращает значение коэффициента детерминации\n",
        "#модель не отражает реальное положение вещей, т.к значение сильно меньше 0,5"
      ],
      "metadata": {
        "execution": {
          "iopub.status.busy": "2023-01-28T09:19:12.607744Z",
          "iopub.execute_input": "2023-01-28T09:19:12.608417Z",
          "iopub.status.idle": "2023-01-28T09:19:12.617218Z",
          "shell.execute_reply.started": "2023-01-28T09:19:12.608377Z",
          "shell.execute_reply": "2023-01-28T09:19:12.616124Z"
        },
        "trusted": true,
        "colab": {
          "base_uri": "https://localhost:8080/"
        },
        "id": "Hg2rlv7GtHFE",
        "outputId": "f3e914b0-c766-4b95-c37a-6d530d1dbf95"
      },
      "execution_count": 47,
      "outputs": [
        {
          "output_type": "execute_result",
          "data": {
            "text/plain": [
              "0.1419903604254782"
            ]
          },
          "metadata": {},
          "execution_count": 47
        }
      ]
    },
    {
      "cell_type": "code",
      "source": [
        "plt.scatter(x_test, y_test)\n",
        "plt.plot(x_test, y_pred, c='r')"
      ],
      "metadata": {
        "execution": {
          "iopub.status.busy": "2023-01-28T09:19:31.037741Z",
          "iopub.execute_input": "2023-01-28T09:19:31.038839Z",
          "iopub.status.idle": "2023-01-28T09:19:31.237432Z",
          "shell.execute_reply.started": "2023-01-28T09:19:31.038792Z",
          "shell.execute_reply": "2023-01-28T09:19:31.236320Z"
        },
        "trusted": true,
        "colab": {
          "base_uri": "https://localhost:8080/",
          "height": 282
        },
        "id": "iV0kRaHAtHFF",
        "outputId": "70068e97-587a-4698-d892-70b83b8982c0"
      },
      "execution_count": 48,
      "outputs": [
        {
          "output_type": "execute_result",
          "data": {
            "text/plain": [
              "[<matplotlib.lines.Line2D at 0x7fd29dc435b0>]"
            ]
          },
          "metadata": {},
          "execution_count": 48
        },
        {
          "output_type": "display_data",
          "data": {
            "text/plain": [
              "<Figure size 432x288 with 1 Axes>"
            ],
            "image/png": "[encoded data removed]"
          },
          "metadata": {
            "needs_background": "light"
          }
        }
      ]
    },
    {
      "cell_type": "code",
      "source": [
        "#statsmodel\n",
        "x_const = sm.add_constant(x_train) # добавить константу\n",
        "model = sm.OLS(y_train, x_const)\n",
        "results = model.fit()\n",
        "print(results.summary())"
      ],
      "metadata": {
        "execution": {
          "iopub.status.busy": "2023-01-28T09:20:27.046953Z",
          "iopub.execute_input": "2023-01-28T09:20:27.047405Z",
          "iopub.status.idle": "2023-01-28T09:20:27.063329Z",
          "shell.execute_reply.started": "2023-01-28T09:20:27.047372Z",
          "shell.execute_reply": "2023-01-28T09:20:27.062222Z"
        },
        "trusted": true,
        "colab": {
          "base_uri": "https://localhost:8080/"
        },
        "id": "mBFfkRkntHFG",
        "outputId": "0b202557-3ee3-4b49-cde3-259bb3e69b2d"
      },
      "execution_count": 49,
      "outputs": [
        {
          "output_type": "stream",
          "name": "stdout",
          "text": [
            "                            OLS Regression Results                            \n",
            "==============================================================================\n",
            "Dep. Variable:              mortality   R-squared:                       0.113\n",
            "Model:                            OLS   Adj. R-squared:                  0.073\n",
            "Method:                 Least Squares   F-statistic:                     2.814\n",
            "Date:                Sat, 28 Jan 2023   Prob (F-statistic):              0.108\n",
            "Time:                        09:30:05   Log-Likelihood:                -148.93\n",
            "No. Observations:                  24   AIC:                             301.9\n",
            "Df Residuals:                      22   BIC:                             304.2\n",
            "Df Model:                           1                                         \n",
            "Covariance Type:            nonrobust                                         \n",
            "==============================================================================\n",
            "                 coef    std err          t      P>|t|      [0.025      0.975]\n",
            "------------------------------------------------------------------------------\n",
            "const       1689.0421     38.715     43.628      0.000    1608.752    1769.332\n",
            "hardness      -1.5954      0.951     -1.678      0.108      -3.568       0.377\n",
            "==============================================================================\n",
            "Omnibus:                        1.503   Durbin-Watson:                   2.568\n",
            "Prob(Omnibus):                  0.472   Jarque-Bera (JB):                0.785\n",
            "Skew:                           0.442   Prob(JB):                        0.675\n",
            "Kurtosis:                       3.072   Cond. No.                         61.7\n",
            "==============================================================================\n",
            "\n",
            "Notes:\n",
            "[1] Standard Errors assume that the covariance matrix of the errors is correctly specified.\n"
          ]
        },
        {
          "output_type": "stream",
          "name": "stderr",
          "text": [
            "/usr/local/lib/python3.8/dist-packages/statsmodels/tsa/tsatools.py:142: FutureWarning: In a future version of pandas all arguments of concat except for the argument 'objs' will be keyword-only\n",
            "  x = pd.concat(x[::order], 1)\n"
          ]
        }
      ]
    },
    {
      "cell_type": "code",
      "source": [
        "print('Parameters: ', results.params)\n",
        "print('R2: ', results.rsquared)"
      ],
      "metadata": {
        "execution": {
          "iopub.status.busy": "2023-01-28T09:20:49.737598Z",
          "iopub.execute_input": "2023-01-28T09:20:49.737998Z",
          "iopub.status.idle": "2023-01-28T09:20:49.745242Z",
          "shell.execute_reply.started": "2023-01-28T09:20:49.737943Z",
          "shell.execute_reply": "2023-01-28T09:20:49.744135Z"
        },
        "trusted": true,
        "colab": {
          "base_uri": "https://localhost:8080/"
        },
        "id": "cPE7dZKntHFI",
        "outputId": "14b3ee0b-ca05-4da8-d933-1d5892ebf63f"
      },
      "execution_count": 50,
      "outputs": [
        {
          "output_type": "stream",
          "name": "stdout",
          "text": [
            "Parameters:  const       1689.042076\n",
            "hardness      -1.595381\n",
            "dtype: float64\n",
            "R2:  0.1134167381079092\n"
          ]
        }
      ]
    },
    {
      "cell_type": "code",
      "source": [
        "prstd, iv_l, iv_u = wls_prediction_std(results) \n",
        "# для каждой точки получаем не просто сам прогноз, но и доверительный интервал\n",
        "# с увеличением количества факторов, этот интервал будет уменьшаться\n",
        "fig, ax = plt.subplots(figsize=(8,6))\n",
        "\n",
        "ax.plot(x_const.iloc[:, 1], y_train, 'o', label=\"data\")\n",
        "ax.plot(x_const.iloc[:, 1], results.fittedvalues, 'r--.', label=\"OLS\")\n",
        "ax.plot(x_const.iloc[:, 1], iv_u, 'g--')\n",
        "ax.plot(x_const.iloc[:, 1], iv_l, 'g--')\n",
        "ax.legend(loc='best')"
      ],
      "metadata": {
        "execution": {
          "iopub.status.busy": "2023-01-28T09:21:09.438069Z",
          "iopub.execute_input": "2023-01-28T09:21:09.438436Z",
          "iopub.status.idle": "2023-01-28T09:21:09.648291Z",
          "shell.execute_reply.started": "2023-01-28T09:21:09.438408Z",
          "shell.execute_reply": "2023-01-28T09:21:09.647282Z"
        },
        "trusted": true,
        "colab": {
          "base_uri": "https://localhost:8080/",
          "height": 391
        },
        "id": "0kMEbuSMtHFJ",
        "outputId": "f48bd97d-5171-48d9-ad4a-48b059739704"
      },
      "execution_count": 51,
      "outputs": [
        {
          "output_type": "execute_result",
          "data": {
            "text/plain": [
              "<matplotlib.legend.Legend at 0x7fd29dc16ac0>"
            ]
          },
          "metadata": {},
          "execution_count": 51
        },
        {
          "output_type": "display_data",
          "data": {
            "text/plain": [
              "<Figure size 576x432 with 1 Axes>"
            ],
            "image/png": "[encoded data removed]"
          },
          "metadata": {
            "needs_background": "light"
          }
        }
      ]
    },
    {
      "cell_type": "code",
      "source": [
        "# посмотрим на остатки\n",
        "plt.scatter(x=x_const.iloc[:, 1], y=results.resid)\n",
        "plt.xlabel('Прогноз')\n",
        "plt.ylabel('Остатки')"
      ],
      "metadata": {
        "execution": {
          "iopub.status.busy": "2023-01-28T09:21:32.566889Z",
          "iopub.execute_input": "2023-01-28T09:21:32.567318Z",
          "iopub.status.idle": "2023-01-28T09:21:32.760107Z",
          "shell.execute_reply.started": "2023-01-28T09:21:32.567285Z",
          "shell.execute_reply": "2023-01-28T09:21:32.759209Z"
        },
        "trusted": true,
        "colab": {
          "base_uri": "https://localhost:8080/",
          "height": 296
        },
        "id": "pj7EDbahtHFK",
        "outputId": "73961231-e0c5-4158-e847-9a7f1ae751ff"
      },
      "execution_count": 52,
      "outputs": [
        {
          "output_type": "execute_result",
          "data": {
            "text/plain": [
              "Text(0, 0.5, 'Остатки')"
            ]
          },
          "metadata": {},
          "execution_count": 52
        },
        {
          "output_type": "display_data",
          "data": {
            "text/plain": [
              "<Figure size 432x288 with 1 Axes>"
            ],
            "image/png": "[encoded data removed]"
          },
          "metadata": {
            "needs_background": "light"
          }
        }
      ]
    },
    {
      "cell_type": "markdown",
      "source": [
        "#### Южные города"
      ],
      "metadata": {
        "id": "Ck2GIG8JtHFK"
      }
    },
    {
      "cell_type": "code",
      "source": [
        "sns.pairplot(df_water_south, kind='reg')"
      ],
      "metadata": {
        "execution": {
          "iopub.status.busy": "2023-01-28T09:14:33.472701Z",
          "iopub.execute_input": "2023-01-28T09:14:33.473080Z",
          "iopub.status.idle": "2023-01-28T09:14:34.452954Z",
          "shell.execute_reply.started": "2023-01-28T09:14:33.473051Z",
          "shell.execute_reply": "2023-01-28T09:14:34.451780Z"
        },
        "trusted": true,
        "colab": {
          "base_uri": "https://localhost:8080/",
          "height": 391
        },
        "id": "lnEgp-NOtHFL",
        "outputId": "ad0166e5-3791-4f17-9645-1b1298615773"
      },
      "execution_count": 53,
      "outputs": [
        {
          "output_type": "execute_result",
          "data": {
            "text/plain": [
              "<seaborn.axisgrid.PairGrid at 0x7fd29db2da30>"
            ]
          },
          "metadata": {},
          "execution_count": 53
        },
        {
          "output_type": "display_data",
          "data": {
            "text/plain": [
              "<Figure size 360x360 with 6 Axes>"
            ],
            "image/png": "[encoded data removed]"
          },
          "metadata": {
            "needs_background": "light"
          }
        }
      ]
    },
    {
      "cell_type": "code",
      "source": [
        "# считаем коэф. корреляции Пирсона\n",
        "df_water_south[['hardness', 'mortality']].corr()"
      ],
      "metadata": {
        "execution": {
          "iopub.status.busy": "2023-01-28T09:15:25.660707Z",
          "iopub.execute_input": "2023-01-28T09:15:25.661315Z",
          "iopub.status.idle": "2023-01-28T09:15:25.672448Z",
          "shell.execute_reply.started": "2023-01-28T09:15:25.661275Z",
          "shell.execute_reply": "2023-01-28T09:15:25.671419Z"
        },
        "trusted": true,
        "colab": {
          "base_uri": "https://localhost:8080/",
          "height": 112
        },
        "id": "T7uoDOoktHFM",
        "outputId": "852ade84-798e-4bb2-b09e-7b3d00fa235c"
      },
      "execution_count": 54,
      "outputs": [
        {
          "output_type": "execute_result",
          "data": {
            "text/plain": [
              "           hardness  mortality\n",
              "hardness   1.000000  -0.602153\n",
              "mortality -0.602153   1.000000"
            ],
            "text/html": [
              "\n",
              "  <div id=\"df-4b0c3c44-bd68-4093-8120-b8589dae610e\">\n",
              "    <div class=\"colab-df-container\">\n",
              "      <div>\n",
              "<style scoped>\n",
              "    .dataframe tbody tr th:only-of-type {\n",
              "        vertical-align: middle;\n",
              "    }\n",
              "\n",
              "    .dataframe tbody tr th {\n",
              "        vertical-align: top;\n",
              "    }\n",
              "\n",
              "    .dataframe thead th {\n",
              "        text-align: right;\n",
              "    }\n",
              "</style>\n",
              "<table border=\"1\" class=\"dataframe\">\n",
              "  <thead>\n",
              "    <tr style=\"text-align: right;\">\n",
              "      <th></th>\n",
              "      <th>hardness</th>\n",
              "      <th>mortality</th>\n",
              "    </tr>\n",
              "  </thead>\n",
              "  <tbody>\n",
              "    <tr>\n",
              "      <th>hardness</th>\n",
              "      <td>1.000000</td>\n",
              "      <td>-0.602153</td>\n",
              "    </tr>\n",
              "    <tr>\n",
              "      <th>mortality</th>\n",
              "      <td>-0.602153</td>\n",
              "      <td>1.000000</td>\n",
              "    </tr>\n",
              "  </tbody>\n",
              "</table>\n",
              "</div>\n",
              "      <button class=\"colab-df-convert\" onclick=\"convertToInteractive('df-4b0c3c44-bd68-4093-8120-b8589dae610e')\"\n",
              "              title=\"Convert this dataframe to an interactive table.\"\n",
              "              style=\"display:none;\">\n",
              "        \n",
              "  <svg xmlns=\"http://www.w3.org/2000/svg\" height=\"24px\"viewBox=\"0 0 24 24\"\n",
              "       width=\"24px\">\n",
              "    <path d=\"M0 0h24v24H0V0z\" fill=\"none\"/>\n",
              "    <path d=\"M18.56 5.44l.94 2.06.94-2.06 2.06-.94-2.06-.94-.94-2.06-.94 2.06-2.06.94zm-11 1L8.5 8.5l.94-2.06 2.06-.94-2.06-.94L8.5 2.5l-.94 2.06-2.06.94zm10 10l.94 2.06.94-2.06 2.06-.94-2.06-.94-.94-2.06-.94 2.06-2.06.94z\"/><path d=\"M17.41 7.96l-1.37-1.37c-.4-.4-.92-.59-1.43-.59-.52 0-1.04.2-1.43.59L10.3 9.45l-7.72 7.72c-.78.78-.78 2.05 0 2.83L4 21.41c.39.39.9.59 1.41.59.51 0 1.02-.2 1.41-.59l7.78-7.78 2.81-2.81c.8-.78.8-2.07 0-2.86zM5.41 20L4 18.59l7.72-7.72 1.47 1.35L5.41 20z\"/>\n",
              "  </svg>\n",
              "      </button>\n",
              "      \n",
              "  <style>\n",
              "    .colab-df-container {\n",
              "      display:flex;\n",
              "      flex-wrap:wrap;\n",
              "      gap: 12px;\n",
              "    }\n",
              "\n",
              "    .colab-df-convert {\n",
              "      background-color: #E8F0FE;\n",
              "      border: none;\n",
              "      border-radius: 50%;\n",
              "      cursor: pointer;\n",
              "      display: none;\n",
              "      fill: #1967D2;\n",
              "      height: 32px;\n",
              "      padding: 0 0 0 0;\n",
              "      width: 32px;\n",
              "    }\n",
              "\n",
              "    .colab-df-convert:hover {\n",
              "      background-color: #E2EBFA;\n",
              "      box-shadow: 0px 1px 2px rgba(60, 64, 67, 0.3), 0px 1px 3px 1px rgba(60, 64, 67, 0.15);\n",
              "      fill: #174EA6;\n",
              "    }\n",
              "\n",
              "    [theme=dark] .colab-df-convert {\n",
              "      background-color: #3B4455;\n",
              "      fill: #D2E3FC;\n",
              "    }\n",
              "\n",
              "    [theme=dark] .colab-df-convert:hover {\n",
              "      background-color: #434B5C;\n",
              "      box-shadow: 0px 1px 3px 1px rgba(0, 0, 0, 0.15);\n",
              "      filter: drop-shadow(0px 1px 2px rgba(0, 0, 0, 0.3));\n",
              "      fill: #FFFFFF;\n",
              "    }\n",
              "  </style>\n",
              "\n",
              "      <script>\n",
              "        const buttonEl =\n",
              "          document.querySelector('#df-4b0c3c44-bd68-4093-8120-b8589dae610e button.colab-df-convert');\n",
              "        buttonEl.style.display =\n",
              "          google.colab.kernel.accessAllowed ? 'block' : 'none';\n",
              "\n",
              "        async function convertToInteractive(key) {\n",
              "          const element = document.querySelector('#df-4b0c3c44-bd68-4093-8120-b8589dae610e');\n",
              "          const dataTable =\n",
              "            await google.colab.kernel.invokeFunction('convertToInteractive',\n",
              "                                                     [key], {});\n",
              "          if (!dataTable) return;\n",
              "\n",
              "          const docLinkHtml = 'Like what you see? Visit the ' +\n",
              "            '<a target=\"_blank\" href=https://colab.research.google.com/notebooks/data_table.ipynb>data table notebook</a>'\n",
              "            + ' to learn more about interactive tables.';\n",
              "          element.innerHTML = '';\n",
              "          dataTable['output_type'] = 'display_data';\n",
              "          await google.colab.output.renderOutput(dataTable, element);\n",
              "          const docLink = document.createElement('div');\n",
              "          docLink.innerHTML = docLinkHtml;\n",
              "          element.appendChild(docLink);\n",
              "        }\n",
              "      </script>\n",
              "    </div>\n",
              "  </div>\n",
              "  "
            ]
          },
          "metadata": {},
          "execution_count": 54
        }
      ]
    },
    {
      "cell_type": "code",
      "source": [
        "# считаем коэф. корреляции Спирмана\n",
        "df_water_south[['hardness', 'mortality']].corr(method='spearman')"
      ],
      "metadata": {
        "execution": {
          "iopub.status.busy": "2023-01-28T09:15:53.065692Z",
          "iopub.execute_input": "2023-01-28T09:15:53.066096Z",
          "iopub.status.idle": "2023-01-28T09:15:53.080920Z",
          "shell.execute_reply.started": "2023-01-28T09:15:53.066062Z",
          "shell.execute_reply": "2023-01-28T09:15:53.080008Z"
        },
        "trusted": true,
        "colab": {
          "base_uri": "https://localhost:8080/",
          "height": 112
        },
        "id": "VC8CJsgxtHFN",
        "outputId": "b8438c14-e761-4b17-f05d-b622fff311eb"
      },
      "execution_count": 55,
      "outputs": [
        {
          "output_type": "execute_result",
          "data": {
            "text/plain": [
              "           hardness  mortality\n",
              "hardness   1.000000  -0.595723\n",
              "mortality -0.595723   1.000000"
            ],
            "text/html": [
              "\n",
              "  <div id=\"df-33841bf3-105d-46bd-bb9b-f9c3d7269958\">\n",
              "    <div class=\"colab-df-container\">\n",
              "      <div>\n",
              "<style scoped>\n",
              "    .dataframe tbody tr th:only-of-type {\n",
              "        vertical-align: middle;\n",
              "    }\n",
              "\n",
              "    .dataframe tbody tr th {\n",
              "        vertical-align: top;\n",
              "    }\n",
              "\n",
              "    .dataframe thead th {\n",
              "        text-align: right;\n",
              "    }\n",
              "</style>\n",
              "<table border=\"1\" class=\"dataframe\">\n",
              "  <thead>\n",
              "    <tr style=\"text-align: right;\">\n",
              "      <th></th>\n",
              "      <th>hardness</th>\n",
              "      <th>mortality</th>\n",
              "    </tr>\n",
              "  </thead>\n",
              "  <tbody>\n",
              "    <tr>\n",
              "      <th>hardness</th>\n",
              "      <td>1.000000</td>\n",
              "      <td>-0.595723</td>\n",
              "    </tr>\n",
              "    <tr>\n",
              "      <th>mortality</th>\n",
              "      <td>-0.595723</td>\n",
              "      <td>1.000000</td>\n",
              "    </tr>\n",
              "  </tbody>\n",
              "</table>\n",
              "</div>\n",
              "      <button class=\"colab-df-convert\" onclick=\"convertToInteractive('df-33841bf3-105d-46bd-bb9b-f9c3d7269958')\"\n",
              "              title=\"Convert this dataframe to an interactive table.\"\n",
              "              style=\"display:none;\">\n",
              "        \n",
              "  <svg xmlns=\"http://www.w3.org/2000/svg\" height=\"24px\"viewBox=\"0 0 24 24\"\n",
              "       width=\"24px\">\n",
              "    <path d=\"M0 0h24v24H0V0z\" fill=\"none\"/>\n",
              "    <path d=\"M18.56 5.44l.94 2.06.94-2.06 2.06-.94-2.06-.94-.94-2.06-.94 2.06-2.06.94zm-11 1L8.5 8.5l.94-2.06 2.06-.94-2.06-.94L8.5 2.5l-.94 2.06-2.06.94zm10 10l.94 2.06.94-2.06 2.06-.94-2.06-.94-.94-2.06-.94 2.06-2.06.94z\"/><path d=\"M17.41 7.96l-1.37-1.37c-.4-.4-.92-.59-1.43-.59-.52 0-1.04.2-1.43.59L10.3 9.45l-7.72 7.72c-.78.78-.78 2.05 0 2.83L4 21.41c.39.39.9.59 1.41.59.51 0 1.02-.2 1.41-.59l7.78-7.78 2.81-2.81c.8-.78.8-2.07 0-2.86zM5.41 20L4 18.59l7.72-7.72 1.47 1.35L5.41 20z\"/>\n",
              "  </svg>\n",
              "      </button>\n",
              "      \n",
              "  <style>\n",
              "    .colab-df-container {\n",
              "      display:flex;\n",
              "      flex-wrap:wrap;\n",
              "      gap: 12px;\n",
              "    }\n",
              "\n",
              "    .colab-df-convert {\n",
              "      background-color: #E8F0FE;\n",
              "      border: none;\n",
              "      border-radius: 50%;\n",
              "      cursor: pointer;\n",
              "      display: none;\n",
              "      fill: #1967D2;\n",
              "      height: 32px;\n",
              "      padding: 0 0 0 0;\n",
              "      width: 32px;\n",
              "    }\n",
              "\n",
              "    .colab-df-convert:hover {\n",
              "      background-color: #E2EBFA;\n",
              "      box-shadow: 0px 1px 2px rgba(60, 64, 67, 0.3), 0px 1px 3px 1px rgba(60, 64, 67, 0.15);\n",
              "      fill: #174EA6;\n",
              "    }\n",
              "\n",
              "    [theme=dark] .colab-df-convert {\n",
              "      background-color: #3B4455;\n",
              "      fill: #D2E3FC;\n",
              "    }\n",
              "\n",
              "    [theme=dark] .colab-df-convert:hover {\n",
              "      background-color: #434B5C;\n",
              "      box-shadow: 0px 1px 3px 1px rgba(0, 0, 0, 0.15);\n",
              "      filter: drop-shadow(0px 1px 2px rgba(0, 0, 0, 0.3));\n",
              "      fill: #FFFFFF;\n",
              "    }\n",
              "  </style>\n",
              "\n",
              "      <script>\n",
              "        const buttonEl =\n",
              "          document.querySelector('#df-33841bf3-105d-46bd-bb9b-f9c3d7269958 button.colab-df-convert');\n",
              "        buttonEl.style.display =\n",
              "          google.colab.kernel.accessAllowed ? 'block' : 'none';\n",
              "\n",
              "        async function convertToInteractive(key) {\n",
              "          const element = document.querySelector('#df-33841bf3-105d-46bd-bb9b-f9c3d7269958');\n",
              "          const dataTable =\n",
              "            await google.colab.kernel.invokeFunction('convertToInteractive',\n",
              "                                                     [key], {});\n",
              "          if (!dataTable) return;\n",
              "\n",
              "          const docLinkHtml = 'Like what you see? Visit the ' +\n",
              "            '<a target=\"_blank\" href=https://colab.research.google.com/notebooks/data_table.ipynb>data table notebook</a>'\n",
              "            + ' to learn more about interactive tables.';\n",
              "          element.innerHTML = '';\n",
              "          dataTable['output_type'] = 'display_data';\n",
              "          await google.colab.output.renderOutput(dataTable, element);\n",
              "          const docLink = document.createElement('div');\n",
              "          docLink.innerHTML = docLinkHtml;\n",
              "          element.appendChild(docLink);\n",
              "        }\n",
              "      </script>\n",
              "    </div>\n",
              "  </div>\n",
              "  "
            ]
          },
          "metadata": {},
          "execution_count": 55
        }
      ]
    },
    {
      "cell_type": "code",
      "source": [
        "#регрессия\n",
        "x = df_water_south[['hardness']]\n",
        "y = df_water_south['mortality']"
      ],
      "metadata": {
        "execution": {
          "iopub.status.busy": "2023-01-28T09:24:10.996435Z",
          "iopub.execute_input": "2023-01-28T09:24:10.997497Z",
          "iopub.status.idle": "2023-01-28T09:24:11.003420Z",
          "shell.execute_reply.started": "2023-01-28T09:24:10.997459Z",
          "shell.execute_reply": "2023-01-28T09:24:11.002456Z"
        },
        "trusted": true,
        "id": "NhIFLiSvtHFO"
      },
      "execution_count": 56,
      "outputs": []
    },
    {
      "cell_type": "code",
      "source": [
        "#разбиваем данные на тестовые и тренировочные\n",
        "x_train, x_test, y_train, y_test = train_test_split(x, y, test_size=0.30)"
      ],
      "metadata": {
        "execution": {
          "iopub.status.busy": "2023-01-28T09:24:14.834705Z",
          "iopub.execute_input": "2023-01-28T09:24:14.835093Z",
          "iopub.status.idle": "2023-01-28T09:24:14.841703Z",
          "shell.execute_reply.started": "2023-01-28T09:24:14.835063Z",
          "shell.execute_reply": "2023-01-28T09:24:14.840597Z"
        },
        "trusted": true,
        "id": "KiDsrLyGtHFP"
      },
      "execution_count": 57,
      "outputs": []
    },
    {
      "cell_type": "code",
      "source": [
        "model = LinearRegression()\n",
        "model.fit(x_train, y_train)  # метод обучается на данных и подбирает оптимальные коэффициенты"
      ],
      "metadata": {
        "execution": {
          "iopub.status.busy": "2023-01-28T09:24:18.489386Z",
          "iopub.execute_input": "2023-01-28T09:24:18.489737Z",
          "iopub.status.idle": "2023-01-28T09:24:18.498615Z",
          "shell.execute_reply.started": "2023-01-28T09:24:18.489703Z",
          "shell.execute_reply": "2023-01-28T09:24:18.497570Z"
        },
        "trusted": true,
        "colab": {
          "base_uri": "https://localhost:8080/"
        },
        "id": "oWGwc7hXtHFQ",
        "outputId": "53782946-eaec-4aaf-d390-23e9cac9e06b"
      },
      "execution_count": 58,
      "outputs": [
        {
          "output_type": "execute_result",
          "data": {
            "text/plain": [
              "LinearRegression()"
            ]
          },
          "metadata": {},
          "execution_count": 58
        }
      ]
    },
    {
      "cell_type": "code",
      "source": [
        "model.coef_\n",
        "#предсказанный ответ возрастает до -1.07 при x, увеличенным на единицу"
      ],
      "metadata": {
        "execution": {
          "iopub.status.busy": "2023-01-28T09:24:21.279858Z",
          "iopub.execute_input": "2023-01-28T09:24:21.280269Z",
          "iopub.status.idle": "2023-01-28T09:24:21.286917Z",
          "shell.execute_reply.started": "2023-01-28T09:24:21.280236Z",
          "shell.execute_reply": "2023-01-28T09:24:21.286099Z"
        },
        "trusted": true,
        "colab": {
          "base_uri": "https://localhost:8080/"
        },
        "id": "BSNEeDbjtHFR",
        "outputId": "350c2aa8-4bda-473f-a275-59c586e05409"
      },
      "execution_count": 59,
      "outputs": [
        {
          "output_type": "execute_result",
          "data": {
            "text/plain": [
              "array([-1.07614969])"
            ]
          },
          "metadata": {},
          "execution_count": 59
        }
      ]
    },
    {
      "cell_type": "code",
      "source": [
        "model.intercept_\n",
        "#показывает, что модель предсказывает ответ 1478.39 при x, равном нулю."
      ],
      "metadata": {
        "execution": {
          "iopub.status.busy": "2023-01-28T09:24:24.155244Z",
          "iopub.execute_input": "2023-01-28T09:24:24.156304Z",
          "iopub.status.idle": "2023-01-28T09:24:24.163246Z",
          "shell.execute_reply.started": "2023-01-28T09:24:24.156257Z",
          "shell.execute_reply": "2023-01-28T09:24:24.162397Z"
        },
        "trusted": true,
        "colab": {
          "base_uri": "https://localhost:8080/"
        },
        "id": "vCBeMcXrtHFT",
        "outputId": "284c414d-07fd-4b26-b876-0e952a0453c1"
      },
      "execution_count": 60,
      "outputs": [
        {
          "output_type": "execute_result",
          "data": {
            "text/plain": [
              "1478.3952916345334"
            ]
          },
          "metadata": {},
          "execution_count": 60
        }
      ]
    },
    {
      "cell_type": "code",
      "source": [
        "y_pred = model.predict(x_test)\n",
        "y_pred"
      ],
      "metadata": {
        "execution": {
          "iopub.status.busy": "2023-01-28T09:24:26.266315Z",
          "iopub.execute_input": "2023-01-28T09:24:26.266665Z",
          "iopub.status.idle": "2023-01-28T09:24:26.275700Z",
          "shell.execute_reply.started": "2023-01-28T09:24:26.266638Z",
          "shell.execute_reply": "2023-01-28T09:24:26.274674Z"
        },
        "trusted": true,
        "colab": {
          "base_uri": "https://localhost:8080/"
        },
        "id": "_e9Y4rc_tHFU",
        "outputId": "2b8fa4ba-b6d3-4a47-be44-27d954512eaf"
      },
      "execution_count": 61,
      "outputs": [
        {
          "output_type": "execute_result",
          "data": {
            "text/plain": [
              "array([1413.82631002, 1329.88663392, 1464.40534562, 1375.08492105,\n",
              "       1363.24727442, 1365.39957381, 1369.70417259, 1424.58780696])"
            ]
          },
          "metadata": {},
          "execution_count": 61
        }
      ]
    },
    {
      "cell_type": "code",
      "source": [
        "y_test"
      ],
      "metadata": {
        "execution": {
          "iopub.status.busy": "2023-01-28T09:24:28.418924Z",
          "iopub.execute_input": "2023-01-28T09:24:28.419337Z",
          "iopub.status.idle": "2023-01-28T09:24:28.426992Z",
          "shell.execute_reply.started": "2023-01-28T09:24:28.419299Z",
          "shell.execute_reply": "2023-01-28T09:24:28.426013Z"
        },
        "trusted": true,
        "colab": {
          "base_uri": "https://localhost:8080/"
        },
        "id": "fNP4YDeUtHFV",
        "outputId": "0d88cdd7-56ce-4b65-9e80-c3a91a064fd6"
      },
      "execution_count": 62,
      "outputs": [
        {
          "output_type": "execute_result",
          "data": {
            "text/plain": [
              "56    1527\n",
              "25    1096\n",
              "54    1625\n",
              "14    1254\n",
              "37    1175\n",
              "0     1247\n",
              "41    1236\n",
              "48    1257\n",
              "Name: mortality, dtype: int64"
            ]
          },
          "metadata": {},
          "execution_count": 62
        }
      ]
    },
    {
      "cell_type": "code",
      "source": [
        "model.score(x_test, y_test) # метод возвращает значение коэффициента детерминации\n",
        "#модель не отражает реальное положение вещей, т.к значение сильно меньше 0,5"
      ],
      "metadata": {
        "execution": {
          "iopub.status.busy": "2023-01-28T09:24:31.871479Z",
          "iopub.execute_input": "2023-01-28T09:24:31.871859Z",
          "iopub.status.idle": "2023-01-28T09:24:31.880514Z",
          "shell.execute_reply.started": "2023-01-28T09:24:31.871828Z",
          "shell.execute_reply": "2023-01-28T09:24:31.879520Z"
        },
        "trusted": true,
        "colab": {
          "base_uri": "https://localhost:8080/"
        },
        "id": "hLWM8LgEtHFX",
        "outputId": "279e218c-1858-4c58-cee6-fddd89d1596e"
      },
      "execution_count": 63,
      "outputs": [
        {
          "output_type": "execute_result",
          "data": {
            "text/plain": [
              "0.09700114175361063"
            ]
          },
          "metadata": {},
          "execution_count": 63
        }
      ]
    },
    {
      "cell_type": "code",
      "source": [
        "plt.scatter(x_test, y_test)\n",
        "plt.plot(x_test, y_pred, c='r')"
      ],
      "metadata": {
        "execution": {
          "iopub.status.busy": "2023-01-28T09:24:34.518453Z",
          "iopub.execute_input": "2023-01-28T09:24:34.518829Z",
          "iopub.status.idle": "2023-01-28T09:24:34.736062Z",
          "shell.execute_reply.started": "2023-01-28T09:24:34.518800Z",
          "shell.execute_reply": "2023-01-28T09:24:34.733759Z"
        },
        "trusted": true,
        "colab": {
          "base_uri": "https://localhost:8080/",
          "height": 282
        },
        "id": "lPGYLyGWtHFY",
        "outputId": "720bf819-4d24-4d5f-f99d-974b32f776b8"
      },
      "execution_count": 64,
      "outputs": [
        {
          "output_type": "execute_result",
          "data": {
            "text/plain": [
              "[<matplotlib.lines.Line2D at 0x7fd29d920880>]"
            ]
          },
          "metadata": {},
          "execution_count": 64
        },
        {
          "output_type": "display_data",
          "data": {
            "text/plain": [
              "<Figure size 432x288 with 1 Axes>"
            ],
            "image/png": "[encoded data removed]"
          },
          "metadata": {
            "needs_background": "light"
          }
        }
      ]
    },
    {
      "cell_type": "code",
      "source": [
        "#statsmodel\n",
        "x_const = sm.add_constant(x_train) # добавить константу\n",
        "model = sm.OLS(y_train, x_const)\n",
        "results = model.fit()\n",
        "print(results.summary())"
      ],
      "metadata": {
        "execution": {
          "iopub.status.busy": "2023-01-28T09:24:37.767846Z",
          "iopub.execute_input": "2023-01-28T09:24:37.768237Z",
          "iopub.status.idle": "2023-01-28T09:24:37.788106Z",
          "shell.execute_reply.started": "2023-01-28T09:24:37.768206Z",
          "shell.execute_reply": "2023-01-28T09:24:37.787075Z"
        },
        "trusted": true,
        "colab": {
          "base_uri": "https://localhost:8080/"
        },
        "id": "O6eVWrTJtHFa",
        "outputId": "3b5fa4e7-bf5f-4308-dd01-b97de4ea792f"
      },
      "execution_count": 65,
      "outputs": [
        {
          "output_type": "stream",
          "name": "stdout",
          "text": [
            "                            OLS Regression Results                            \n",
            "==============================================================================\n",
            "Dep. Variable:              mortality   R-squared:                       0.157\n",
            "Model:                            OLS   Adj. R-squared:                  0.104\n",
            "Method:                 Least Squares   F-statistic:                     2.975\n",
            "Date:                Sat, 28 Jan 2023   Prob (F-statistic):              0.104\n",
            "Time:                        09:30:09   Log-Likelihood:                -107.95\n",
            "No. Observations:                  18   AIC:                             219.9\n",
            "Df Residuals:                      16   BIC:                             221.7\n",
            "Df Model:                           1                                         \n",
            "Covariance Type:            nonrobust                                         \n",
            "==============================================================================\n",
            "                 coef    std err          t      P>|t|      [0.025      0.975]\n",
            "------------------------------------------------------------------------------\n",
            "const       1478.3953     46.524     31.777      0.000    1379.769    1577.022\n",
            "hardness      -1.0761      0.624     -1.725      0.104      -2.399       0.247\n",
            "==============================================================================\n",
            "Omnibus:                        0.253   Durbin-Watson:                   1.518\n",
            "Prob(Omnibus):                  0.881   Jarque-Bera (JB):                0.248\n",
            "Skew:                           0.221   Prob(JB):                        0.883\n",
            "Kurtosis:                       2.633   Cond. No.                         143.\n",
            "==============================================================================\n",
            "\n",
            "Notes:\n",
            "[1] Standard Errors assume that the covariance matrix of the errors is correctly specified.\n"
          ]
        },
        {
          "output_type": "stream",
          "name": "stderr",
          "text": [
            "/usr/local/lib/python3.8/dist-packages/statsmodels/tsa/tsatools.py:142: FutureWarning: In a future version of pandas all arguments of concat except for the argument 'objs' will be keyword-only\n",
            "  x = pd.concat(x[::order], 1)\n",
            "/usr/local/lib/python3.8/dist-packages/scipy/stats/stats.py:1541: UserWarning: kurtosistest only valid for n>=20 ... continuing anyway, n=18\n",
            "  warnings.warn(\"kurtosistest only valid for n>=20 ... continuing \"\n"
          ]
        }
      ]
    },
    {
      "cell_type": "code",
      "source": [
        "print('Parameters: ', results.params)\n",
        "print('R2: ', results.rsquared)"
      ],
      "metadata": {
        "execution": {
          "iopub.status.busy": "2023-01-28T09:24:44.488874Z",
          "iopub.execute_input": "2023-01-28T09:24:44.489267Z",
          "iopub.status.idle": "2023-01-28T09:24:44.496602Z",
          "shell.execute_reply.started": "2023-01-28T09:24:44.489240Z",
          "shell.execute_reply": "2023-01-28T09:24:44.495375Z"
        },
        "trusted": true,
        "colab": {
          "base_uri": "https://localhost:8080/"
        },
        "id": "Wypg6_OmtHFb",
        "outputId": "634f56aa-e226-47a1-adf7-320b69bb196b"
      },
      "execution_count": 66,
      "outputs": [
        {
          "output_type": "stream",
          "name": "stdout",
          "text": [
            "Parameters:  const       1478.395292\n",
            "hardness      -1.076150\n",
            "dtype: float64\n",
            "R2:  0.15678216186611582\n"
          ]
        }
      ]
    },
    {
      "cell_type": "code",
      "source": [
        "prstd, iv_l, iv_u = wls_prediction_std(results) \n",
        "# для каждой точки получаем не просто сам прогноз, но и доверительный интервал\n",
        "# с увеличением количества факторов, этот интервал будет уменьшаться\n",
        "fig, ax = plt.subplots(figsize=(8,6))\n",
        "\n",
        "ax.plot(x_const.iloc[:, 1], y_train, 'o', label=\"data\")\n",
        "ax.plot(x_const.iloc[:, 1], results.fittedvalues, 'r--.', label=\"OLS\")\n",
        "ax.plot(x_const.iloc[:, 1], iv_u, 'g--')\n",
        "ax.plot(x_const.iloc[:, 1], iv_l, 'g--')\n",
        "ax.legend(loc='best')"
      ],
      "metadata": {
        "execution": {
          "iopub.status.busy": "2023-01-28T09:24:47.958373Z",
          "iopub.execute_input": "2023-01-28T09:24:47.959012Z",
          "iopub.status.idle": "2023-01-28T09:24:48.196608Z",
          "shell.execute_reply.started": "2023-01-28T09:24:47.958975Z",
          "shell.execute_reply": "2023-01-28T09:24:48.195702Z"
        },
        "trusted": true,
        "colab": {
          "base_uri": "https://localhost:8080/",
          "height": 391
        },
        "id": "2oMIxUzLtHFb",
        "outputId": "16525289-c1fc-4d46-ee77-c4ce0a1cbddb"
      },
      "execution_count": 67,
      "outputs": [
        {
          "output_type": "execute_result",
          "data": {
            "text/plain": [
              "<matplotlib.legend.Legend at 0x7fd29d9518e0>"
            ]
          },
          "metadata": {},
          "execution_count": 67
        },
        {
          "output_type": "display_data",
          "data": {
            "text/plain": [
              "<Figure size 576x432 with 1 Axes>"
            ],
            "image/png": "[encoded data removed]"
          },
          "metadata": {
            "needs_background": "light"
          }
        }
      ]
    },
    {
      "cell_type": "code",
      "source": [
        "# посмотрим на остатки\n",
        "plt.scatter(x=x_const.iloc[:, 1], y=results.resid)\n",
        "plt.xlabel('Прогноз')\n",
        "plt.ylabel('Остатки')"
      ],
      "metadata": {
        "execution": {
          "iopub.status.busy": "2023-01-28T09:24:52.428206Z",
          "iopub.execute_input": "2023-01-28T09:24:52.428637Z",
          "iopub.status.idle": "2023-01-28T09:24:52.630219Z",
          "shell.execute_reply.started": "2023-01-28T09:24:52.428605Z",
          "shell.execute_reply": "2023-01-28T09:24:52.628485Z"
        },
        "trusted": true,
        "colab": {
          "base_uri": "https://localhost:8080/",
          "height": 296
        },
        "id": "AhvXVn_ntHFc",
        "outputId": "f0cccd19-092d-458c-f40d-06310c06cba6"
      },
      "execution_count": 68,
      "outputs": [
        {
          "output_type": "execute_result",
          "data": {
            "text/plain": [
              "Text(0, 0.5, 'Остатки')"
            ]
          },
          "metadata": {},
          "execution_count": 68
        },
        {
          "output_type": "display_data",
          "data": {
            "text/plain": [
              "<Figure size 432x288 with 1 Axes>"
            ],
            "image/png": "[encoded data removed]"
          },
          "metadata": {
            "needs_background": "light"
          }
        }
      ]
    }
  ]
}