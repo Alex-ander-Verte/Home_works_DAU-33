{
 "cells": [
  {
   "cell_type": "code",
   "execution_count": 1,
   "id": "f3bbef86",
   "metadata": {},
   "outputs": [],
   "source": [
    "#Подключаем библиотеки\n",
    "from datetime import datetime\n",
    "from datetime import timedelta\n",
    "import pprint"
   ]
  },
  {
   "cell_type": "markdown",
   "id": "c2d879bb",
   "metadata": {},
   "source": [
    "### Задание 1\n",
    "Печатные газеты использовали свой формат дат для каждого выпуска. Для каждой газеты из списка напишите формат указанной даты для перевода в объект datetime:\n",
    "\n",
    "The Moscow Times - Wednesday, October 2, 2002\n",
    "\n",
    "The Guardian - Friday, 11.10.13\n",
    "\n",
    "Daily News - Thursday, 18 August 1977"
   ]
  },
  {
   "cell_type": "code",
   "execution_count": 5,
   "id": "a4556b24",
   "metadata": {},
   "outputs": [
    {
     "data": {
      "text/plain": [
       "(datetime.datetime(2002, 10, 2, 0, 0),\n",
       " datetime.datetime(2013, 10, 11, 0, 0),\n",
       " datetime.datetime(1977, 8, 18, 0, 0))"
      ]
     },
     "execution_count": 5,
     "metadata": {},
     "output_type": "execute_result"
    }
   ],
   "source": [
    "T_M_T = 'Wednesday, October 2, 2002'\n",
    "T_G = 'Friday, 11.10.13'\n",
    "D_N = 'Thursday, 18 August 1977'\n",
    "\n",
    "T_M_T_dt = datetime.strptime(T_M_T, '%A, %B %d, %Y')\n",
    "T_G_dt = datetime.strptime(T_G, '%A, %d.%m.%y')\n",
    "D_N_dt = datetime.strptime(D_N, '%A, %d %B %Y')\n",
    "\n",
    "T_M_T_dt, T_G_dt, D_N_dt"
   ]
  },
  {
   "cell_type": "markdown",
   "id": "b4994c36",
   "metadata": {},
   "source": [
    "### Задание 2\n",
    "Дан поток дат в формате YYYY-MM-DD, в которых встречаются некорректные значения:\n",
    "\n",
    "```\n",
    "stream = [‘2018-04-02’, ‘2018-02-29’, ‘2018-19-02’]\n",
    "```\n",
    "\n",
    "Напишите функцию, которая проверяет эти даты на корректность. Т. е. для каждой даты возвращает True (дата корректна) или False (некорректная дата).\n",
    "\n"
   ]
  },
  {
   "cell_type": "code",
   "execution_count": 11,
   "id": "c72635e6",
   "metadata": {},
   "outputs": [],
   "source": [
    "def test_date(stream):\n",
    "    for date in stream:\n",
    "        try:\n",
    "            datetime.strptime(date, '%Y-%m-%d')\n",
    "            print(f'{date} дата корректна')\n",
    "        except:\n",
    "            print(f'{date} некорректная дата')"
   ]
  },
  {
   "cell_type": "code",
   "execution_count": 12,
   "id": "37df38d2",
   "metadata": {},
   "outputs": [
    {
     "name": "stdout",
     "output_type": "stream",
     "text": [
      "2018-04-02 дата корректна\n",
      "2018-02-29 некорректная дата\n",
      "2018-19-02 некорректная дата\n"
     ]
    }
   ],
   "source": [
    "stream = ['2018-04-02', '2018-02-29', '2018-19-02']\n",
    "\n",
    "test_date(stream)"
   ]
  },
  {
   "cell_type": "markdown",
   "id": "af97091c",
   "metadata": {},
   "source": [
    "### Задание 3\n",
    "Напишите функцию date_range, которая возвращает список дат за период от start_date до end_date. Даты должны вводиться в формате YYYY-MM-DD. В случае неверного формата или при start_date > end_date должен возвращаться пустой список."
   ]
  },
  {
   "cell_type": "code",
   "execution_count": 50,
   "id": "648f1acf",
   "metadata": {},
   "outputs": [],
   "source": [
    "def date_range(start_date, end_date):\n",
    "    date_list = [] #создаём пустой список для дат\n",
    "    \n",
    "    try:\n",
    "        start_date_dt = datetime.strptime(start_date, '%Y-%m-%d')\n",
    "        end_date_dt = datetime.strptime(end_date, '%Y-%m-%d')\n",
    "        while start_date_dt <= end_date_dt:\n",
    "            date_list.append(start_date_dt.strftime('%Y-%m-%d'))\n",
    "            start_date_dt += timedelta(days = 1)\n",
    "    except:\n",
    "        date_list = []\n",
    "\n",
    "    pprint.pprint(date_list)"
   ]
  },
  {
   "cell_type": "code",
   "execution_count": 39,
   "id": "5bff6054",
   "metadata": {},
   "outputs": [
    {
     "name": "stdout",
     "output_type": "stream",
     "text": [
      "Введите дату в формате ГГГГ-ММ-ДД: 2022-11-17\n",
      "Введите дату в формате ГГГГ-ММ-ДД: 2022-12-31\n",
      "['2022-11-17',\n",
      " '2022-11-18',\n",
      " '2022-11-19',\n",
      " '2022-11-20',\n",
      " '2022-11-21',\n",
      " '2022-11-22',\n",
      " '2022-11-23',\n",
      " '2022-11-24',\n",
      " '2022-11-25',\n",
      " '2022-11-26',\n",
      " '2022-11-27',\n",
      " '2022-11-28',\n",
      " '2022-11-29',\n",
      " '2022-11-30',\n",
      " '2022-12-01',\n",
      " '2022-12-02',\n",
      " '2022-12-03',\n",
      " '2022-12-04',\n",
      " '2022-12-05',\n",
      " '2022-12-06',\n",
      " '2022-12-07',\n",
      " '2022-12-08',\n",
      " '2022-12-09',\n",
      " '2022-12-10',\n",
      " '2022-12-11',\n",
      " '2022-12-12',\n",
      " '2022-12-13',\n",
      " '2022-12-14',\n",
      " '2022-12-15',\n",
      " '2022-12-16',\n",
      " '2022-12-17',\n",
      " '2022-12-18',\n",
      " '2022-12-19',\n",
      " '2022-12-20',\n",
      " '2022-12-21',\n",
      " '2022-12-22',\n",
      " '2022-12-23',\n",
      " '2022-12-24',\n",
      " '2022-12-25',\n",
      " '2022-12-26',\n",
      " '2022-12-27',\n",
      " '2022-12-28',\n",
      " '2022-12-29',\n",
      " '2022-12-30',\n",
      " '2022-12-31']\n"
     ]
    }
   ],
   "source": [
    "date_1 = input('Введите дату в формате ГГГГ-ММ-ДД: ')\n",
    "date_2 = input('Введите дату в формате ГГГГ-ММ-ДД: ')\n",
    "\n",
    "date_range(date_1, date_2)"
   ]
  },
  {
   "cell_type": "code",
   "execution_count": 40,
   "id": "64f7b7a1",
   "metadata": {},
   "outputs": [
    {
     "name": "stdout",
     "output_type": "stream",
     "text": [
      "Введите дату в формате ГГГГ-ММ-ДД: 17.11.22\n",
      "Введите дату в формате ГГГГ-ММ-ДД: 31.12.22\n",
      "[]\n"
     ]
    }
   ],
   "source": [
    "date_1 = input('Введите дату в формате ГГГГ-ММ-ДД: ')\n",
    "date_2 = input('Введите дату в формате ГГГГ-ММ-ДД: ')\n",
    "\n",
    "date_range(date_1, date_2)"
   ]
  },
  {
   "cell_type": "code",
   "execution_count": 51,
   "id": "1ab15f2b",
   "metadata": {},
   "outputs": [
    {
     "name": "stdout",
     "output_type": "stream",
     "text": [
      "Введите дату в формате ГГГГ-ММ-ДД: 2022-11-17\n",
      "Введите дату в формате ГГГГ-ММ-ДД: 2020-11-17\n",
      "[]\n"
     ]
    }
   ],
   "source": [
    "date_1 = input('Введите дату в формате ГГГГ-ММ-ДД: ')\n",
    "date_2 = input('Введите дату в формате ГГГГ-ММ-ДД: ')\n",
    "\n",
    "date_range(date_1, date_2)"
   ]
  },
  {
   "cell_type": "markdown",
   "id": "290c90a9",
   "metadata": {},
   "source": [
    "### Задание 4 (необязательное)\n",
    "Ваш коллега прислал код функции:\n",
    "```\n",
    "DEFAULT_USER_COUNT = 3\n",
    "\n",
    "def delete_and_return_last_user(region, default_list=[‘A100’, ‘A101’, ‘A102’]):\n",
    "\"\"\"\n",
    "Удаляет из списка default_list последнего пользователя\n",
    "и возвращает ID нового последнего пользователя.\n",
    "\"\"\"\n",
    "element_to_delete = default_list[-1]\n",
    "default_list.remove(element_to_delete)\n",
    "```\n",
    "\n",
    "`1 return default_list[DEFAULT_USER_COUNT-2]`\n",
    "\n",
    "При однократном вызове этой функции все работает корректно:\n",
    "```\n",
    "delete_and_return_last_user(1)\n",
    "‘A101’\n",
    "```\n",
    "\n",
    "Однако, при повторном вызове получается ошибка IndexError: list index out of range.\n",
    "\n",
    "Задание:\n",
    "\n",
    "* Что значит ошибка list index out of range?\n",
    "* Почему при первом запуске функция работает корректно, а при втором - нет?\n"
   ]
  },
  {
   "cell_type": "code",
   "execution_count": 1,
   "id": "fd81032d",
   "metadata": {},
   "outputs": [],
   "source": [
    "DEFAULT_USER_COUNT = 3\n",
    "\n",
    "def delete_and_return_last_user(region, default_list=['A100', 'A101', 'A102']):\n",
    "    \"\"\"\n",
    "    Удаляет из списка default_list последнего пользователя\n",
    "    и возвращает ID нового последнего пользователя.\n",
    "    \"\"\"\n",
    "    element_to_delete = default_list[-1]\n",
    "    default_list.remove(element_to_delete)\n",
    "    \n",
    "    return default_list[DEFAULT_USER_COUNT-2]"
   ]
  },
  {
   "cell_type": "code",
   "execution_count": 2,
   "id": "e3b88650",
   "metadata": {},
   "outputs": [
    {
     "data": {
      "text/plain": [
       "'A101'"
      ]
     },
     "execution_count": 2,
     "metadata": {},
     "output_type": "execute_result"
    }
   ],
   "source": [
    "delete_and_return_last_user(1)"
   ]
  },
  {
   "cell_type": "code",
   "execution_count": 3,
   "id": "1bef3b78",
   "metadata": {},
   "outputs": [
    {
     "ename": "IndexError",
     "evalue": "list index out of range",
     "output_type": "error",
     "traceback": [
      "\u001b[0;31m---------------------------------------------------------------------------\u001b[0m",
      "\u001b[0;31mIndexError\u001b[0m                                Traceback (most recent call last)",
      "\u001b[0;32m/tmp/ipykernel_5266/1688118135.py\u001b[0m in \u001b[0;36m<module>\u001b[0;34m\u001b[0m\n\u001b[0;32m----> 1\u001b[0;31m \u001b[0mdelete_and_return_last_user\u001b[0m\u001b[0;34m(\u001b[0m\u001b[0;36m1\u001b[0m\u001b[0;34m)\u001b[0m\u001b[0;34m\u001b[0m\u001b[0;34m\u001b[0m\u001b[0m\n\u001b[0m",
      "\u001b[0;32m/tmp/ipykernel_5266/1496437975.py\u001b[0m in \u001b[0;36mdelete_and_return_last_user\u001b[0;34m(region, default_list)\u001b[0m\n\u001b[1;32m      9\u001b[0m     \u001b[0mdefault_list\u001b[0m\u001b[0;34m.\u001b[0m\u001b[0mremove\u001b[0m\u001b[0;34m(\u001b[0m\u001b[0melement_to_delete\u001b[0m\u001b[0;34m)\u001b[0m\u001b[0;34m\u001b[0m\u001b[0;34m\u001b[0m\u001b[0m\n\u001b[1;32m     10\u001b[0m \u001b[0;34m\u001b[0m\u001b[0m\n\u001b[0;32m---> 11\u001b[0;31m     \u001b[0;32mreturn\u001b[0m \u001b[0mdefault_list\u001b[0m\u001b[0;34m[\u001b[0m\u001b[0mDEFAULT_USER_COUNT\u001b[0m\u001b[0;34m-\u001b[0m\u001b[0;36m2\u001b[0m\u001b[0;34m]\u001b[0m\u001b[0;34m\u001b[0m\u001b[0;34m\u001b[0m\u001b[0m\n\u001b[0m",
      "\u001b[0;31mIndexError\u001b[0m: list index out of range"
     ]
    }
   ],
   "source": [
    "delete_and_return_last_user(1)"
   ]
  },
  {
   "cell_type": "markdown",
   "id": "a19cce18",
   "metadata": {},
   "source": [
    "#### Ответ\n",
    "\n",
    "IndexError: индекс списка вне допустимого диапазона.\n",
    "\n",
    "На старте функция получает список с 3 значениями. В процессе работы список меняется, при первом же запуске количество значений уменьшается до 2. Когда повторно вызываем функцию, не попадаем в первоначальный диапазон и получаем ошибку."
   ]
  }
 ],
 "metadata": {
  "kernelspec": {
   "display_name": "Python 3 (ipykernel)",
   "language": "python",
   "name": "python3"
  },
  "language_info": {
   "codemirror_mode": {
    "name": "ipython",
    "version": 3
   },
   "file_extension": ".py",
   "mimetype": "text/x-python",
   "name": "python",
   "nbconvert_exporter": "python",
   "pygments_lexer": "ipython3",
   "version": "3.10.6"
  }
 },
 "nbformat": 4,
 "nbformat_minor": 5
}
